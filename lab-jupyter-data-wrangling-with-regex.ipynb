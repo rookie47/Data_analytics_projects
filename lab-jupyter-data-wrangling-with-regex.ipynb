{
 "cells": [
  {
   "cell_type": "markdown",
   "metadata": {},
   "source": [
    "<a href=\"https://cognitiveclass.ai/?utm_medium=Exinfluencer&utm_source=Exinfluencer&utm_content=000026UJ&utm_term=10006555&utm_id=NA-SkillsNetwork-Channel-SkillsNetworkCoursesIBMDeveloperSkillsNetworkRP0321ENSkillsNetwork25371262-2022-01-01\">\n",
    "    <img src=\"https://cf-courses-data.s3.us.cloud-object-storage.appdomain.cloud/IBMDeveloperSkillsNetwork-RP0101EN-Coursera/v2/M1_R_Basics/images/IDSNlogo.png\" width=\"200\" align=\"center\">\n",
    "</a>\n"
   ]
  },
  {
   "cell_type": "markdown",
   "metadata": {},
   "source": [
    "<h1>Data Wrangling with Regular Expressions</h1>\n",
    "\n",
    "Estimated time needed: **40** minutes\n"
   ]
  },
  {
   "cell_type": "markdown",
   "metadata": {},
   "source": [
    "## Lab Overview:\n",
    "\n",
    "In the previous data collection labs, you collected some raw datasets from several different sources. In this lab, you need to perform data wrangling tasks in order to improve data quality.\n"
   ]
  },
  {
   "cell_type": "markdown",
   "metadata": {},
   "source": [
    "You will again use regular expressions, along with the `stringr` package (part of `tidyverse`), to clean up the bike-sharing systems data that you previously web scraped from the wiki page:\n",
    "\n",
    "[https://en.wikipedia.org/wiki/List_of_bicycle-sharing_systems](https://en.wikipedia.org/wiki/List_of_bicycle-sharing_systems?utm_medium=Exinfluencer&utm_source=Exinfluencer&utm_content=000026UJ&utm_term=10006555&utm_id=NA-SkillsNetwork-Channel-SkillsNetworkCoursesIBMDeveloperSkillsNetworkRP0321ENSkillsNetwork25371262-2022-01-01)\n",
    "\n",
    "<a href=\"https://cognitiveclass.ai/?utm_medium=Exinfluencer&utm_source=Exinfluencer&utm_content=000026UJ&utm_term=10006555&utm_id=NA-SkillsNetwork-Channel-SkillsNetworkCoursesIBMDeveloperSkillsNetworkRP0321ENSkillsNetwork25371262-2022-01-01\">\n",
    "    <img src=\"https://cf-courses-data.s3.us.cloud-object-storage.appdomain.cloud/IBMDeveloperSkillsNetwork-RP0321EN-SkillsNetwork/labs/module_1/images/l2-list-bike-sharing-systems.png\" width=\"800\" align=\"center\">\n",
    "</a>\n"
   ]
  },
  {
   "cell_type": "markdown",
   "metadata": {},
   "source": [
    "One typical challenge of web scraping is that data extracted from HTML pages may contain unnecessary or inconsistently fomatted information.\\\n",
    "For example:\n",
    "\n",
    "*   Textual annotations in numeric fields: `1000 (Updated with 1050)`\n",
    "*   Attached reference links: `Bike sharing system [123]`\n",
    "*   Inconsistent data formats: `Yes` and `Y` for the logical value `TRUE` or `2021-04-09` and `Apr 09, 2021` for the same date\n",
    "*   HTML style tags: `<span style=\"color:blue\">Bike sharing system</span>`\n",
    "*   Special characters: `&nbsp` for a white space\n",
    "\n",
    "Many more such examples of noise may be encountered in real-world scraped data and most of such text related noises could be handled by regular expressions.\n"
   ]
  },
  {
   "cell_type": "markdown",
   "metadata": {},
   "source": [
    "To summarize, you will be using `stringr` (part of `tidyverse`) and regular expressions to perform the following data wrangling tasks:\n",
    "\n",
    "*   TASK: Standardize column names for all collected datasets\n",
    "*   TASK: Remove undesired reference links from the scraped bike-sharing systems dataset\n",
    "*   TASK: Extract only the numeric value from undesired text annotations\n"
   ]
  },
  {
   "cell_type": "markdown",
   "metadata": {},
   "source": [
    "Let's begin by importing the libraries you will use for these data wrangling tasks.\n"
   ]
  },
  {
   "cell_type": "code",
   "execution_count": 9,
   "metadata": {},
   "outputs": [],
   "source": [
    "# Check whether you need to install the `tidyverse` library\n",
    "require(\"tidyverse\")\n",
    "library(tidyverse)\n",
    "library(stringr)\n",
    "library(dplyr)"
   ]
  },
  {
   "cell_type": "markdown",
   "metadata": {},
   "source": [
    "## TASK: Standardize column names for all collected datasets\n"
   ]
  },
  {
   "cell_type": "markdown",
   "metadata": {},
   "source": [
    "In the previous data collection labs, you collected four datasets in csv format:\n",
    "\n",
    "*   `raw_bike_sharing_systems.csv`:  A list of active bike-sharing systems across the world\n",
    "*   `raw_cities_weather_forecast.csv`: 5-day weather forecasts for a list of cities, from OpenWeather API\n",
    "*   `raw_worldcities.csv`: A list of major cities' info (such as name, latitude and longitude) across the world\n",
    "*   `raw_seoul_bike_sharing.csv`: Weather information (Temperature, Humidity, Windspeed, Visibility, Dewpoint, Solar radiation, Snowfall, Rainfall), the number of bikes rented per hour, and date information, from Seoul bike-sharing systems\n"
   ]
  },
  {
   "cell_type": "markdown",
   "metadata": {},
   "source": [
    "*Optional:* If you had some difficulties finishing the data collection labs, you may download the datasets directly from the following URLs:\n"
   ]
  },
  {
   "cell_type": "code",
   "execution_count": 10,
   "metadata": {},
   "outputs": [],
   "source": [
    "# Download raw_bike_sharing_systems.csv\n",
    "url <- \"https://cf-courses-data.s3.us.cloud-object-storage.appdomain.cloud/IBMDeveloperSkillsNetwork-RP0321EN-SkillsNetwork/labs/datasets/raw_bike_sharing_systems.csv\"\n",
    "download.file(url, destfile = \"raw_bike_sharing_systems.csv\")\n",
    "\n",
    "# Download raw_cities_weather_forecast.csv\n",
    "url <- \"https://cf-courses-data.s3.us.cloud-object-storage.appdomain.cloud/IBMDeveloperSkillsNetwork-RP0321EN-SkillsNetwork/labs/datasets/raw_cities_weather_forecast.csv\"\n",
    "download.file(url, destfile = \"raw_cities_weather_forecast.csv\")\n",
    "\n",
    "# Download raw_worldcities.csv\n",
    "url <- \"https://cf-courses-data.s3.us.cloud-object-storage.appdomain.cloud/IBMDeveloperSkillsNetwork-RP0321EN-SkillsNetwork/labs/datasets/raw_worldcities.csv\"\n",
    "download.file(url, destfile = \"raw_worldcities.csv\")\n",
    "\n",
    "# Download raw_seoul_bike_sharing.csv\n",
    "url <- \"https://cf-courses-data.s3.us.cloud-object-storage.appdomain.cloud/IBMDeveloperSkillsNetwork-RP0321EN-SkillsNetwork/labs/datasets/raw_seoul_bike_sharing.csv\"\n",
    "download.file(url, destfile = \"raw_seoul_bike_sharing.csv\")"
   ]
  },
  {
   "cell_type": "markdown",
   "metadata": {},
   "source": [
    "To improve dataset readbility by both human and computer systems, we first need to standardize the column names of the datasets above using the following naming convention:\n",
    "\n",
    "*   Column names need to be UPPERCASE\n",
    "*   The word separator needs to be an underscore, such as in `COLUMN_NAME`\n"
   ]
  },
  {
   "cell_type": "code",
   "execution_count": 11,
   "metadata": {},
   "outputs": [
    {
     "data": {
      "text/html": [
       "<table class=\"dataframe\">\n",
       "<caption>A data.frame: 6 × 12</caption>\n",
       "<thead>\n",
       "\t<tr><th></th><th scope=col>city</th><th scope=col>weather</th><th scope=col>visibility</th><th scope=col>temp</th><th scope=col>temp_min</th><th scope=col>temp_max</th><th scope=col>pressure</th><th scope=col>humidity</th><th scope=col>wind_speed</th><th scope=col>wind_deg</th><th scope=col>season</th><th scope=col>forecast_datetime</th></tr>\n",
       "\t<tr><th></th><th scope=col>&lt;chr&gt;</th><th scope=col>&lt;chr&gt;</th><th scope=col>&lt;int&gt;</th><th scope=col>&lt;dbl&gt;</th><th scope=col>&lt;dbl&gt;</th><th scope=col>&lt;dbl&gt;</th><th scope=col>&lt;int&gt;</th><th scope=col>&lt;int&gt;</th><th scope=col>&lt;dbl&gt;</th><th scope=col>&lt;int&gt;</th><th scope=col>&lt;chr&gt;</th><th scope=col>&lt;chr&gt;</th></tr>\n",
       "</thead>\n",
       "<tbody>\n",
       "\t<tr><th scope=row>1</th><td>Seoul</td><td>Clear </td><td>10000</td><td>12.32</td><td>10.91</td><td>12.32</td><td>1015</td><td>50</td><td>2.18</td><td>248</td><td>Spring</td><td>2021-04-16 12:00:00</td></tr>\n",
       "\t<tr><th scope=row>2</th><td>Seoul</td><td>Clear </td><td>10000</td><td>11.48</td><td> 9.81</td><td>11.48</td><td>1016</td><td>48</td><td>1.25</td><td>142</td><td>Spring</td><td>2021-04-16 15:00:00</td></tr>\n",
       "\t<tr><th scope=row>3</th><td>Seoul</td><td>Clouds</td><td>10000</td><td> 9.99</td><td> 8.82</td><td> 9.99</td><td>1015</td><td>46</td><td>0.94</td><td>130</td><td>Spring</td><td>2021-04-16 18:00:00</td></tr>\n",
       "\t<tr><th scope=row>4</th><td>Seoul</td><td>Clouds</td><td>10000</td><td> 7.87</td><td> 7.87</td><td> 7.87</td><td>1014</td><td>46</td><td>0.83</td><td> 31</td><td>Spring</td><td>2021-04-16 21:00:00</td></tr>\n",
       "\t<tr><th scope=row>5</th><td>Seoul</td><td>Clouds</td><td>10000</td><td>10.09</td><td>10.09</td><td>10.09</td><td>1014</td><td>37</td><td>1.96</td><td>309</td><td>Spring</td><td>2021-04-17 00:00:00</td></tr>\n",
       "\t<tr><th scope=row>6</th><td>Seoul</td><td>Rain  </td><td>10000</td><td> 9.74</td><td> 9.74</td><td> 9.74</td><td>1014</td><td>48</td><td>3.24</td><td>267</td><td>Spring</td><td>2021-04-17 03:00:00</td></tr>\n",
       "</tbody>\n",
       "</table>\n"
      ],
      "text/latex": [
       "A data.frame: 6 × 12\n",
       "\\begin{tabular}{r|llllllllllll}\n",
       "  & city & weather & visibility & temp & temp\\_min & temp\\_max & pressure & humidity & wind\\_speed & wind\\_deg & season & forecast\\_datetime\\\\\n",
       "  & <chr> & <chr> & <int> & <dbl> & <dbl> & <dbl> & <int> & <int> & <dbl> & <int> & <chr> & <chr>\\\\\n",
       "\\hline\n",
       "\t1 & Seoul & Clear  & 10000 & 12.32 & 10.91 & 12.32 & 1015 & 50 & 2.18 & 248 & Spring & 2021-04-16 12:00:00\\\\\n",
       "\t2 & Seoul & Clear  & 10000 & 11.48 &  9.81 & 11.48 & 1016 & 48 & 1.25 & 142 & Spring & 2021-04-16 15:00:00\\\\\n",
       "\t3 & Seoul & Clouds & 10000 &  9.99 &  8.82 &  9.99 & 1015 & 46 & 0.94 & 130 & Spring & 2021-04-16 18:00:00\\\\\n",
       "\t4 & Seoul & Clouds & 10000 &  7.87 &  7.87 &  7.87 & 1014 & 46 & 0.83 &  31 & Spring & 2021-04-16 21:00:00\\\\\n",
       "\t5 & Seoul & Clouds & 10000 & 10.09 & 10.09 & 10.09 & 1014 & 37 & 1.96 & 309 & Spring & 2021-04-17 00:00:00\\\\\n",
       "\t6 & Seoul & Rain   & 10000 &  9.74 &  9.74 &  9.74 & 1014 & 48 & 3.24 & 267 & Spring & 2021-04-17 03:00:00\\\\\n",
       "\\end{tabular}\n"
      ],
      "text/markdown": [
       "\n",
       "A data.frame: 6 × 12\n",
       "\n",
       "| <!--/--> | city &lt;chr&gt; | weather &lt;chr&gt; | visibility &lt;int&gt; | temp &lt;dbl&gt; | temp_min &lt;dbl&gt; | temp_max &lt;dbl&gt; | pressure &lt;int&gt; | humidity &lt;int&gt; | wind_speed &lt;dbl&gt; | wind_deg &lt;int&gt; | season &lt;chr&gt; | forecast_datetime &lt;chr&gt; |\n",
       "|---|---|---|---|---|---|---|---|---|---|---|---|---|\n",
       "| 1 | Seoul | Clear  | 10000 | 12.32 | 10.91 | 12.32 | 1015 | 50 | 2.18 | 248 | Spring | 2021-04-16 12:00:00 |\n",
       "| 2 | Seoul | Clear  | 10000 | 11.48 |  9.81 | 11.48 | 1016 | 48 | 1.25 | 142 | Spring | 2021-04-16 15:00:00 |\n",
       "| 3 | Seoul | Clouds | 10000 |  9.99 |  8.82 |  9.99 | 1015 | 46 | 0.94 | 130 | Spring | 2021-04-16 18:00:00 |\n",
       "| 4 | Seoul | Clouds | 10000 |  7.87 |  7.87 |  7.87 | 1014 | 46 | 0.83 |  31 | Spring | 2021-04-16 21:00:00 |\n",
       "| 5 | Seoul | Clouds | 10000 | 10.09 | 10.09 | 10.09 | 1014 | 37 | 1.96 | 309 | Spring | 2021-04-17 00:00:00 |\n",
       "| 6 | Seoul | Rain   | 10000 |  9.74 |  9.74 |  9.74 | 1014 | 48 | 3.24 | 267 | Spring | 2021-04-17 03:00:00 |\n",
       "\n"
      ],
      "text/plain": [
       "  city  weather visibility temp  temp_min temp_max pressure humidity wind_speed\n",
       "1 Seoul Clear   10000      12.32 10.91    12.32    1015     50       2.18      \n",
       "2 Seoul Clear   10000      11.48  9.81    11.48    1016     48       1.25      \n",
       "3 Seoul Clouds  10000       9.99  8.82     9.99    1015     46       0.94      \n",
       "4 Seoul Clouds  10000       7.87  7.87     7.87    1014     46       0.83      \n",
       "5 Seoul Clouds  10000      10.09 10.09    10.09    1014     37       1.96      \n",
       "6 Seoul Rain    10000       9.74  9.74     9.74    1014     48       3.24      \n",
       "  wind_deg season forecast_datetime  \n",
       "1 248      Spring 2021-04-16 12:00:00\n",
       "2 142      Spring 2021-04-16 15:00:00\n",
       "3 130      Spring 2021-04-16 18:00:00\n",
       "4  31      Spring 2021-04-16 21:00:00\n",
       "5 309      Spring 2021-04-17 00:00:00\n",
       "6 267      Spring 2021-04-17 03:00:00"
      ]
     },
     "metadata": {},
     "output_type": "display_data"
    },
    {
     "data": {
      "text/html": [
       "<table class=\"dataframe\">\n",
       "<caption>A data.frame: 6 × 14</caption>\n",
       "<thead>\n",
       "\t<tr><th></th><th scope=col>Date</th><th scope=col>RENTED_BIKE_COUNT</th><th scope=col>Hour</th><th scope=col>TEMPERATURE</th><th scope=col>HUMIDITY</th><th scope=col>WIND_SPEED</th><th scope=col>Visibility</th><th scope=col>DEW_POINT_TEMPERATURE</th><th scope=col>SOLAR_RADIATION</th><th scope=col>RAINFALL</th><th scope=col>Snowfall</th><th scope=col>SEASONS</th><th scope=col>HOLIDAY</th><th scope=col>FUNCTIONING_DAY</th></tr>\n",
       "\t<tr><th></th><th scope=col>&lt;chr&gt;</th><th scope=col>&lt;int&gt;</th><th scope=col>&lt;int&gt;</th><th scope=col>&lt;dbl&gt;</th><th scope=col>&lt;int&gt;</th><th scope=col>&lt;dbl&gt;</th><th scope=col>&lt;int&gt;</th><th scope=col>&lt;dbl&gt;</th><th scope=col>&lt;dbl&gt;</th><th scope=col>&lt;dbl&gt;</th><th scope=col>&lt;dbl&gt;</th><th scope=col>&lt;chr&gt;</th><th scope=col>&lt;chr&gt;</th><th scope=col>&lt;chr&gt;</th></tr>\n",
       "</thead>\n",
       "<tbody>\n",
       "\t<tr><th scope=row>1</th><td>01/12/2017</td><td>254</td><td>0</td><td>-5.2</td><td>37</td><td>2.2</td><td>2000</td><td>-17.6</td><td>0</td><td>0</td><td>0</td><td>Winter</td><td>No Holiday</td><td>Yes</td></tr>\n",
       "\t<tr><th scope=row>2</th><td>01/12/2017</td><td>204</td><td>1</td><td>-5.5</td><td>38</td><td>0.8</td><td>2000</td><td>-17.6</td><td>0</td><td>0</td><td>0</td><td>Winter</td><td>No Holiday</td><td>Yes</td></tr>\n",
       "\t<tr><th scope=row>3</th><td>01/12/2017</td><td>173</td><td>2</td><td>-6.0</td><td>39</td><td>1.0</td><td>2000</td><td>-17.7</td><td>0</td><td>0</td><td>0</td><td>Winter</td><td>No Holiday</td><td>Yes</td></tr>\n",
       "\t<tr><th scope=row>4</th><td>01/12/2017</td><td>107</td><td>3</td><td>-6.2</td><td>40</td><td>0.9</td><td>2000</td><td>-17.6</td><td>0</td><td>0</td><td>0</td><td>Winter</td><td>No Holiday</td><td>Yes</td></tr>\n",
       "\t<tr><th scope=row>5</th><td>01/12/2017</td><td> 78</td><td>4</td><td>-6.0</td><td>36</td><td>2.3</td><td>2000</td><td>-18.6</td><td>0</td><td>0</td><td>0</td><td>Winter</td><td>No Holiday</td><td>Yes</td></tr>\n",
       "\t<tr><th scope=row>6</th><td>01/12/2017</td><td>100</td><td>5</td><td>-6.4</td><td>37</td><td>1.5</td><td>2000</td><td>-18.7</td><td>0</td><td>0</td><td>0</td><td>Winter</td><td>No Holiday</td><td>Yes</td></tr>\n",
       "</tbody>\n",
       "</table>\n"
      ],
      "text/latex": [
       "A data.frame: 6 × 14\n",
       "\\begin{tabular}{r|llllllllllllll}\n",
       "  & Date & RENTED\\_BIKE\\_COUNT & Hour & TEMPERATURE & HUMIDITY & WIND\\_SPEED & Visibility & DEW\\_POINT\\_TEMPERATURE & SOLAR\\_RADIATION & RAINFALL & Snowfall & SEASONS & HOLIDAY & FUNCTIONING\\_DAY\\\\\n",
       "  & <chr> & <int> & <int> & <dbl> & <int> & <dbl> & <int> & <dbl> & <dbl> & <dbl> & <dbl> & <chr> & <chr> & <chr>\\\\\n",
       "\\hline\n",
       "\t1 & 01/12/2017 & 254 & 0 & -5.2 & 37 & 2.2 & 2000 & -17.6 & 0 & 0 & 0 & Winter & No Holiday & Yes\\\\\n",
       "\t2 & 01/12/2017 & 204 & 1 & -5.5 & 38 & 0.8 & 2000 & -17.6 & 0 & 0 & 0 & Winter & No Holiday & Yes\\\\\n",
       "\t3 & 01/12/2017 & 173 & 2 & -6.0 & 39 & 1.0 & 2000 & -17.7 & 0 & 0 & 0 & Winter & No Holiday & Yes\\\\\n",
       "\t4 & 01/12/2017 & 107 & 3 & -6.2 & 40 & 0.9 & 2000 & -17.6 & 0 & 0 & 0 & Winter & No Holiday & Yes\\\\\n",
       "\t5 & 01/12/2017 &  78 & 4 & -6.0 & 36 & 2.3 & 2000 & -18.6 & 0 & 0 & 0 & Winter & No Holiday & Yes\\\\\n",
       "\t6 & 01/12/2017 & 100 & 5 & -6.4 & 37 & 1.5 & 2000 & -18.7 & 0 & 0 & 0 & Winter & No Holiday & Yes\\\\\n",
       "\\end{tabular}\n"
      ],
      "text/markdown": [
       "\n",
       "A data.frame: 6 × 14\n",
       "\n",
       "| <!--/--> | Date &lt;chr&gt; | RENTED_BIKE_COUNT &lt;int&gt; | Hour &lt;int&gt; | TEMPERATURE &lt;dbl&gt; | HUMIDITY &lt;int&gt; | WIND_SPEED &lt;dbl&gt; | Visibility &lt;int&gt; | DEW_POINT_TEMPERATURE &lt;dbl&gt; | SOLAR_RADIATION &lt;dbl&gt; | RAINFALL &lt;dbl&gt; | Snowfall &lt;dbl&gt; | SEASONS &lt;chr&gt; | HOLIDAY &lt;chr&gt; | FUNCTIONING_DAY &lt;chr&gt; |\n",
       "|---|---|---|---|---|---|---|---|---|---|---|---|---|---|---|\n",
       "| 1 | 01/12/2017 | 254 | 0 | -5.2 | 37 | 2.2 | 2000 | -17.6 | 0 | 0 | 0 | Winter | No Holiday | Yes |\n",
       "| 2 | 01/12/2017 | 204 | 1 | -5.5 | 38 | 0.8 | 2000 | -17.6 | 0 | 0 | 0 | Winter | No Holiday | Yes |\n",
       "| 3 | 01/12/2017 | 173 | 2 | -6.0 | 39 | 1.0 | 2000 | -17.7 | 0 | 0 | 0 | Winter | No Holiday | Yes |\n",
       "| 4 | 01/12/2017 | 107 | 3 | -6.2 | 40 | 0.9 | 2000 | -17.6 | 0 | 0 | 0 | Winter | No Holiday | Yes |\n",
       "| 5 | 01/12/2017 |  78 | 4 | -6.0 | 36 | 2.3 | 2000 | -18.6 | 0 | 0 | 0 | Winter | No Holiday | Yes |\n",
       "| 6 | 01/12/2017 | 100 | 5 | -6.4 | 37 | 1.5 | 2000 | -18.7 | 0 | 0 | 0 | Winter | No Holiday | Yes |\n",
       "\n"
      ],
      "text/plain": [
       "  Date       RENTED_BIKE_COUNT Hour TEMPERATURE HUMIDITY WIND_SPEED Visibility\n",
       "1 01/12/2017 254               0    -5.2        37       2.2        2000      \n",
       "2 01/12/2017 204               1    -5.5        38       0.8        2000      \n",
       "3 01/12/2017 173               2    -6.0        39       1.0        2000      \n",
       "4 01/12/2017 107               3    -6.2        40       0.9        2000      \n",
       "5 01/12/2017  78               4    -6.0        36       2.3        2000      \n",
       "6 01/12/2017 100               5    -6.4        37       1.5        2000      \n",
       "  DEW_POINT_TEMPERATURE SOLAR_RADIATION RAINFALL Snowfall SEASONS HOLIDAY   \n",
       "1 -17.6                 0               0        0        Winter  No Holiday\n",
       "2 -17.6                 0               0        0        Winter  No Holiday\n",
       "3 -17.7                 0               0        0        Winter  No Holiday\n",
       "4 -17.6                 0               0        0        Winter  No Holiday\n",
       "5 -18.6                 0               0        0        Winter  No Holiday\n",
       "6 -18.7                 0               0        0        Winter  No Holiday\n",
       "  FUNCTIONING_DAY\n",
       "1 Yes            \n",
       "2 Yes            \n",
       "3 Yes            \n",
       "4 Yes            \n",
       "5 Yes            \n",
       "6 Yes            "
      ]
     },
     "metadata": {},
     "output_type": "display_data"
    },
    {
     "data": {
      "text/html": [
       "<table class=\"dataframe\">\n",
       "<caption>A data.frame: 6 × 10</caption>\n",
       "<thead>\n",
       "\t<tr><th></th><th scope=col>COUNTRY</th><th scope=col>City</th><th scope=col>Name</th><th scope=col>SYSTEM</th><th scope=col>OPERATOR</th><th scope=col>LAUNCHED</th><th scope=col>DISCONTINUED</th><th scope=col>STATIONS</th><th scope=col>BICYCLES</th><th scope=col>DAILY_RIDERSHIP</th></tr>\n",
       "\t<tr><th></th><th scope=col>&lt;chr&gt;</th><th scope=col>&lt;chr&gt;</th><th scope=col>&lt;chr&gt;</th><th scope=col>&lt;chr&gt;</th><th scope=col>&lt;chr&gt;</th><th scope=col>&lt;chr&gt;</th><th scope=col>&lt;chr&gt;</th><th scope=col>&lt;chr&gt;</th><th scope=col>&lt;chr&gt;</th><th scope=col>&lt;chr&gt;</th></tr>\n",
       "</thead>\n",
       "<tbody>\n",
       "\t<tr><th scope=row>1</th><td>Albania  </td><td>Tirana               </td><td>Ecovolis            </td><td>NA            </td><td>NA                            </td><td>March 2011      </td><td>NA                  </td><td>8  </td><td>200 </td><td>NA   </td></tr>\n",
       "\t<tr><th scope=row>2</th><td>Argentina</td><td>Mendoza              </td><td>Metrobici           </td><td>NA            </td><td>NA                            </td><td>2014            </td><td>NA                  </td><td>2  </td><td>40  </td><td>NA   </td></tr>\n",
       "\t<tr><th scope=row>3</th><td>Argentina</td><td>San Lorenzo, Santa Fe</td><td>Biciudad            </td><td>Biciudad      </td><td>NA                            </td><td>27 November 2016</td><td>NA                  </td><td>8  </td><td>80  </td><td>NA   </td></tr>\n",
       "\t<tr><th scope=row>4</th><td>Argentina</td><td>Buenos Aires         </td><td>Ecobici             </td><td>Serttel Brasil</td><td>Bike In Baires Consortium.[10]</td><td>2010            </td><td>NA                  </td><td>400</td><td>4000</td><td>21917</td></tr>\n",
       "\t<tr><th scope=row>5</th><td>Argentina</td><td>Rosario              </td><td>Mi Bici Tu Bici[11] </td><td>NA            </td><td>NA                            </td><td>2 December 2015 </td><td>NA                  </td><td>47 </td><td>480 </td><td>NA   </td></tr>\n",
       "\t<tr><th scope=row>6</th><td>Australia</td><td><span style=white-space:pre-wrap>Melbourne[12]        </span></td><td>Melbourne Bike Share</td><td><span style=white-space:pre-wrap>PBSC &amp; 8D     </span></td><td><span style=white-space:pre-wrap>Motivate                      </span></td><td><span style=white-space:pre-wrap>June 2010       </span></td><td>30 November 2019[13]</td><td>53 </td><td>676 </td><td><span style=white-space:pre-wrap>NA   </span></td></tr>\n",
       "</tbody>\n",
       "</table>\n"
      ],
      "text/latex": [
       "A data.frame: 6 × 10\n",
       "\\begin{tabular}{r|llllllllll}\n",
       "  & COUNTRY & City & Name & SYSTEM & OPERATOR & LAUNCHED & DISCONTINUED & STATIONS & BICYCLES & DAILY\\_RIDERSHIP\\\\\n",
       "  & <chr> & <chr> & <chr> & <chr> & <chr> & <chr> & <chr> & <chr> & <chr> & <chr>\\\\\n",
       "\\hline\n",
       "\t1 & Albania   & Tirana                & Ecovolis             & NA             & NA                             & March 2011       & NA                   & 8   & 200  & NA   \\\\\n",
       "\t2 & Argentina & Mendoza               & Metrobici            & NA             & NA                             & 2014             & NA                   & 2   & 40   & NA   \\\\\n",
       "\t3 & Argentina & San Lorenzo, Santa Fe & Biciudad             & Biciudad       & NA                             & 27 November 2016 & NA                   & 8   & 80   & NA   \\\\\n",
       "\t4 & Argentina & Buenos Aires          & Ecobici              & Serttel Brasil & Bike In Baires Consortium.{[}10{]} & 2010             & NA                   & 400 & 4000 & 21917\\\\\n",
       "\t5 & Argentina & Rosario               & Mi Bici Tu Bici{[}11{]}  & NA             & NA                             & 2 December 2015  & NA                   & 47  & 480  & NA   \\\\\n",
       "\t6 & Australia & Melbourne{[}12{]}         & Melbourne Bike Share & PBSC \\& 8D      & Motivate                       & June 2010        & 30 November 2019{[}13{]} & 53  & 676  & NA   \\\\\n",
       "\\end{tabular}\n"
      ],
      "text/markdown": [
       "\n",
       "A data.frame: 6 × 10\n",
       "\n",
       "| <!--/--> | COUNTRY &lt;chr&gt; | City &lt;chr&gt; | Name &lt;chr&gt; | SYSTEM &lt;chr&gt; | OPERATOR &lt;chr&gt; | LAUNCHED &lt;chr&gt; | DISCONTINUED &lt;chr&gt; | STATIONS &lt;chr&gt; | BICYCLES &lt;chr&gt; | DAILY_RIDERSHIP &lt;chr&gt; |\n",
       "|---|---|---|---|---|---|---|---|---|---|---|\n",
       "| 1 | Albania   | Tirana                | Ecovolis             | NA             | NA                             | March 2011       | NA                   | 8   | 200  | NA    |\n",
       "| 2 | Argentina | Mendoza               | Metrobici            | NA             | NA                             | 2014             | NA                   | 2   | 40   | NA    |\n",
       "| 3 | Argentina | San Lorenzo, Santa Fe | Biciudad             | Biciudad       | NA                             | 27 November 2016 | NA                   | 8   | 80   | NA    |\n",
       "| 4 | Argentina | Buenos Aires          | Ecobici              | Serttel Brasil | Bike In Baires Consortium.[10] | 2010             | NA                   | 400 | 4000 | 21917 |\n",
       "| 5 | Argentina | Rosario               | Mi Bici Tu Bici[11]  | NA             | NA                             | 2 December 2015  | NA                   | 47  | 480  | NA    |\n",
       "| 6 | Australia | Melbourne[12]         | Melbourne Bike Share | PBSC &amp; 8D      | Motivate                       | June 2010        | 30 November 2019[13] | 53  | 676  | NA    |\n",
       "\n"
      ],
      "text/plain": [
       "  COUNTRY   City                  Name                 SYSTEM        \n",
       "1 Albania   Tirana                Ecovolis             NA            \n",
       "2 Argentina Mendoza               Metrobici            NA            \n",
       "3 Argentina San Lorenzo, Santa Fe Biciudad             Biciudad      \n",
       "4 Argentina Buenos Aires          Ecobici              Serttel Brasil\n",
       "5 Argentina Rosario               Mi Bici Tu Bici[11]  NA            \n",
       "6 Australia Melbourne[12]         Melbourne Bike Share PBSC & 8D     \n",
       "  OPERATOR                       LAUNCHED         DISCONTINUED         STATIONS\n",
       "1 NA                             March 2011       NA                   8       \n",
       "2 NA                             2014             NA                   2       \n",
       "3 NA                             27 November 2016 NA                   8       \n",
       "4 Bike In Baires Consortium.[10] 2010             NA                   400     \n",
       "5 NA                             2 December 2015  NA                   47      \n",
       "6 Motivate                       June 2010        30 November 2019[13] 53      \n",
       "  BICYCLES DAILY_RIDERSHIP\n",
       "1 200      NA             \n",
       "2 40       NA             \n",
       "3 80       NA             \n",
       "4 4000     21917          \n",
       "5 480      NA             \n",
       "6 676      NA             "
      ]
     },
     "metadata": {},
     "output_type": "display_data"
    },
    {
     "data": {
      "text/html": [
       "<table class=\"dataframe\">\n",
       "<caption>A data.frame: 6 × 11</caption>\n",
       "<thead>\n",
       "\t<tr><th></th><th scope=col>City</th><th scope=col>CITY_ASCII</th><th scope=col>LAT</th><th scope=col>LNG</th><th scope=col>COUNTRY</th><th scope=col>ISO2</th><th scope=col>ISO3</th><th scope=col>ADMIN_NAME</th><th scope=col>CAPITAL</th><th scope=col>POPULATION</th><th scope=col>ID</th></tr>\n",
       "\t<tr><th></th><th scope=col>&lt;chr&gt;</th><th scope=col>&lt;chr&gt;</th><th scope=col>&lt;dbl&gt;</th><th scope=col>&lt;dbl&gt;</th><th scope=col>&lt;chr&gt;</th><th scope=col>&lt;chr&gt;</th><th scope=col>&lt;chr&gt;</th><th scope=col>&lt;chr&gt;</th><th scope=col>&lt;chr&gt;</th><th scope=col>&lt;dbl&gt;</th><th scope=col>&lt;dbl&gt;</th></tr>\n",
       "</thead>\n",
       "<tbody>\n",
       "\t<tr><th scope=row>1</th><td>Tokyo   </td><td>Tokyo   </td><td>35.6897</td><td>139.6922</td><td>Japan      </td><td>JP</td><td>JPN</td><td>TÅkyÅ      </td><td>primary</td><td>37977000</td><td>1392685764</td></tr>\n",
       "\t<tr><th scope=row>2</th><td>Jakarta </td><td>Jakarta </td><td>-6.2146</td><td>106.8451</td><td>Indonesia  </td><td>ID</td><td>IDN</td><td>Jakarta      </td><td>primary</td><td>34540000</td><td>1360771077</td></tr>\n",
       "\t<tr><th scope=row>3</th><td>Delhi   </td><td>Delhi   </td><td>28.6600</td><td> 77.2300</td><td>India      </td><td>IN</td><td>IND</td><td>Delhi        </td><td>admin  </td><td>29617000</td><td>1356872604</td></tr>\n",
       "\t<tr><th scope=row>4</th><td>Mumbai  </td><td>Mumbai  </td><td>18.9667</td><td> 72.8333</td><td>India      </td><td>IN</td><td>IND</td><td>MahÄrÄshtra</td><td>admin  </td><td>23355000</td><td>1356226629</td></tr>\n",
       "\t<tr><th scope=row>5</th><td>Manila  </td><td>Manila  </td><td>14.5958</td><td>120.9772</td><td>Philippines</td><td>PH</td><td>PHL</td><td>Manila       </td><td>primary</td><td>23088000</td><td>1608618140</td></tr>\n",
       "\t<tr><th scope=row>6</th><td>Shanghai</td><td>Shanghai</td><td>31.1667</td><td>121.4667</td><td>China      </td><td>CN</td><td>CHN</td><td>Shanghai     </td><td>admin  </td><td>22120000</td><td>1156073548</td></tr>\n",
       "</tbody>\n",
       "</table>\n"
      ],
      "text/latex": [
       "A data.frame: 6 × 11\n",
       "\\begin{tabular}{r|lllllllllll}\n",
       "  & City & CITY\\_ASCII & LAT & LNG & COUNTRY & ISO2 & ISO3 & ADMIN\\_NAME & CAPITAL & POPULATION & ID\\\\\n",
       "  & <chr> & <chr> & <dbl> & <dbl> & <chr> & <chr> & <chr> & <chr> & <chr> & <dbl> & <dbl>\\\\\n",
       "\\hline\n",
       "\t1 & Tokyo    & Tokyo    & 35.6897 & 139.6922 & Japan       & JP & JPN & TÅkyÅ       & primary & 37977000 & 1392685764\\\\\n",
       "\t2 & Jakarta  & Jakarta  & -6.2146 & 106.8451 & Indonesia   & ID & IDN & Jakarta       & primary & 34540000 & 1360771077\\\\\n",
       "\t3 & Delhi    & Delhi    & 28.6600 &  77.2300 & India       & IN & IND & Delhi         & admin   & 29617000 & 1356872604\\\\\n",
       "\t4 & Mumbai   & Mumbai   & 18.9667 &  72.8333 & India       & IN & IND & MahÄrÄshtra & admin   & 23355000 & 1356226629\\\\\n",
       "\t5 & Manila   & Manila   & 14.5958 & 120.9772 & Philippines & PH & PHL & Manila        & primary & 23088000 & 1608618140\\\\\n",
       "\t6 & Shanghai & Shanghai & 31.1667 & 121.4667 & China       & CN & CHN & Shanghai      & admin   & 22120000 & 1156073548\\\\\n",
       "\\end{tabular}\n"
      ],
      "text/markdown": [
       "\n",
       "A data.frame: 6 × 11\n",
       "\n",
       "| <!--/--> | City &lt;chr&gt; | CITY_ASCII &lt;chr&gt; | LAT &lt;dbl&gt; | LNG &lt;dbl&gt; | COUNTRY &lt;chr&gt; | ISO2 &lt;chr&gt; | ISO3 &lt;chr&gt; | ADMIN_NAME &lt;chr&gt; | CAPITAL &lt;chr&gt; | POPULATION &lt;dbl&gt; | ID &lt;dbl&gt; |\n",
       "|---|---|---|---|---|---|---|---|---|---|---|---|\n",
       "| 1 | Tokyo    | Tokyo    | 35.6897 | 139.6922 | Japan       | JP | JPN | TÅkyÅ       | primary | 37977000 | 1392685764 |\n",
       "| 2 | Jakarta  | Jakarta  | -6.2146 | 106.8451 | Indonesia   | ID | IDN | Jakarta       | primary | 34540000 | 1360771077 |\n",
       "| 3 | Delhi    | Delhi    | 28.6600 |  77.2300 | India       | IN | IND | Delhi         | admin   | 29617000 | 1356872604 |\n",
       "| 4 | Mumbai   | Mumbai   | 18.9667 |  72.8333 | India       | IN | IND | MahÄrÄshtra | admin   | 23355000 | 1356226629 |\n",
       "| 5 | Manila   | Manila   | 14.5958 | 120.9772 | Philippines | PH | PHL | Manila        | primary | 23088000 | 1608618140 |\n",
       "| 6 | Shanghai | Shanghai | 31.1667 | 121.4667 | China       | CN | CHN | Shanghai      | admin   | 22120000 | 1156073548 |\n",
       "\n"
      ],
      "text/plain": [
       "  City     CITY_ASCII LAT     LNG      COUNTRY     ISO2 ISO3 ADMIN_NAME   \n",
       "1 Tokyo    Tokyo      35.6897 139.6922 Japan       JP   JPN  TÅ\\215kyÅ\\215      \n",
       "2 Jakarta  Jakarta    -6.2146 106.8451 Indonesia   ID   IDN  Jakarta      \n",
       "3 Delhi    Delhi      28.6600  77.2300 India       IN   IND  Delhi        \n",
       "4 Mumbai   Mumbai     18.9667  72.8333 India       IN   IND  MahÄ\\201rÄ\\201shtra\n",
       "5 Manila   Manila     14.5958 120.9772 Philippines PH   PHL  Manila       \n",
       "6 Shanghai Shanghai   31.1667 121.4667 China       CN   CHN  Shanghai     \n",
       "  CAPITAL POPULATION ID        \n",
       "1 primary 37977000   1392685764\n",
       "2 primary 34540000   1360771077\n",
       "3 admin   29617000   1356872604\n",
       "4 admin   23355000   1356226629\n",
       "5 primary 23088000   1608618140\n",
       "6 admin   22120000   1156073548"
      ]
     },
     "metadata": {},
     "output_type": "display_data"
    }
   ],
   "source": [
    "bikes<-read.csv(\"raw_bike_sharing_systems.csv\")\n",
    "seoul_bike<-read.csv(\"raw_seoul_bike_sharing.csv\")\n",
    "cities_weather<-read.csv(\"raw_cities_weather_forecast.csv\")\n",
    "worldcities_weather<-read.csv(\"raw_worldcities.csv\")\n",
    "head(cities_weather)\n",
    "head(seoul_bike)\n",
    "head(bikes)\n",
    "head(worldcities_weather)"
   ]
  },
  {
   "cell_type": "markdown",
   "metadata": {},
   "source": [
    "You can use the following dataset list and the `names()` function to get and set each of their column names, and convert them according to our defined naming convention.\n"
   ]
  },
  {
   "cell_type": "code",
   "execution_count": 12,
   "metadata": {},
   "outputs": [],
   "source": [
    "dataset_list <- c('raw_bike_sharing_systems.csv', 'raw_seoul_bike_sharing.csv', 'raw_cities_weather_forecast.csv', 'raw_worldcities.csv')"
   ]
  },
  {
   "cell_type": "markdown",
   "metadata": {},
   "source": [
    "*TODO*: Write a `for` loop to iterate over the above datasets and convert their column names\n"
   ]
  },
  {
   "cell_type": "code",
   "execution_count": 13,
   "metadata": {},
   "outputs": [
    {
     "name": "stderr",
     "output_type": "stream",
     "text": [
      "\u001b[1mRows: \u001b[22m\u001b[34m480\u001b[39m \u001b[1mColumns: \u001b[22m\u001b[34m10\u001b[39m\n",
      "\u001b[36m--\u001b[39m \u001b[1mColumn specification\u001b[22m \u001b[36m--------------------------------------------------------\u001b[39m\n",
      "\u001b[1mDelimiter:\u001b[22m \",\"\n",
      "\u001b[31mchr\u001b[39m (10): COUNTRY, CITY, NAME, SYSTEM, OPERATOR, LAUNCHED, DISCONTINUED, STA...\n",
      "\n",
      "\u001b[36mi\u001b[39m Use `spec()` to retrieve the full column specification for this data.\n",
      "\u001b[36mi\u001b[39m Specify the column types or set `show_col_types = FALSE` to quiet this message.\n",
      "Warning message:\n",
      "\"`funs()` was deprecated in dplyr 0.8.0.\n",
      "Please use a list of either functions or lambdas: \n",
      "\n",
      "  # Simple named list: \n",
      "  list(mean = mean, median = median)\n",
      "\n",
      "  # Auto named with `tibble::lst()`: \n",
      "  tibble::lst(mean, median)\n",
      "\n",
      "  # Using lambdas\n",
      "  list(~ mean(., trim = .2), ~ median(., na.rm = TRUE))\n",
      "\u001b[90mThis warning is displayed once every 8 hours.\u001b[39m\n",
      "\u001b[90mCall `lifecycle::last_lifecycle_warnings()` to see where this warning was generated.\u001b[39m\"\n"
     ]
    },
    {
     "name": "stdout",
     "output_type": "stream",
     "text": [
      "\u001b[90m# A tibble: 480 x 10\u001b[39m\n",
      "   COUNTRY   CITY  NAME  SYSTEM OPERATOR LAUNCHED DISCONTINUED STATIONS BICYCLES\n",
      "   \u001b[3m\u001b[90m<chr>\u001b[39m\u001b[23m     \u001b[3m\u001b[90m<chr>\u001b[39m\u001b[23m \u001b[3m\u001b[90m<chr>\u001b[39m\u001b[23m \u001b[3m\u001b[90m<chr>\u001b[39m\u001b[23m  \u001b[3m\u001b[90m<chr>\u001b[39m\u001b[23m    \u001b[3m\u001b[90m<chr>\u001b[39m\u001b[23m    \u001b[3m\u001b[90m<chr>\u001b[39m\u001b[23m        \u001b[3m\u001b[90m<chr>\u001b[39m\u001b[23m    \u001b[3m\u001b[90m<chr>\u001b[39m\u001b[23m   \n",
      "\u001b[90m 1\u001b[39m Albania   Tira~ Ecov~ \u001b[31mNA\u001b[39m     \u001b[31mNA\u001b[39m       March_2~ \u001b[31mNA\u001b[39m           8        200     \n",
      "\u001b[90m 2\u001b[39m Argentina Mend~ Metr~ \u001b[31mNA\u001b[39m     \u001b[31mNA\u001b[39m       2014     \u001b[31mNA\u001b[39m           2        40      \n",
      "\u001b[90m 3\u001b[39m Argentina San_~ Bici~ Biciu~ \u001b[31mNA\u001b[39m       27_Nove~ \u001b[31mNA\u001b[39m           8        80      \n",
      "\u001b[90m 4\u001b[39m Argentina Buen~ Ecob~ Sertt~ Bike_In~ 2010     \u001b[31mNA\u001b[39m           400      4000    \n",
      "\u001b[90m 5\u001b[39m Argentina Rosa~ Mi_B~ \u001b[31mNA\u001b[39m     \u001b[31mNA\u001b[39m       2_Decem~ \u001b[31mNA\u001b[39m           47       480     \n",
      "\u001b[90m 6\u001b[39m Australia Melb~ Melb~ PBSC_~ Motivate June_20~ 30_November~ 53       676     \n",
      "\u001b[90m 7\u001b[39m Australia Bris~ City~ 3_Gen~ JCDecaux Septemb~ \u001b[31mNA\u001b[39m           150      2000    \n",
      "\u001b[90m 8\u001b[39m Australia Melb~ oBike 4_Gen~ \u001b[31mNA\u001b[39m       July_20~ July_2018    dockless 1250    \n",
      "\u001b[90m 9\u001b[39m Australia Sydn~ oBike 4_Gen~ \u001b[31mNA\u001b[39m       July_20~ July_2018    dockless 1250    \n",
      "\u001b[90m10\u001b[39m Australia Sydn~ Ofo   4_Gen~ \u001b[31mNA\u001b[39m       October~ \u001b[31mNA\u001b[39m           dockless 600     \n",
      "\u001b[90m# ... with 470 more rows, and 1 more variable: DAILY_RIDERSHIP <chr>\u001b[39m\n"
     ]
    },
    {
     "name": "stderr",
     "output_type": "stream",
     "text": [
      "\u001b[1mRows: \u001b[22m\u001b[34m8760\u001b[39m \u001b[1mColumns: \u001b[22m\u001b[34m14\u001b[39m\n",
      "\u001b[36m--\u001b[39m \u001b[1mColumn specification\u001b[22m \u001b[36m--------------------------------------------------------\u001b[39m\n",
      "\u001b[1mDelimiter:\u001b[22m \",\"\n",
      "\u001b[31mchr\u001b[39m  (4): DATE, SEASONS, HOLIDAY, FUNCTIONING_DAY\n",
      "\u001b[32mdbl\u001b[39m (10): RENTED_BIKE_COUNT, HOUR, TEMPERATURE, HUMIDITY, WIND_SPEED, VISIBI...\n",
      "\n",
      "\u001b[36mi\u001b[39m Use `spec()` to retrieve the full column specification for this data.\n",
      "\u001b[36mi\u001b[39m Specify the column types or set `show_col_types = FALSE` to quiet this message.\n"
     ]
    },
    {
     "name": "stdout",
     "output_type": "stream",
     "text": [
      "\u001b[90m# A tibble: 8,760 x 14\u001b[39m\n",
      "   DATE       RENTED_BIKE_COUNT HOUR  TEMPERATURE HUMIDITY WIND_SPEED VISIBILITY\n",
      "   \u001b[3m\u001b[90m<chr>\u001b[39m\u001b[23m      \u001b[3m\u001b[90m<chr>\u001b[39m\u001b[23m             \u001b[3m\u001b[90m<chr>\u001b[39m\u001b[23m \u001b[3m\u001b[90m<chr>\u001b[39m\u001b[23m       \u001b[3m\u001b[90m<chr>\u001b[39m\u001b[23m    \u001b[3m\u001b[90m<chr>\u001b[39m\u001b[23m      \u001b[3m\u001b[90m<chr>\u001b[39m\u001b[23m     \n",
      "\u001b[90m 1\u001b[39m 01/12/2017 254               0     -5.2        37       2.2        2000      \n",
      "\u001b[90m 2\u001b[39m 01/12/2017 204               1     -5.5        38       0.8        2000      \n",
      "\u001b[90m 3\u001b[39m 01/12/2017 173               2     -6          39       1          2000      \n",
      "\u001b[90m 4\u001b[39m 01/12/2017 107               3     -6.2        40       0.9        2000      \n",
      "\u001b[90m 5\u001b[39m 01/12/2017 78                4     -6          36       2.3        2000      \n",
      "\u001b[90m 6\u001b[39m 01/12/2017 100               5     -6.4        37       1.5        2000      \n",
      "\u001b[90m 7\u001b[39m 01/12/2017 181               6     -6.6        35       1.3        2000      \n",
      "\u001b[90m 8\u001b[39m 01/12/2017 460               7     -7.4        38       0.9        2000      \n",
      "\u001b[90m 9\u001b[39m 01/12/2017 930               8     -7.6        37       1.1        2000      \n",
      "\u001b[90m10\u001b[39m 01/12/2017 490               9     -6.5        27       0.5        1928      \n",
      "\u001b[90m# ... with 8,750 more rows, and 7 more variables: DEW_POINT_TEMPERATURE <chr>,\u001b[39m\n",
      "\u001b[90m#   SOLAR_RADIATION <chr>, RAINFALL <chr>, SNOWFALL <chr>, SEASONS <chr>,\u001b[39m\n",
      "\u001b[90m#   HOLIDAY <chr>, FUNCTIONING_DAY <chr>\u001b[39m\n"
     ]
    },
    {
     "name": "stderr",
     "output_type": "stream",
     "text": [
      "\u001b[1mRows: \u001b[22m\u001b[34m160\u001b[39m \u001b[1mColumns: \u001b[22m\u001b[34m12\u001b[39m\n",
      "\u001b[36m--\u001b[39m \u001b[1mColumn specification\u001b[22m \u001b[36m--------------------------------------------------------\u001b[39m\n",
      "\u001b[1mDelimiter:\u001b[22m \",\"\n",
      "\u001b[31mchr\u001b[39m (4): CITY, WEATHER, SEASON, FORECAST_DATETIME\n",
      "\u001b[32mdbl\u001b[39m (8): VISIBILITY, TEMP, TEMP_MIN, TEMP_MAX, PRESSURE, HUMIDITY, WIND_SPEE...\n",
      "\n",
      "\u001b[36mi\u001b[39m Use `spec()` to retrieve the full column specification for this data.\n",
      "\u001b[36mi\u001b[39m Specify the column types or set `show_col_types = FALSE` to quiet this message.\n"
     ]
    },
    {
     "name": "stdout",
     "output_type": "stream",
     "text": [
      "\u001b[90m# A tibble: 160 x 12\u001b[39m\n",
      "   CITY  WEATHER VISIBILITY TEMP  TEMP_MIN TEMP_MAX PRESSURE HUMIDITY WIND_SPEED\n",
      "   \u001b[3m\u001b[90m<chr>\u001b[39m\u001b[23m \u001b[3m\u001b[90m<chr>\u001b[39m\u001b[23m   \u001b[3m\u001b[90m<chr>\u001b[39m\u001b[23m      \u001b[3m\u001b[90m<chr>\u001b[39m\u001b[23m \u001b[3m\u001b[90m<chr>\u001b[39m\u001b[23m    \u001b[3m\u001b[90m<chr>\u001b[39m\u001b[23m    \u001b[3m\u001b[90m<chr>\u001b[39m\u001b[23m    \u001b[3m\u001b[90m<chr>\u001b[39m\u001b[23m    \u001b[3m\u001b[90m<chr>\u001b[39m\u001b[23m     \n",
      "\u001b[90m 1\u001b[39m Seoul Clear   10000      12.32 10.91    12.32    1015     50       2.18      \n",
      "\u001b[90m 2\u001b[39m Seoul Clear   10000      11.48 9.81     11.48    1016     48       1.25      \n",
      "\u001b[90m 3\u001b[39m Seoul Clouds  10000      9.99  8.82     9.99     1015     46       0.94      \n",
      "\u001b[90m 4\u001b[39m Seoul Clouds  10000      7.87  7.87     7.87     1014     46       0.83      \n",
      "\u001b[90m 5\u001b[39m Seoul Clouds  10000      10.09 10.09    10.09    1014     37       1.96      \n",
      "\u001b[90m 6\u001b[39m Seoul Rain    10000      9.74  9.74     9.74     1014     48       3.24      \n",
      "\u001b[90m 7\u001b[39m Seoul Clouds  10000      11.39 11.39    11.39    1012     44       5.65      \n",
      "\u001b[90m 8\u001b[39m Seoul Rain    10000      9.75  9.75     9.75     1012     57       5.63      \n",
      "\u001b[90m 9\u001b[39m Seoul Rain    10000      9.11  9.11     9.11     1013     51       4.91      \n",
      "\u001b[90m10\u001b[39m Seoul Clear   10000      8.33  8.33     8.33     1013     62       4.49      \n",
      "\u001b[90m# ... with 150 more rows, and 3 more variables: WIND_DEG <chr>, SEASON <chr>,\u001b[39m\n",
      "\u001b[90m#   FORECAST_DATETIME <chr>\u001b[39m\n"
     ]
    },
    {
     "name": "stderr",
     "output_type": "stream",
     "text": [
      "\u001b[1mRows: \u001b[22m\u001b[34m26569\u001b[39m \u001b[1mColumns: \u001b[22m\u001b[34m11\u001b[39m\n",
      "\u001b[36m--\u001b[39m \u001b[1mColumn specification\u001b[22m \u001b[36m--------------------------------------------------------\u001b[39m\n",
      "\u001b[1mDelimiter:\u001b[22m \",\"\n",
      "\u001b[31mchr\u001b[39m (7): CITY, CITY_ASCII, COUNTRY, ISO2, ISO3, ADMIN_NAME, CAPITAL\n",
      "\u001b[32mdbl\u001b[39m (4): LAT, LNG, POPULATION, ID\n",
      "\n",
      "\u001b[36mi\u001b[39m Use `spec()` to retrieve the full column specification for this data.\n",
      "\u001b[36mi\u001b[39m Specify the column types or set `show_col_types = FALSE` to quiet this message.\n"
     ]
    },
    {
     "name": "stdout",
     "output_type": "stream",
     "text": [
      "\u001b[90m# A tibble: 26,569 x 11\u001b[39m\n",
      "   CITY        CITY_ASCII  LAT      LNG   COUNTRY ISO2  ISO3  ADMIN_NAME CAPITAL\n",
      "   \u001b[3m\u001b[90m<chr>\u001b[39m\u001b[23m       \u001b[3m\u001b[90m<chr>\u001b[39m\u001b[23m       \u001b[3m\u001b[90m<chr>\u001b[39m\u001b[23m    \u001b[3m\u001b[90m<chr>\u001b[39m\u001b[23m \u001b[3m\u001b[90m<chr>\u001b[39m\u001b[23m   \u001b[3m\u001b[90m<chr>\u001b[39m\u001b[23m \u001b[3m\u001b[90m<chr>\u001b[39m\u001b[23m \u001b[3m\u001b[90m<chr>\u001b[39m\u001b[23m      \u001b[3m\u001b[90m<chr>\u001b[39m\u001b[23m  \n",
      "\u001b[90m 1\u001b[39m Tokyo       Tokyo       35.6897  139.~ Japan   JP    JPN   Tokyo      primary\n",
      "\u001b[90m 2\u001b[39m Jakarta     Jakarta     -6.2146  106.~ Indone~ ID    IDN   Jakarta    primary\n",
      "\u001b[90m 3\u001b[39m Delhi       Delhi       28.66    77.23 India   IN    IND   Delhi      admin  \n",
      "\u001b[90m 4\u001b[39m Mumbai      Mumbai      18.9667  72.8~ India   IN    IND   Maharasht~ admin  \n",
      "\u001b[90m 5\u001b[39m Manila      Manila      14.5958  120.~ Philip~ PH    PHL   Manila     primary\n",
      "\u001b[90m 6\u001b[39m Shanghai    Shanghai    31.1667  121.~ China   CN    CHN   Shanghai   admin  \n",
      "\u001b[90m 7\u001b[39m S<U+FFFD>o_Paulo   Sao_Paulo   -23.5504 -46.~ Brazil  BR    BRA   S<U+FFFD>o_Paulo  admin  \n",
      "\u001b[90m 8\u001b[39m Seoul       Seoul       37.5833  127   Korea,~ KR    KOR   Seoul      primary\n",
      "\u001b[90m 9\u001b[39m Mexico_City Mexico_City 19.4333  -99.~ Mexico  MX    MEX   Ciudad_de~ primary\n",
      "\u001b[90m10\u001b[39m Guangzhou   Guangzhou   23.1288  113.~ China   CN    CHN   Guangdong  admin  \n",
      "\u001b[90m# ... with 26,559 more rows, and 2 more variables: POPULATION <chr>, ID <chr>\u001b[39m\n"
     ]
    }
   ],
   "source": [
    "setwd(\"D:\")\n",
    "for (dataset_name in dataset_list){\n",
    "    # Read dataset\n",
    "    dataset <- read_csv(dataset_name)\n",
    "    # Standardized its columns:\n",
    "    convert<-toupper(colnames(dataset))\n",
    "    colnames(dataset)<- convert\n",
    "    # Convert all column names to uppercase\n",
    "   dataset_fixed<-dataset %>% mutate_all(funs(str_replace(.,\" \",\"_\")))\n",
    "    print(dataset_fixed)\n",
    "    # Replace any white space separators by underscores, using the str_replace_all function\n",
    "    # Save the dataset \n",
    "    write.csv(dataset_fixed, dataset_name, row.names=FALSE)\n",
    "}\n",
    "                 \n",
    "                 \n",
    "                 \n",
    "                 "
   ]
  },
  {
   "cell_type": "markdown",
   "metadata": {},
   "source": [
    "*TODO*: Read the resulting datasets back and check whether their column names follow the naming convention\n"
   ]
  },
  {
   "cell_type": "code",
   "execution_count": 14,
   "metadata": {},
   "outputs": [
    {
     "name": "stdout",
     "output_type": "stream",
     "text": [
      "   COUNTRY              CITY               NAME              SYSTEM         \n",
      " Length:480         Length:480         Length:480         Length:480        \n",
      " Class :character   Class :character   Class :character   Class :character  \n",
      " Mode  :character   Mode  :character   Mode  :character   Mode  :character  \n",
      "   OPERATOR           LAUNCHED         DISCONTINUED         STATIONS        \n",
      " Length:480         Length:480         Length:480         Length:480        \n",
      " Class :character   Class :character   Class :character   Class :character  \n",
      " Mode  :character   Mode  :character   Mode  :character   Mode  :character  \n",
      "   BICYCLES         DAILY_RIDERSHIP   \n",
      " Length:480         Length:480        \n",
      " Class :character   Class :character  \n",
      " Mode  :character   Mode  :character  \n",
      "     DATE           RENTED_BIKE_COUNT      HOUR        TEMPERATURE    \n",
      " Length:8760        Min.   :   2.0    Min.   : 0.00   Min.   :-17.80  \n",
      " Class :character   1st Qu.: 214.0    1st Qu.: 5.75   1st Qu.:  3.40  \n",
      " Mode  :character   Median : 542.0    Median :11.50   Median : 13.70  \n",
      "                    Mean   : 729.2    Mean   :11.50   Mean   : 12.87  \n",
      "                    3rd Qu.:1084.0    3rd Qu.:17.25   3rd Qu.: 22.50  \n",
      "                    Max.   :3556.0    Max.   :23.00   Max.   : 39.40  \n",
      "                    NA's   :295                       NA's   :11      \n",
      "    HUMIDITY       WIND_SPEED      VISIBILITY   DEW_POINT_TEMPERATURE\n",
      " Min.   : 0.00   Min.   :0.000   Min.   :  27   Min.   :-30.600      \n",
      " 1st Qu.:42.00   1st Qu.:0.900   1st Qu.: 940   1st Qu.: -4.700      \n",
      " Median :57.00   Median :1.500   Median :1698   Median :  5.100      \n",
      " Mean   :58.23   Mean   :1.725   Mean   :1437   Mean   :  4.074      \n",
      " 3rd Qu.:74.00   3rd Qu.:2.300   3rd Qu.:2000   3rd Qu.: 14.800      \n",
      " Max.   :98.00   Max.   :7.400   Max.   :2000   Max.   : 27.200      \n",
      "                                                                     \n",
      " SOLAR_RADIATION     RAINFALL          SNOWFALL         SEASONS         \n",
      " Min.   :0.0000   Min.   : 0.0000   Min.   :0.00000   Length:8760       \n",
      " 1st Qu.:0.0000   1st Qu.: 0.0000   1st Qu.:0.00000   Class :character  \n",
      " Median :0.0100   Median : 0.0000   Median :0.00000   Mode  :character  \n",
      " Mean   :0.5691   Mean   : 0.1487   Mean   :0.07507                     \n",
      " 3rd Qu.:0.9300   3rd Qu.: 0.0000   3rd Qu.:0.00000                     \n",
      " Max.   :3.5200   Max.   :35.0000   Max.   :8.80000                     \n",
      "                                                                        \n",
      "   HOLIDAY          FUNCTIONING_DAY   \n",
      " Length:8760        Length:8760       \n",
      " Class :character   Class :character  \n",
      " Mode  :character   Mode  :character  \n",
      "                                      \n",
      "                                      \n",
      "                                      \n",
      "                                      \n",
      "     CITY             WEATHER            VISIBILITY         TEMP       \n",
      " Length:160         Length:160         Min.   : 9940   Min.   : 3.810  \n",
      " Class :character   Class :character   1st Qu.:10000   1st Qu.: 9.748  \n",
      " Mode  :character   Mode  :character   Median :10000   Median :12.765  \n",
      "                                       Mean   :10000   Mean   :13.505  \n",
      "                                       3rd Qu.:10000   3rd Qu.:16.747  \n",
      "                                       Max.   :10000   Max.   :26.130  \n",
      "    TEMP_MIN         TEMP_MAX         PRESSURE       HUMIDITY    \n",
      " Min.   : 3.810   Min.   : 3.810   Min.   : 954   Min.   :17.00  \n",
      " 1st Qu.: 9.725   1st Qu.: 9.953   1st Qu.:1016   1st Qu.:37.00  \n",
      " Median :12.765   Median :12.765   Median :1019   Median :49.00  \n",
      " Mean   :13.444   Mean   :13.539   Mean   :1018   Mean   :49.92  \n",
      " 3rd Qu.:16.635   3rd Qu.:16.977   3rd Qu.:1022   3rd Qu.:62.00  \n",
      " Max.   :26.130   Max.   :26.130   Max.   :1028   Max.   :94.00  \n",
      "   WIND_SPEED       WIND_DEG        SEASON          FORECAST_DATETIME \n",
      " Min.   :0.180   Min.   :  2.0   Length:160         Length:160        \n",
      " 1st Qu.:1.455   1st Qu.: 92.0   Class :character   Class :character  \n",
      " Median :2.130   Median :141.0   Mode  :character   Mode  :character  \n",
      " Mean   :2.778   Mean   :163.7                                        \n",
      " 3rd Qu.:3.723   3rd Qu.:256.8                                        \n",
      " Max.   :8.180   Max.   :352.0                                        \n",
      "     CITY            CITY_ASCII             LAT              LNG           \n",
      " Length:26569       Length:26569       Min.   :-54.93   Min.   :-179.5900  \n",
      " Class :character   Class :character   1st Qu.: 27.92   1st Qu.: -78.7794  \n",
      " Mode  :character   Mode  :character   Median : 40.22   Median :  -0.7689  \n",
      "                                       Mean   : 33.10   Mean   : -11.3639  \n",
      "                                       3rd Qu.: 47.99   3rd Qu.:  29.6833  \n",
      "                                       Max.   : 81.72   Max.   : 179.3667  \n",
      "                                                                           \n",
      "   COUNTRY              ISO2               ISO3            ADMIN_NAME       \n",
      " Length:26569       Length:26569       Length:26569       Length:26569      \n",
      " Class :character   Class :character   Class :character   Class :character  \n",
      " Mode  :character   Mode  :character   Mode  :character   Mode  :character  \n",
      "                                                                            \n",
      "                                                                            \n",
      "                                                                            \n",
      "                                                                            \n",
      "   CAPITAL            POPULATION             ID           \n",
      " Length:26569       Min.   :       0   Min.   :1.004e+09  \n",
      " Class :character   1st Qu.:    9246   1st Qu.:1.277e+09  \n",
      " Mode  :character   Median :   20080   Median :1.643e+09  \n",
      "                    Mean   :  162346   Mean   :1.556e+09  \n",
      "                    3rd Qu.:   59369   3rd Qu.:1.840e+09  \n",
      "                    Max.   :37977000   Max.   :1.934e+09  \n",
      "                    NA's   :973                           \n"
     ]
    }
   ],
   "source": [
    "for (dataset_name in dataset_list){\n",
    "    # Print a summary for each data set to check whether the column names were correctly converted\n",
    "    datasets<-read.csv(dataset_name)\n",
    "    print(summary(datasets))\n",
    "}"
   ]
  },
  {
   "cell_type": "markdown",
   "metadata": {},
   "source": [
    "## Process the web-scraped bike sharing system dataset\n"
   ]
  },
  {
   "cell_type": "markdown",
   "metadata": {},
   "source": [
    "By now we have standardized all column names. Next, we will focus on cleaning up the values in the web-scraped bike sharing systems dataset.\n"
   ]
  },
  {
   "cell_type": "code",
   "execution_count": 15,
   "metadata": {},
   "outputs": [
    {
     "name": "stderr",
     "output_type": "stream",
     "text": [
      "\u001b[1mRows: \u001b[22m\u001b[34m480\u001b[39m \u001b[1mColumns: \u001b[22m\u001b[34m10\u001b[39m\n",
      "\u001b[36m--\u001b[39m \u001b[1mColumn specification\u001b[22m \u001b[36m--------------------------------------------------------\u001b[39m\n",
      "\u001b[1mDelimiter:\u001b[22m \",\"\n",
      "\u001b[31mchr\u001b[39m (10): COUNTRY, CITY, NAME, SYSTEM, OPERATOR, LAUNCHED, DISCONTINUED, STA...\n",
      "\n",
      "\u001b[36mi\u001b[39m Use `spec()` to retrieve the full column specification for this data.\n",
      "\u001b[36mi\u001b[39m Specify the column types or set `show_col_types = FALSE` to quiet this message.\n"
     ]
    }
   ],
   "source": [
    "# First load the dataset\n",
    "bike_sharing_df <- read_csv(\"raw_bike_sharing_systems.csv\")"
   ]
  },
  {
   "cell_type": "code",
   "execution_count": 16,
   "metadata": {},
   "outputs": [
    {
     "data": {
      "text/html": [
       "<table class=\"dataframe\">\n",
       "<caption>A tibble: 6 × 10</caption>\n",
       "<thead>\n",
       "\t<tr><th scope=col>COUNTRY</th><th scope=col>CITY</th><th scope=col>NAME</th><th scope=col>SYSTEM</th><th scope=col>OPERATOR</th><th scope=col>LAUNCHED</th><th scope=col>DISCONTINUED</th><th scope=col>STATIONS</th><th scope=col>BICYCLES</th><th scope=col>DAILY_RIDERSHIP</th></tr>\n",
       "\t<tr><th scope=col>&lt;chr&gt;</th><th scope=col>&lt;chr&gt;</th><th scope=col>&lt;chr&gt;</th><th scope=col>&lt;chr&gt;</th><th scope=col>&lt;chr&gt;</th><th scope=col>&lt;chr&gt;</th><th scope=col>&lt;chr&gt;</th><th scope=col>&lt;chr&gt;</th><th scope=col>&lt;chr&gt;</th><th scope=col>&lt;chr&gt;</th></tr>\n",
       "</thead>\n",
       "<tbody>\n",
       "\t<tr><td>Albania  </td><td>Tirana               </td><td>Ecovolis            </td><td>NA            </td><td>NA                            </td><td>March_2011      </td><td>NA                  </td><td>8  </td><td>200 </td><td>NA   </td></tr>\n",
       "\t<tr><td>Argentina</td><td>Mendoza              </td><td>Metrobici           </td><td>NA            </td><td>NA                            </td><td>2014            </td><td>NA                  </td><td>2  </td><td>40  </td><td>NA   </td></tr>\n",
       "\t<tr><td>Argentina</td><td>San_Lorenzo,_Santa Fe</td><td>Biciudad            </td><td>Biciudad      </td><td>NA                            </td><td>27_November_2016</td><td>NA                  </td><td>8  </td><td>80  </td><td>NA   </td></tr>\n",
       "\t<tr><td>Argentina</td><td>Buenos_Aires         </td><td>Ecobici             </td><td>Serttel_Brasil</td><td>Bike_In_Baires Consortium.[10]</td><td>2010            </td><td>NA                  </td><td>400</td><td>4000</td><td>21917</td></tr>\n",
       "\t<tr><td>Argentina</td><td>Rosario              </td><td>Mi_Bici_Tu Bici[11] </td><td>NA            </td><td>NA                            </td><td>2_December_2015 </td><td>NA                  </td><td>47 </td><td>480 </td><td>NA   </td></tr>\n",
       "\t<tr><td>Australia</td><td><span style=white-space:pre-wrap>Melbourne[12]        </span></td><td>Melbourne_Bike_Share</td><td><span style=white-space:pre-wrap>PBSC_&amp;_8D     </span></td><td><span style=white-space:pre-wrap>Motivate                      </span></td><td><span style=white-space:pre-wrap>June_2010       </span></td><td>30_November_2019[13]</td><td>53 </td><td>676 </td><td><span style=white-space:pre-wrap>NA   </span></td></tr>\n",
       "</tbody>\n",
       "</table>\n"
      ],
      "text/latex": [
       "A tibble: 6 × 10\n",
       "\\begin{tabular}{llllllllll}\n",
       " COUNTRY & CITY & NAME & SYSTEM & OPERATOR & LAUNCHED & DISCONTINUED & STATIONS & BICYCLES & DAILY\\_RIDERSHIP\\\\\n",
       " <chr> & <chr> & <chr> & <chr> & <chr> & <chr> & <chr> & <chr> & <chr> & <chr>\\\\\n",
       "\\hline\n",
       "\t Albania   & Tirana                & Ecovolis             & NA             & NA                             & March\\_2011       & NA                   & 8   & 200  & NA   \\\\\n",
       "\t Argentina & Mendoza               & Metrobici            & NA             & NA                             & 2014             & NA                   & 2   & 40   & NA   \\\\\n",
       "\t Argentina & San\\_Lorenzo,\\_Santa Fe & Biciudad             & Biciudad       & NA                             & 27\\_November\\_2016 & NA                   & 8   & 80   & NA   \\\\\n",
       "\t Argentina & Buenos\\_Aires          & Ecobici              & Serttel\\_Brasil & Bike\\_In\\_Baires Consortium.{[}10{]} & 2010             & NA                   & 400 & 4000 & 21917\\\\\n",
       "\t Argentina & Rosario               & Mi\\_Bici\\_Tu Bici{[}11{]}  & NA             & NA                             & 2\\_December\\_2015  & NA                   & 47  & 480  & NA   \\\\\n",
       "\t Australia & Melbourne{[}12{]}         & Melbourne\\_Bike\\_Share & PBSC\\_\\&\\_8D      & Motivate                       & June\\_2010        & 30\\_November\\_2019{[}13{]} & 53  & 676  & NA   \\\\\n",
       "\\end{tabular}\n"
      ],
      "text/markdown": [
       "\n",
       "A tibble: 6 × 10\n",
       "\n",
       "| COUNTRY &lt;chr&gt; | CITY &lt;chr&gt; | NAME &lt;chr&gt; | SYSTEM &lt;chr&gt; | OPERATOR &lt;chr&gt; | LAUNCHED &lt;chr&gt; | DISCONTINUED &lt;chr&gt; | STATIONS &lt;chr&gt; | BICYCLES &lt;chr&gt; | DAILY_RIDERSHIP &lt;chr&gt; |\n",
       "|---|---|---|---|---|---|---|---|---|---|\n",
       "| Albania   | Tirana                | Ecovolis             | NA             | NA                             | March_2011       | NA                   | 8   | 200  | NA    |\n",
       "| Argentina | Mendoza               | Metrobici            | NA             | NA                             | 2014             | NA                   | 2   | 40   | NA    |\n",
       "| Argentina | San_Lorenzo,_Santa Fe | Biciudad             | Biciudad       | NA                             | 27_November_2016 | NA                   | 8   | 80   | NA    |\n",
       "| Argentina | Buenos_Aires          | Ecobici              | Serttel_Brasil | Bike_In_Baires Consortium.[10] | 2010             | NA                   | 400 | 4000 | 21917 |\n",
       "| Argentina | Rosario               | Mi_Bici_Tu Bici[11]  | NA             | NA                             | 2_December_2015  | NA                   | 47  | 480  | NA    |\n",
       "| Australia | Melbourne[12]         | Melbourne_Bike_Share | PBSC_&amp;_8D      | Motivate                       | June_2010        | 30_November_2019[13] | 53  | 676  | NA    |\n",
       "\n"
      ],
      "text/plain": [
       "  COUNTRY   CITY                  NAME                 SYSTEM        \n",
       "1 Albania   Tirana                Ecovolis             NA            \n",
       "2 Argentina Mendoza               Metrobici            NA            \n",
       "3 Argentina San_Lorenzo,_Santa Fe Biciudad             Biciudad      \n",
       "4 Argentina Buenos_Aires          Ecobici              Serttel_Brasil\n",
       "5 Argentina Rosario               Mi_Bici_Tu Bici[11]  NA            \n",
       "6 Australia Melbourne[12]         Melbourne_Bike_Share PBSC_&_8D     \n",
       "  OPERATOR                       LAUNCHED         DISCONTINUED         STATIONS\n",
       "1 NA                             March_2011       NA                   8       \n",
       "2 NA                             2014             NA                   2       \n",
       "3 NA                             27_November_2016 NA                   8       \n",
       "4 Bike_In_Baires Consortium.[10] 2010             NA                   400     \n",
       "5 NA                             2_December_2015  NA                   47      \n",
       "6 Motivate                       June_2010        30_November_2019[13] 53      \n",
       "  BICYCLES DAILY_RIDERSHIP\n",
       "1 200      NA             \n",
       "2 40       NA             \n",
       "3 80       NA             \n",
       "4 4000     21917          \n",
       "5 480      NA             \n",
       "6 676      NA             "
      ]
     },
     "metadata": {},
     "output_type": "display_data"
    }
   ],
   "source": [
    "# Print its head\n",
    "head(bike_sharing_df)"
   ]
  },
  {
   "cell_type": "markdown",
   "metadata": {},
   "source": [
    "Even from the first few rows, you can see there is plenty of undesireable embedded textual content, such as the reference link included in `Melbourne[12]`.\n"
   ]
  },
  {
   "cell_type": "markdown",
   "metadata": {},
   "source": [
    "In this project, let's only focus on processing the following revelant columns (feel free to process the other columns for more practice):\n",
    "\n",
    "*   `COUNTRY`: Country name\n",
    "*   `CITY`: City name\n",
    "*   `SYSTEM`: Bike-sharing system name\n",
    "*   `BICYCLES`: Total number of bikes in the system\n"
   ]
  },
  {
   "cell_type": "code",
   "execution_count": 17,
   "metadata": {},
   "outputs": [],
   "source": [
    "# Select the four columns\n",
    "sub_bike_sharing_df <- bike_sharing_df %>% select(COUNTRY, CITY, SYSTEM, BICYCLES)"
   ]
  },
  {
   "cell_type": "markdown",
   "metadata": {},
   "source": [
    "Let's see the types of the selected columns\n"
   ]
  },
  {
   "cell_type": "code",
   "execution_count": 18,
   "metadata": {},
   "outputs": [
    {
     "data": {
      "text/html": [
       "<table class=\"dataframe\">\n",
       "<caption>A tibble: 4 × 2</caption>\n",
       "<thead>\n",
       "\t<tr><th scope=col>variable</th><th scope=col>class</th></tr>\n",
       "\t<tr><th scope=col>&lt;chr&gt;</th><th scope=col>&lt;chr&gt;</th></tr>\n",
       "</thead>\n",
       "<tbody>\n",
       "\t<tr><td>COUNTRY </td><td>character</td></tr>\n",
       "\t<tr><td>CITY    </td><td>character</td></tr>\n",
       "\t<tr><td>SYSTEM  </td><td>character</td></tr>\n",
       "\t<tr><td>BICYCLES</td><td>character</td></tr>\n",
       "</tbody>\n",
       "</table>\n"
      ],
      "text/latex": [
       "A tibble: 4 × 2\n",
       "\\begin{tabular}{ll}\n",
       " variable & class\\\\\n",
       " <chr> & <chr>\\\\\n",
       "\\hline\n",
       "\t COUNTRY  & character\\\\\n",
       "\t CITY     & character\\\\\n",
       "\t SYSTEM   & character\\\\\n",
       "\t BICYCLES & character\\\\\n",
       "\\end{tabular}\n"
      ],
      "text/markdown": [
       "\n",
       "A tibble: 4 × 2\n",
       "\n",
       "| variable &lt;chr&gt; | class &lt;chr&gt; |\n",
       "|---|---|\n",
       "| COUNTRY  | character |\n",
       "| CITY     | character |\n",
       "| SYSTEM   | character |\n",
       "| BICYCLES | character |\n",
       "\n"
      ],
      "text/plain": [
       "  variable class    \n",
       "1 COUNTRY  character\n",
       "2 CITY     character\n",
       "3 SYSTEM   character\n",
       "4 BICYCLES character"
      ]
     },
     "metadata": {},
     "output_type": "display_data"
    }
   ],
   "source": [
    "sub_bike_sharing_df %>% \n",
    "    summarize_all(class) %>%\n",
    "    gather(variable, class)"
   ]
  },
  {
   "cell_type": "markdown",
   "metadata": {},
   "source": [
    "They are all interpreted as character columns, but we expect the `BICYCLES` column to be of numeric type. Let's see why it wasn't loaded as a numeric column - possibly some entries contain characters. Let's create a simple function called `find_character` to check that.\n"
   ]
  },
  {
   "cell_type": "code",
   "execution_count": 19,
   "metadata": {},
   "outputs": [
    {
     "data": {
      "text/html": [
       "<pre class=language-r><code>function (strings) \n",
       "grepl(\"[^0-9]\", strings)</code></pre>"
      ],
      "text/latex": [
       "\\begin{minted}{r}\n",
       "function (strings) \n",
       "grepl(\"{[}\\textasciicircum{}0-9{]}\", strings)\n",
       "\\end{minted}"
      ],
      "text/markdown": [
       "```r\n",
       "function (strings) \n",
       "grepl(\"[^0-9]\", strings)\n",
       "```"
      ],
      "text/plain": [
       "function(strings) grepl(\"[^0-9]\", strings)"
      ]
     },
     "metadata": {},
     "output_type": "display_data"
    }
   ],
   "source": [
    "# grepl searches a string for non-digital characters, and returns TRUE or FALSE\n",
    "# if it finds any non-digital characters, then the bicyle column is not purely numeric\n",
    "find_character <- function(strings) grepl(\"[^0-9]\", strings)\n",
    "find_character"
   ]
  },
  {
   "cell_type": "markdown",
   "metadata": {},
   "source": [
    "Let's try to find any elements in the `Bicycles` column containing non-numeric characters.\n"
   ]
  },
  {
   "cell_type": "code",
   "execution_count": 24,
   "metadata": {},
   "outputs": [
    {
     "data": {
      "text/html": [
       "<table class=\"dataframe\">\n",
       "<caption>A tibble: 10 × 1</caption>\n",
       "<thead>\n",
       "\t<tr><th scope=col>BICYCLES</th></tr>\n",
       "\t<tr><th scope=col>&lt;chr&gt;</th></tr>\n",
       "</thead>\n",
       "<tbody>\n",
       "\t<tr><td>4115[22]                  </td></tr>\n",
       "\t<tr><td>310[59]                   </td></tr>\n",
       "\t<tr><td>500[72]                   </td></tr>\n",
       "\t<tr><td>[75]                      </td></tr>\n",
       "\t<tr><td>180[76]                   </td></tr>\n",
       "\t<tr><td>600[77]                   </td></tr>\n",
       "\t<tr><td>[78]                      </td></tr>\n",
       "\t<tr><td>initially_800_(later 2500)</td></tr>\n",
       "\t<tr><td>100_(220)                 </td></tr>\n",
       "\t<tr><td>370[114]                  </td></tr>\n",
       "</tbody>\n",
       "</table>\n"
      ],
      "text/latex": [
       "A tibble: 10 × 1\n",
       "\\begin{tabular}{l}\n",
       " BICYCLES\\\\\n",
       " <chr>\\\\\n",
       "\\hline\n",
       "\t 4115{[}22{]}                  \\\\\n",
       "\t 310{[}59{]}                   \\\\\n",
       "\t 500{[}72{]}                   \\\\\n",
       "\t {[}75{]}                      \\\\\n",
       "\t 180{[}76{]}                   \\\\\n",
       "\t 600{[}77{]}                   \\\\\n",
       "\t {[}78{]}                      \\\\\n",
       "\t initially\\_800\\_(later 2500)\\\\\n",
       "\t 100\\_(220)                 \\\\\n",
       "\t 370{[}114{]}                  \\\\\n",
       "\\end{tabular}\n"
      ],
      "text/markdown": [
       "\n",
       "A tibble: 10 × 1\n",
       "\n",
       "| BICYCLES &lt;chr&gt; |\n",
       "|---|\n",
       "| 4115[22]                   |\n",
       "| 310[59]                    |\n",
       "| 500[72]                    |\n",
       "| [75]                       |\n",
       "| 180[76]                    |\n",
       "| 600[77]                    |\n",
       "| [78]                       |\n",
       "| initially_800_(later 2500) |\n",
       "| 100_(220)                  |\n",
       "| 370[114]                   |\n",
       "\n"
      ],
      "text/plain": [
       "   BICYCLES                  \n",
       "1  4115[22]                  \n",
       "2  310[59]                   \n",
       "3  500[72]                   \n",
       "4  [75]                      \n",
       "5  180[76]                   \n",
       "6  600[77]                   \n",
       "7  [78]                      \n",
       "8  initially_800_(later 2500)\n",
       "9  100_(220)                 \n",
       "10 370[114]                  "
      ]
     },
     "metadata": {},
     "output_type": "display_data"
    }
   ],
   "source": [
    "sub_bike_sharing_df %>% \n",
    "    select(BICYCLES) %>% \n",
    "    filter(find_character(BICYCLES)) %>%\n",
    "    slice(0:10)"
   ]
  },
  {
   "cell_type": "markdown",
   "metadata": {},
   "source": [
    "As you can see, many rows have non-numeric characters, such as `32 (including 6 rollers) [162]` and `1000[253]`. This is actually very common for a table scraped from Wiki when no input validation is enforced.\n",
    "\n",
    "Later, you will use regular expressions to clean them up.\n"
   ]
  },
  {
   "cell_type": "markdown",
   "metadata": {},
   "source": [
    "Next, let's take a look at the other columns, namely `COUNTRY`, `CITY`, and `SYSTEM`, to see if they contain any undesired reference links, such as in `Melbourne[12]`.\n"
   ]
  },
  {
   "cell_type": "code",
   "execution_count": 49,
   "metadata": {},
   "outputs": [],
   "source": [
    "# Define a 'reference link' character class, \n",
    "# `[A-z0-9]` means at least one character \n",
    "# `\\\\[` and `\\\\]` means the character is wrapped by [], such as for [12] or [abc]\n",
    "ref_pattern <- \"\\\\[[A-z0-9]+\\\\]\"\n",
    "find_reference_pattern <- function(strings) grepl(ref_pattern, strings)"
   ]
  },
  {
   "cell_type": "code",
   "execution_count": 26,
   "metadata": {},
   "outputs": [
    {
     "data": {
      "text/html": [
       "<table class=\"dataframe\">\n",
       "<caption>A tibble: 0 × 1</caption>\n",
       "<thead>\n",
       "\t<tr><th scope=col>COUNTRY</th></tr>\n",
       "\t<tr><th scope=col>&lt;chr&gt;</th></tr>\n",
       "</thead>\n",
       "<tbody>\n",
       "</tbody>\n",
       "</table>\n"
      ],
      "text/latex": [
       "A tibble: 0 × 1\n",
       "\\begin{tabular}{l}\n",
       " COUNTRY\\\\\n",
       " <chr>\\\\\n",
       "\\hline\n",
       "\\end{tabular}\n"
      ],
      "text/markdown": [
       "\n",
       "A tibble: 0 × 1\n",
       "\n",
       "| COUNTRY &lt;chr&gt; |\n",
       "|---|\n",
       "\n"
      ],
      "text/plain": [
       "     COUNTRY"
      ]
     },
     "metadata": {},
     "output_type": "display_data"
    }
   ],
   "source": [
    "# Check whether the COUNTRY column has any reference links\n",
    "sub_bike_sharing_df %>% \n",
    "    select(COUNTRY) %>% \n",
    "    filter(find_reference_pattern(COUNTRY)) %>%\n",
    "    slice(0:10)"
   ]
  },
  {
   "cell_type": "markdown",
   "metadata": {},
   "source": [
    "Ok, looks like the `COUNTRY` column is clean. Let's check the `CITY` column.\n"
   ]
  },
  {
   "cell_type": "code",
   "execution_count": 27,
   "metadata": {},
   "outputs": [
    {
     "data": {
      "text/html": [
       "<table class=\"dataframe\">\n",
       "<caption>A tibble: 10 × 1</caption>\n",
       "<thead>\n",
       "\t<tr><th scope=col>CITY</th></tr>\n",
       "\t<tr><th scope=col>&lt;chr&gt;</th></tr>\n",
       "</thead>\n",
       "<tbody>\n",
       "\t<tr><td>Melbourne[12]         </td></tr>\n",
       "\t<tr><td>Brisbane[14][15]      </td></tr>\n",
       "\t<tr><td>Lower_Austria[18]     </td></tr>\n",
       "\t<tr><td>Namur[19]             </td></tr>\n",
       "\t<tr><td>Brussels[21]          </td></tr>\n",
       "\t<tr><td>Salvador[23]          </td></tr>\n",
       "\t<tr><td>Belo_Horizonte[24]    </td></tr>\n",
       "\t<tr><td>Jo&lt;U+FFFD&gt;o_Pessoa[25]</td></tr>\n",
       "\t<tr><td>(Pedro_de)_Toledo[26] </td></tr>\n",
       "\t<tr><td>Rio_de_Janeiro[27]    </td></tr>\n",
       "</tbody>\n",
       "</table>\n"
      ],
      "text/latex": [
       "A tibble: 10 × 1\n",
       "\\begin{tabular}{l}\n",
       " CITY\\\\\n",
       " <chr>\\\\\n",
       "\\hline\n",
       "\t Melbourne{[}12{]}         \\\\\n",
       "\t Brisbane{[}14{]}{[}15{]}      \\\\\n",
       "\t Lower\\_Austria{[}18{]}     \\\\\n",
       "\t Namur{[}19{]}             \\\\\n",
       "\t Brussels{[}21{]}          \\\\\n",
       "\t Salvador{[}23{]}          \\\\\n",
       "\t Belo\\_Horizonte{[}24{]}    \\\\\n",
       "\t Jo<U+FFFD>o\\_Pessoa{[}25{]}\\\\\n",
       "\t (Pedro\\_de)\\_Toledo{[}26{]} \\\\\n",
       "\t Rio\\_de\\_Janeiro{[}27{]}    \\\\\n",
       "\\end{tabular}\n"
      ],
      "text/markdown": [
       "\n",
       "A tibble: 10 × 1\n",
       "\n",
       "| CITY &lt;chr&gt; |\n",
       "|---|\n",
       "| Melbourne[12]          |\n",
       "| Brisbane[14][15]       |\n",
       "| Lower_Austria[18]      |\n",
       "| Namur[19]              |\n",
       "| Brussels[21]           |\n",
       "| Salvador[23]           |\n",
       "| Belo_Horizonte[24]     |\n",
       "| Jo&lt;U+FFFD&gt;o_Pessoa[25] |\n",
       "| (Pedro_de)_Toledo[26]  |\n",
       "| Rio_de_Janeiro[27]     |\n",
       "\n"
      ],
      "text/plain": [
       "   CITY                  \n",
       "1  Melbourne[12]         \n",
       "2  Brisbane[14][15]      \n",
       "3  Lower_Austria[18]     \n",
       "4  Namur[19]             \n",
       "5  Brussels[21]          \n",
       "6  Salvador[23]          \n",
       "7  Belo_Horizonte[24]    \n",
       "8  Jo<U+FFFD>o_Pessoa[25]\n",
       "9  (Pedro_de)_Toledo[26] \n",
       "10 Rio_de_Janeiro[27]    "
      ]
     },
     "metadata": {},
     "output_type": "display_data"
    }
   ],
   "source": [
    "# Check whether the CITY column has any reference links\n",
    "sub_bike_sharing_df %>% \n",
    "    select(CITY) %>% \n",
    "    filter(find_reference_pattern(CITY)) %>%\n",
    "    slice(0:10)"
   ]
  },
  {
   "cell_type": "markdown",
   "metadata": {},
   "source": [
    "Hmm, looks like the `CITY` column has some reference links to be removed. Next, let's check the `SYSTEM` column.\n"
   ]
  },
  {
   "cell_type": "code",
   "execution_count": 28,
   "metadata": {},
   "outputs": [
    {
     "data": {
      "text/html": [
       "<table class=\"dataframe\">\n",
       "<caption>A tibble: 7 × 1</caption>\n",
       "<thead>\n",
       "\t<tr><th scope=col>SYSTEM</th></tr>\n",
       "\t<tr><th scope=col>&lt;chr&gt;</th></tr>\n",
       "</thead>\n",
       "<tbody>\n",
       "\t<tr><td>EasyBike[58]                     </td></tr>\n",
       "\t<tr><td>4_Gen.[61]                       </td></tr>\n",
       "\t<tr><td>3_Gen._SmooveKey[113]            </td></tr>\n",
       "\t<tr><td>3_Gen._Smoove[141][142][143][139]</td></tr>\n",
       "\t<tr><td>3_Gen._Smoove[179]               </td></tr>\n",
       "\t<tr><td>3_Gen._Smoove[181]               </td></tr>\n",
       "\t<tr><td>3_Gen._Smoove[183]               </td></tr>\n",
       "</tbody>\n",
       "</table>\n"
      ],
      "text/latex": [
       "A tibble: 7 × 1\n",
       "\\begin{tabular}{l}\n",
       " SYSTEM\\\\\n",
       " <chr>\\\\\n",
       "\\hline\n",
       "\t EasyBike{[}58{]}                     \\\\\n",
       "\t 4\\_Gen.{[}61{]}                       \\\\\n",
       "\t 3\\_Gen.\\_SmooveKey{[}113{]}            \\\\\n",
       "\t 3\\_Gen.\\_Smoove{[}141{]}{[}142{]}{[}143{]}{[}139{]}\\\\\n",
       "\t 3\\_Gen.\\_Smoove{[}179{]}               \\\\\n",
       "\t 3\\_Gen.\\_Smoove{[}181{]}               \\\\\n",
       "\t 3\\_Gen.\\_Smoove{[}183{]}               \\\\\n",
       "\\end{tabular}\n"
      ],
      "text/markdown": [
       "\n",
       "A tibble: 7 × 1\n",
       "\n",
       "| SYSTEM &lt;chr&gt; |\n",
       "|---|\n",
       "| EasyBike[58]                      |\n",
       "| 4_Gen.[61]                        |\n",
       "| 3_Gen._SmooveKey[113]             |\n",
       "| 3_Gen._Smoove[141][142][143][139] |\n",
       "| 3_Gen._Smoove[179]                |\n",
       "| 3_Gen._Smoove[181]                |\n",
       "| 3_Gen._Smoove[183]                |\n",
       "\n"
      ],
      "text/plain": [
       "  SYSTEM                           \n",
       "1 EasyBike[58]                     \n",
       "2 4_Gen.[61]                       \n",
       "3 3_Gen._SmooveKey[113]            \n",
       "4 3_Gen._Smoove[141][142][143][139]\n",
       "5 3_Gen._Smoove[179]               \n",
       "6 3_Gen._Smoove[181]               \n",
       "7 3_Gen._Smoove[183]               "
      ]
     },
     "metadata": {},
     "output_type": "display_data"
    }
   ],
   "source": [
    "# Check whether the System column has any reference links\n",
    "sub_bike_sharing_df %>% \n",
    "    select(SYSTEM) %>% \n",
    "    filter(find_reference_pattern(SYSTEM)) %>%\n",
    "    slice(0:10)"
   ]
  },
  {
   "cell_type": "markdown",
   "metadata": {},
   "source": [
    "So the `SYSTEM` column also has some reference links.\n"
   ]
  },
  {
   "cell_type": "markdown",
   "metadata": {},
   "source": [
    "After some preliminary investigations, we identified that the `CITY` and `SYSTEM` columns have some undesired reference links, and the `BICYCLES` column has both reference links and some\n",
    "textual annotations.\n",
    "\n",
    "Next, you need to use regular expressions to clean up the unexpected reference links and text annotations in numeric values.\n"
   ]
  },
  {
   "cell_type": "markdown",
   "metadata": {},
   "source": [
    "# TASK: Remove undesired reference links using regular expressions\n"
   ]
  },
  {
   "cell_type": "markdown",
   "metadata": {},
   "source": [
    "*TODO:* Write a custom function using `stringr::str_replace_all` to replace all reference links with an empty character for columns `CITY` and `SYSTEM`\n"
   ]
  },
  {
   "cell_type": "code",
   "execution_count": 56,
   "metadata": {},
   "outputs": [],
   "source": [
    "# remove reference link\n",
    "remove_ref <- function(strings) {\n",
    "    #reference_pattern <- \"Define a pattern matching a reference link such as [1]\"\n",
    "    reference_pattern <- \"\\\\[[\\\\w]+\\\\]\"\n",
    "    # Replace all matched substrings with a white space using str_replace_all()\n",
    "   result<-str_replace_all(strings,reference_pattern,\" \")\n",
    "    # Trim the reslt if you want\n",
    "     return(result)\n",
    "}"
   ]
  },
  {
   "cell_type": "markdown",
   "metadata": {},
   "source": [
    "*TODO:* Use the `dplyr::mutate()` function to apply the `remove_ref` function to the `CITY` and `SYSTEM` columns\n"
   ]
  },
  {
   "cell_type": "code",
   "execution_count": 63,
   "metadata": {},
   "outputs": [],
   "source": [
    "result<-sub_bike_sharing_df %>% mutate(CITY=remove_ref(CITY),SYSTEM=remove_ref(SYSTEM),BICYCLES=remove_ref(BICYCLES))\n"
   ]
  },
  {
   "cell_type": "markdown",
   "metadata": {},
   "source": [
    "*TODO:* Use the following code to check whether all reference links are removed:\n"
   ]
  },
  {
   "cell_type": "code",
   "execution_count": 64,
   "metadata": {},
   "outputs": [
    {
     "data": {
      "text/html": [
       "<table class=\"dataframe\">\n",
       "<caption>A tibble: 0 × 3</caption>\n",
       "<thead>\n",
       "\t<tr><th scope=col>CITY</th><th scope=col>SYSTEM</th><th scope=col>BICYCLES</th></tr>\n",
       "\t<tr><th scope=col>&lt;chr&gt;</th><th scope=col>&lt;chr&gt;</th><th scope=col>&lt;chr&gt;</th></tr>\n",
       "</thead>\n",
       "<tbody>\n",
       "</tbody>\n",
       "</table>\n"
      ],
      "text/latex": [
       "A tibble: 0 × 3\n",
       "\\begin{tabular}{lll}\n",
       " CITY & SYSTEM & BICYCLES\\\\\n",
       " <chr> & <chr> & <chr>\\\\\n",
       "\\hline\n",
       "\\end{tabular}\n"
      ],
      "text/markdown": [
       "\n",
       "A tibble: 0 × 3\n",
       "\n",
       "| CITY &lt;chr&gt; | SYSTEM &lt;chr&gt; | BICYCLES &lt;chr&gt; |\n",
       "|---|---|---|\n",
       "\n"
      ],
      "text/plain": [
       "     CITY SYSTEM BICYCLES"
      ]
     },
     "metadata": {},
     "output_type": "display_data"
    }
   ],
   "source": [
    "result %>% \n",
    "    select(CITY, SYSTEM, BICYCLES) %>% \n",
    "    filter(find_reference_pattern(CITY) | find_reference_pattern(SYSTEM) | find_reference_pattern(BICYCLES))"
   ]
  },
  {
   "cell_type": "markdown",
   "metadata": {
    "tags": []
   },
   "source": [
    "# TASK: Extract the numeric value using regular expressions\n"
   ]
  },
  {
   "cell_type": "markdown",
   "metadata": {},
   "source": [
    "*TODO:* Write a custom function using `stringr::str_extract` to extract the first digital substring match and convert it into numeric type For example, extract the value '32' from `32 (including 6 rollers) [162]`.\n"
   ]
  },
  {
   "cell_type": "code",
   "execution_count": 72,
   "metadata": {},
   "outputs": [],
   "source": [
    "# Extract the first number\n",
    "extract_num <- function(columns){\n",
    "    # Define a digital pattern\n",
    "    digitals_pattern <- \"[0-9]+\"\n",
    "    # Find the first match using str_extract\n",
    "    extracted <-str_extract(columns,digitals_pattern)\n",
    "    # Convert the result to numeric using the as.numeric() function\n",
    "    extracted_value<-as.numeric(extracted)\n",
    "    return(extracted_value)\n",
    "}"
   ]
  },
  {
   "cell_type": "markdown",
   "metadata": {},
   "source": [
    "*TODO:* Use the `dplyr::mutate()` function to apply `extract_num` on the `BICYCLES` column\n"
   ]
  },
  {
   "cell_type": "code",
   "execution_count": 73,
   "metadata": {},
   "outputs": [],
   "source": [
    "# Use the mutate() function on the BICYCLES column\n",
    "result2<- result %>% mutate(BICYCLES=extract_num(BICYCLES))"
   ]
  },
  {
   "cell_type": "markdown",
   "metadata": {},
   "source": [
    "*TODO:* Use the summary function to check the descriptive statistics of the numeric `BICYCLES` column\n"
   ]
  },
  {
   "cell_type": "code",
   "execution_count": 74,
   "metadata": {},
   "outputs": [
    {
     "data": {
      "text/plain": [
       "   Min. 1st Qu.  Median    Mean 3rd Qu.    Max.    NA's \n",
       "      5     100     350    2022    1400   78000      78 "
      ]
     },
     "metadata": {},
     "output_type": "display_data"
    }
   ],
   "source": [
    "summary(result2$BICYCLES)"
   ]
  },
  {
   "cell_type": "markdown",
   "metadata": {},
   "source": [
    "*TODO:* Write the cleaned bike-sharing systems dataset into a csv file called `bike_sharing_systems.csv`\n"
   ]
  },
  {
   "cell_type": "code",
   "execution_count": 81,
   "metadata": {},
   "outputs": [
    {
     "data": {
      "text/html": [
       "<table class=\"dataframe\">\n",
       "<caption>A data.frame: 480 × 4</caption>\n",
       "<thead>\n",
       "\t<tr><th scope=col>COUNTRY</th><th scope=col>CITY</th><th scope=col>SYSTEM</th><th scope=col>BICYCLES</th></tr>\n",
       "\t<tr><th scope=col>&lt;chr&gt;</th><th scope=col>&lt;chr&gt;</th><th scope=col>&lt;chr&gt;</th><th scope=col>&lt;int&gt;</th></tr>\n",
       "</thead>\n",
       "<tbody>\n",
       "\t<tr><td>Albania   </td><td>Tirana               </td><td>NA              </td><td> 200</td></tr>\n",
       "\t<tr><td>Argentina </td><td>Mendoza              </td><td>NA              </td><td>  40</td></tr>\n",
       "\t<tr><td>Argentina </td><td>San_Lorenzo,_Santa Fe</td><td>Biciudad        </td><td>  80</td></tr>\n",
       "\t<tr><td>Argentina </td><td>Buenos_Aires         </td><td>Serttel_Brasil  </td><td>4000</td></tr>\n",
       "\t<tr><td>Argentina </td><td>Rosario              </td><td>NA              </td><td> 480</td></tr>\n",
       "\t<tr><td>Australia </td><td><span style=white-space:pre-wrap>Melbourne            </span></td><td><span style=white-space:pre-wrap>PBSC_&amp;_8D       </span></td><td> 676</td></tr>\n",
       "\t<tr><td>Australia </td><td>Brisbane             </td><td>3_Gen._Cyclocity</td><td>2000</td></tr>\n",
       "\t<tr><td>Australia </td><td>Melbourne            </td><td>4_Gen._oBike    </td><td>1250</td></tr>\n",
       "\t<tr><td>Australia </td><td>Sydney               </td><td>4_Gen._oBike    </td><td>1250</td></tr>\n",
       "\t<tr><td>Australia </td><td>Sydney               </td><td>4_Gen._Ofo      </td><td> 600</td></tr>\n",
       "\t<tr><td>Australia </td><td>Sydney               </td><td>Reddy_Go        </td><td>2000</td></tr>\n",
       "\t<tr><td>Austria   </td><td>Vienna               </td><td>3_Gen._Cyclocity</td><td>1500</td></tr>\n",
       "\t<tr><td>Austria   </td><td>Burgenland           </td><td>3_Gen._nextbike </td><td>  NA</td></tr>\n",
       "\t<tr><td>Austria   </td><td>Lower_Austria        </td><td>3_Gen._nextbike </td><td>1300</td></tr>\n",
       "\t<tr><td>Austria   </td><td>Salzburg             </td><td>3_Gen._nextbike </td><td>  NA</td></tr>\n",
       "\t<tr><td>Austria   </td><td>Vienna               </td><td>2_Gen.          </td><td>1500</td></tr>\n",
       "\t<tr><td>Austria   </td><td>Vorarlberg           </td><td>3_Gen._nextbike </td><td>  70</td></tr>\n",
       "\t<tr><td>Bangladesh</td><td>Dhaka                </td><td>JoBike          </td><td> 300</td></tr>\n",
       "\t<tr><td>Belgium   </td><td>Namur                </td><td>3_Gen._Cyclocity</td><td> 200</td></tr>\n",
       "\t<tr><td>Belgium   </td><td>Antwerp              </td><td>3_Gen._Clear CC </td><td>3600</td></tr>\n",
       "\t<tr><td>Belgium   </td><td>Brussels             </td><td>3_Gen._Cyclocity</td><td>4115</td></tr>\n",
       "\t<tr><td>Brazil    </td><td>Salvador             </td><td>tembici         </td><td>  NA</td></tr>\n",
       "\t<tr><td>Brazil    </td><td>Belo_Horizonte       </td><td>Mobilicidade    </td><td> 400</td></tr>\n",
       "\t<tr><td>Brazil    </td><td>Fortaleza            </td><td>Mobilicidade    </td><td> 800</td></tr>\n",
       "\t<tr><td><span style=white-space:pre-wrap>Brazil    </span></td><td><span style=white-space:pre-wrap>Jo&lt;U+FFFD&gt;o_Pessoa   </span></td><td><span style=white-space:pre-wrap>Mobilicidade    </span></td><td><span style=white-space:pre-wrap>  20</span></td></tr>\n",
       "\t<tr><td>Brazil    </td><td>(Pedro_de)_Toledo    </td><td>Toopedalando    </td><td>  60</td></tr>\n",
       "\t<tr><td>Brazil    </td><td>Rio_de_Janeiro       </td><td>tembici         </td><td> 300</td></tr>\n",
       "\t<tr><td><span style=white-space:pre-wrap>Brazil    </span></td><td><span style=white-space:pre-wrap>S&lt;U+FFFD&gt;o_Paulo     </span></td><td><span style=white-space:pre-wrap>tembici         </span></td><td> 600</td></tr>\n",
       "\t<tr><td>Brazil    </td><td>Sorocaba             </td><td>tembici         </td><td> 120</td></tr>\n",
       "\t<tr><td>Bulgaria  </td><td>Burgas               </td><td>Mobilicidade    </td><td> 120</td></tr>\n",
       "\t<tr><td>...</td><td>...</td><td>...</td><td>...</td></tr>\n",
       "\t<tr><td>United_States</td><td>Fullerton,_California                             </td><td>Bike_Nation                        </td><td>  75</td></tr>\n",
       "\t<tr><td>United_States</td><td>Hoboken,_New_Jersey                               </td><td>3_Gen._nextbike                    </td><td> 250</td></tr>\n",
       "\t<tr><td>United_States</td><td>Houston,_Texas                                    </td><td>3_Gen._B-Cycle                     </td><td> 400</td></tr>\n",
       "\t<tr><td>United_States</td><td>Jersey_City                                       </td><td>8D                                 </td><td> 500</td></tr>\n",
       "\t<tr><td>United_States</td><td>Kailua,_Hawaii                                    </td><td>3_Gen._B-Cycle                     </td><td>  12</td></tr>\n",
       "\t<tr><td>United_States</td><td>Kansas_City,_Missouri                             </td><td>3_Gen._B-Cycle                     </td><td> 300</td></tr>\n",
       "\t<tr><td>United_States</td><td>Kona_District,_Hawaii                             </td><td>PBSC                               </td><td>  30</td></tr>\n",
       "\t<tr><td>United_States</td><td>Lansing,_MI                                       </td><td>A2B_Bikeshare                      </td><td>  20</td></tr>\n",
       "\t<tr><td>United_States</td><td>Lincoln,_Nebraska                                 </td><td>3_Gen._B-Cycle                     </td><td> 100</td></tr>\n",
       "\t<tr><td>United_States</td><td>Los_Angeles                                       </td><td>3_Gen._B-Cycle                     </td><td>1000</td></tr>\n",
       "\t<tr><td>United_States</td><td>Madison,_Wisconsin                                </td><td>3_Gen._B-Cycle                     </td><td> 350</td></tr>\n",
       "\t<tr><td>United_States</td><td>Milwaukee,_Wisconsin                              </td><td>3_Gen._B-Cycle                     </td><td> 400</td></tr>\n",
       "\t<tr><td>United_States</td><td><span style=white-space:pre-wrap>Minneapolis,_Minnesota_and Saint Paul, Minnesota  </span></td><td><span style=white-space:pre-wrap>PBSC_&amp;_8D                          </span></td><td>1833</td></tr>\n",
       "\t<tr><td>United_States</td><td>Oklahoma_City,_Oklahoma                           </td><td>Spokies                            </td><td> 100</td></tr>\n",
       "\t<tr><td>United_States</td><td>Omaha,_Nebraska                                   </td><td>3_Gen._B-Cycle                     </td><td>  35</td></tr>\n",
       "\t<tr><td>United_States</td><td>Philadelphia,_Pennsylvania                        </td><td>3_Gen._B-Cycle                     </td><td>1000</td></tr>\n",
       "\t<tr><td>United_States</td><td>Phoenix,_Arizona                                  </td><td>3_Gen._CycleHop and Social Bicycles</td><td> 500</td></tr>\n",
       "\t<tr><td>United_States</td><td>Pittsburgh,_Pennsylvania                          </td><td>3_Gen._nextbike                    </td><td> 500</td></tr>\n",
       "\t<tr><td>United_States</td><td>Portland,_Oregon                                  </td><td>NA                                 </td><td>1000</td></tr>\n",
       "\t<tr><td>United_States</td><td>Portland,_Oregon                                  </td><td>1_Gen._WhiteBikes                  </td><td>1000</td></tr>\n",
       "\t<tr><td>United_States</td><td>Salt_Lake_City, Utah                              </td><td>3_Gen._B-Cycle                     </td><td> 100</td></tr>\n",
       "\t<tr><td>United_States</td><td>San_Antonio,_Texas                                </td><td>3_Gen._B-Cycle                     </td><td> 600</td></tr>\n",
       "\t<tr><td>United_States</td><td>San_Diego                                         </td><td>DecoBike                           </td><td>1800</td></tr>\n",
       "\t<tr><td>United_States</td><td>San_Francisco_Bay Area                            </td><td>NA                                 </td><td>  NA</td></tr>\n",
       "\t<tr><td>United_States</td><td>San_Francisco_Bay Area                            </td><td>8D                                 </td><td>7000</td></tr>\n",
       "\t<tr><td>United_States</td><td>Santa_Monica,_California                          </td><td>3_Gen._CycleHop and Social Bicycles</td><td> 500</td></tr>\n",
       "\t<tr><td>United_States</td><td>Savannah,_Georgia                                 </td><td>3_Gen._B-Cycle                     </td><td>  16</td></tr>\n",
       "\t<tr><td>United_States</td><td>Seattle,_Washington                               </td><td>8D                                 </td><td> 500</td></tr>\n",
       "\t<tr><td>United_States</td><td>Spartanburg,_South_Carolina                       </td><td>3_Gen._B-Cycle                     </td><td>  40</td></tr>\n",
       "\t<tr><td>United_States</td><td>St._Paul                                          </td><td>1_Gen._w/ BikeCard                 </td><td>  NA</td></tr>\n",
       "</tbody>\n",
       "</table>\n"
      ],
      "text/latex": [
       "A data.frame: 480 × 4\n",
       "\\begin{tabular}{llll}\n",
       " COUNTRY & CITY & SYSTEM & BICYCLES\\\\\n",
       " <chr> & <chr> & <chr> & <int>\\\\\n",
       "\\hline\n",
       "\t Albania    & Tirana                & NA               &  200\\\\\n",
       "\t Argentina  & Mendoza               & NA               &   40\\\\\n",
       "\t Argentina  & San\\_Lorenzo,\\_Santa Fe & Biciudad         &   80\\\\\n",
       "\t Argentina  & Buenos\\_Aires          & Serttel\\_Brasil   & 4000\\\\\n",
       "\t Argentina  & Rosario               & NA               &  480\\\\\n",
       "\t Australia  & Melbourne             & PBSC\\_\\&\\_8D        &  676\\\\\n",
       "\t Australia  & Brisbane              & 3\\_Gen.\\_Cyclocity & 2000\\\\\n",
       "\t Australia  & Melbourne             & 4\\_Gen.\\_oBike     & 1250\\\\\n",
       "\t Australia  & Sydney                & 4\\_Gen.\\_oBike     & 1250\\\\\n",
       "\t Australia  & Sydney                & 4\\_Gen.\\_Ofo       &  600\\\\\n",
       "\t Australia  & Sydney                & Reddy\\_Go         & 2000\\\\\n",
       "\t Austria    & Vienna                & 3\\_Gen.\\_Cyclocity & 1500\\\\\n",
       "\t Austria    & Burgenland            & 3\\_Gen.\\_nextbike  &   NA\\\\\n",
       "\t Austria    & Lower\\_Austria         & 3\\_Gen.\\_nextbike  & 1300\\\\\n",
       "\t Austria    & Salzburg              & 3\\_Gen.\\_nextbike  &   NA\\\\\n",
       "\t Austria    & Vienna                & 2\\_Gen.           & 1500\\\\\n",
       "\t Austria    & Vorarlberg            & 3\\_Gen.\\_nextbike  &   70\\\\\n",
       "\t Bangladesh & Dhaka                 & JoBike           &  300\\\\\n",
       "\t Belgium    & Namur                 & 3\\_Gen.\\_Cyclocity &  200\\\\\n",
       "\t Belgium    & Antwerp               & 3\\_Gen.\\_Clear CC  & 3600\\\\\n",
       "\t Belgium    & Brussels              & 3\\_Gen.\\_Cyclocity & 4115\\\\\n",
       "\t Brazil     & Salvador              & tembici          &   NA\\\\\n",
       "\t Brazil     & Belo\\_Horizonte        & Mobilicidade     &  400\\\\\n",
       "\t Brazil     & Fortaleza             & Mobilicidade     &  800\\\\\n",
       "\t Brazil     & Jo<U+FFFD>o\\_Pessoa    & Mobilicidade     &   20\\\\\n",
       "\t Brazil     & (Pedro\\_de)\\_Toledo     & Toopedalando     &   60\\\\\n",
       "\t Brazil     & Rio\\_de\\_Janeiro        & tembici          &  300\\\\\n",
       "\t Brazil     & S<U+FFFD>o\\_Paulo      & tembici          &  600\\\\\n",
       "\t Brazil     & Sorocaba              & tembici          &  120\\\\\n",
       "\t Bulgaria   & Burgas                & Mobilicidade     &  120\\\\\n",
       "\t ... & ... & ... & ...\\\\\n",
       "\t United\\_States & Fullerton,\\_California                              & Bike\\_Nation                         &   75\\\\\n",
       "\t United\\_States & Hoboken,\\_New\\_Jersey                                & 3\\_Gen.\\_nextbike                     &  250\\\\\n",
       "\t United\\_States & Houston,\\_Texas                                     & 3\\_Gen.\\_B-Cycle                      &  400\\\\\n",
       "\t United\\_States & Jersey\\_City                                        & 8D                                  &  500\\\\\n",
       "\t United\\_States & Kailua,\\_Hawaii                                     & 3\\_Gen.\\_B-Cycle                      &   12\\\\\n",
       "\t United\\_States & Kansas\\_City,\\_Missouri                              & 3\\_Gen.\\_B-Cycle                      &  300\\\\\n",
       "\t United\\_States & Kona\\_District,\\_Hawaii                              & PBSC                                &   30\\\\\n",
       "\t United\\_States & Lansing,\\_MI                                        & A2B\\_Bikeshare                       &   20\\\\\n",
       "\t United\\_States & Lincoln,\\_Nebraska                                  & 3\\_Gen.\\_B-Cycle                      &  100\\\\\n",
       "\t United\\_States & Los\\_Angeles                                        & 3\\_Gen.\\_B-Cycle                      & 1000\\\\\n",
       "\t United\\_States & Madison,\\_Wisconsin                                 & 3\\_Gen.\\_B-Cycle                      &  350\\\\\n",
       "\t United\\_States & Milwaukee,\\_Wisconsin                               & 3\\_Gen.\\_B-Cycle                      &  400\\\\\n",
       "\t United\\_States & Minneapolis,\\_Minnesota\\_and Saint Paul, Minnesota   & PBSC\\_\\&\\_8D                           & 1833\\\\\n",
       "\t United\\_States & Oklahoma\\_City,\\_Oklahoma                            & Spokies                             &  100\\\\\n",
       "\t United\\_States & Omaha,\\_Nebraska                                    & 3\\_Gen.\\_B-Cycle                      &   35\\\\\n",
       "\t United\\_States & Philadelphia,\\_Pennsylvania                         & 3\\_Gen.\\_B-Cycle                      & 1000\\\\\n",
       "\t United\\_States & Phoenix,\\_Arizona                                   & 3\\_Gen.\\_CycleHop and Social Bicycles &  500\\\\\n",
       "\t United\\_States & Pittsburgh,\\_Pennsylvania                           & 3\\_Gen.\\_nextbike                     &  500\\\\\n",
       "\t United\\_States & Portland,\\_Oregon                                   & NA                                  & 1000\\\\\n",
       "\t United\\_States & Portland,\\_Oregon                                   & 1\\_Gen.\\_WhiteBikes                   & 1000\\\\\n",
       "\t United\\_States & Salt\\_Lake\\_City, Utah                               & 3\\_Gen.\\_B-Cycle                      &  100\\\\\n",
       "\t United\\_States & San\\_Antonio,\\_Texas                                 & 3\\_Gen.\\_B-Cycle                      &  600\\\\\n",
       "\t United\\_States & San\\_Diego                                          & DecoBike                            & 1800\\\\\n",
       "\t United\\_States & San\\_Francisco\\_Bay Area                             & NA                                  &   NA\\\\\n",
       "\t United\\_States & San\\_Francisco\\_Bay Area                             & 8D                                  & 7000\\\\\n",
       "\t United\\_States & Santa\\_Monica,\\_California                           & 3\\_Gen.\\_CycleHop and Social Bicycles &  500\\\\\n",
       "\t United\\_States & Savannah,\\_Georgia                                  & 3\\_Gen.\\_B-Cycle                      &   16\\\\\n",
       "\t United\\_States & Seattle,\\_Washington                                & 8D                                  &  500\\\\\n",
       "\t United\\_States & Spartanburg,\\_South\\_Carolina                        & 3\\_Gen.\\_B-Cycle                      &   40\\\\\n",
       "\t United\\_States & St.\\_Paul                                           & 1\\_Gen.\\_w/ BikeCard                  &   NA\\\\\n",
       "\\end{tabular}\n"
      ],
      "text/markdown": [
       "\n",
       "A data.frame: 480 × 4\n",
       "\n",
       "| COUNTRY &lt;chr&gt; | CITY &lt;chr&gt; | SYSTEM &lt;chr&gt; | BICYCLES &lt;int&gt; |\n",
       "|---|---|---|---|\n",
       "| Albania    | Tirana                | NA               |  200 |\n",
       "| Argentina  | Mendoza               | NA               |   40 |\n",
       "| Argentina  | San_Lorenzo,_Santa Fe | Biciudad         |   80 |\n",
       "| Argentina  | Buenos_Aires          | Serttel_Brasil   | 4000 |\n",
       "| Argentina  | Rosario               | NA               |  480 |\n",
       "| Australia  | Melbourne             | PBSC_&amp;_8D        |  676 |\n",
       "| Australia  | Brisbane              | 3_Gen._Cyclocity | 2000 |\n",
       "| Australia  | Melbourne             | 4_Gen._oBike     | 1250 |\n",
       "| Australia  | Sydney                | 4_Gen._oBike     | 1250 |\n",
       "| Australia  | Sydney                | 4_Gen._Ofo       |  600 |\n",
       "| Australia  | Sydney                | Reddy_Go         | 2000 |\n",
       "| Austria    | Vienna                | 3_Gen._Cyclocity | 1500 |\n",
       "| Austria    | Burgenland            | 3_Gen._nextbike  |   NA |\n",
       "| Austria    | Lower_Austria         | 3_Gen._nextbike  | 1300 |\n",
       "| Austria    | Salzburg              | 3_Gen._nextbike  |   NA |\n",
       "| Austria    | Vienna                | 2_Gen.           | 1500 |\n",
       "| Austria    | Vorarlberg            | 3_Gen._nextbike  |   70 |\n",
       "| Bangladesh | Dhaka                 | JoBike           |  300 |\n",
       "| Belgium    | Namur                 | 3_Gen._Cyclocity |  200 |\n",
       "| Belgium    | Antwerp               | 3_Gen._Clear CC  | 3600 |\n",
       "| Belgium    | Brussels              | 3_Gen._Cyclocity | 4115 |\n",
       "| Brazil     | Salvador              | tembici          |   NA |\n",
       "| Brazil     | Belo_Horizonte        | Mobilicidade     |  400 |\n",
       "| Brazil     | Fortaleza             | Mobilicidade     |  800 |\n",
       "| Brazil     | Jo&lt;U+FFFD&gt;o_Pessoa    | Mobilicidade     |   20 |\n",
       "| Brazil     | (Pedro_de)_Toledo     | Toopedalando     |   60 |\n",
       "| Brazil     | Rio_de_Janeiro        | tembici          |  300 |\n",
       "| Brazil     | S&lt;U+FFFD&gt;o_Paulo      | tembici          |  600 |\n",
       "| Brazil     | Sorocaba              | tembici          |  120 |\n",
       "| Bulgaria   | Burgas                | Mobilicidade     |  120 |\n",
       "| ... | ... | ... | ... |\n",
       "| United_States | Fullerton,_California                              | Bike_Nation                         |   75 |\n",
       "| United_States | Hoboken,_New_Jersey                                | 3_Gen._nextbike                     |  250 |\n",
       "| United_States | Houston,_Texas                                     | 3_Gen._B-Cycle                      |  400 |\n",
       "| United_States | Jersey_City                                        | 8D                                  |  500 |\n",
       "| United_States | Kailua,_Hawaii                                     | 3_Gen._B-Cycle                      |   12 |\n",
       "| United_States | Kansas_City,_Missouri                              | 3_Gen._B-Cycle                      |  300 |\n",
       "| United_States | Kona_District,_Hawaii                              | PBSC                                |   30 |\n",
       "| United_States | Lansing,_MI                                        | A2B_Bikeshare                       |   20 |\n",
       "| United_States | Lincoln,_Nebraska                                  | 3_Gen._B-Cycle                      |  100 |\n",
       "| United_States | Los_Angeles                                        | 3_Gen._B-Cycle                      | 1000 |\n",
       "| United_States | Madison,_Wisconsin                                 | 3_Gen._B-Cycle                      |  350 |\n",
       "| United_States | Milwaukee,_Wisconsin                               | 3_Gen._B-Cycle                      |  400 |\n",
       "| United_States | Minneapolis,_Minnesota_and Saint Paul, Minnesota   | PBSC_&amp;_8D                           | 1833 |\n",
       "| United_States | Oklahoma_City,_Oklahoma                            | Spokies                             |  100 |\n",
       "| United_States | Omaha,_Nebraska                                    | 3_Gen._B-Cycle                      |   35 |\n",
       "| United_States | Philadelphia,_Pennsylvania                         | 3_Gen._B-Cycle                      | 1000 |\n",
       "| United_States | Phoenix,_Arizona                                   | 3_Gen._CycleHop and Social Bicycles |  500 |\n",
       "| United_States | Pittsburgh,_Pennsylvania                           | 3_Gen._nextbike                     |  500 |\n",
       "| United_States | Portland,_Oregon                                   | NA                                  | 1000 |\n",
       "| United_States | Portland,_Oregon                                   | 1_Gen._WhiteBikes                   | 1000 |\n",
       "| United_States | Salt_Lake_City, Utah                               | 3_Gen._B-Cycle                      |  100 |\n",
       "| United_States | San_Antonio,_Texas                                 | 3_Gen._B-Cycle                      |  600 |\n",
       "| United_States | San_Diego                                          | DecoBike                            | 1800 |\n",
       "| United_States | San_Francisco_Bay Area                             | NA                                  |   NA |\n",
       "| United_States | San_Francisco_Bay Area                             | 8D                                  | 7000 |\n",
       "| United_States | Santa_Monica,_California                           | 3_Gen._CycleHop and Social Bicycles |  500 |\n",
       "| United_States | Savannah,_Georgia                                  | 3_Gen._B-Cycle                      |   16 |\n",
       "| United_States | Seattle,_Washington                                | 8D                                  |  500 |\n",
       "| United_States | Spartanburg,_South_Carolina                        | 3_Gen._B-Cycle                      |   40 |\n",
       "| United_States | St._Paul                                           | 1_Gen._w/ BikeCard                  |   NA |\n",
       "\n"
      ],
      "text/plain": [
       "    COUNTRY       CITY                                              \n",
       "1   Albania       Tirana                                            \n",
       "2   Argentina     Mendoza                                           \n",
       "3   Argentina     San_Lorenzo,_Santa Fe                             \n",
       "4   Argentina     Buenos_Aires                                      \n",
       "5   Argentina     Rosario                                           \n",
       "6   Australia     Melbourne                                         \n",
       "7   Australia     Brisbane                                          \n",
       "8   Australia     Melbourne                                         \n",
       "9   Australia     Sydney                                            \n",
       "10  Australia     Sydney                                            \n",
       "11  Australia     Sydney                                            \n",
       "12  Austria       Vienna                                            \n",
       "13  Austria       Burgenland                                        \n",
       "14  Austria       Lower_Austria                                     \n",
       "15  Austria       Salzburg                                          \n",
       "16  Austria       Vienna                                            \n",
       "17  Austria       Vorarlberg                                        \n",
       "18  Bangladesh    Dhaka                                             \n",
       "19  Belgium       Namur                                             \n",
       "20  Belgium       Antwerp                                           \n",
       "21  Belgium       Brussels                                          \n",
       "22  Brazil        Salvador                                          \n",
       "23  Brazil        Belo_Horizonte                                    \n",
       "24  Brazil        Fortaleza                                         \n",
       "25  Brazil        Jo<U+FFFD>o_Pessoa                                \n",
       "26  Brazil        (Pedro_de)_Toledo                                 \n",
       "27  Brazil        Rio_de_Janeiro                                    \n",
       "28  Brazil        S<U+FFFD>o_Paulo                                  \n",
       "29  Brazil        Sorocaba                                          \n",
       "30  Bulgaria      Burgas                                            \n",
       "... ...           ...                                               \n",
       "451 United_States Fullerton,_California                             \n",
       "452 United_States Hoboken,_New_Jersey                               \n",
       "453 United_States Houston,_Texas                                    \n",
       "454 United_States Jersey_City                                       \n",
       "455 United_States Kailua,_Hawaii                                    \n",
       "456 United_States Kansas_City,_Missouri                             \n",
       "457 United_States Kona_District,_Hawaii                             \n",
       "458 United_States Lansing,_MI                                       \n",
       "459 United_States Lincoln,_Nebraska                                 \n",
       "460 United_States Los_Angeles                                       \n",
       "461 United_States Madison,_Wisconsin                                \n",
       "462 United_States Milwaukee,_Wisconsin                              \n",
       "463 United_States Minneapolis,_Minnesota_and Saint Paul, Minnesota  \n",
       "464 United_States Oklahoma_City,_Oklahoma                           \n",
       "465 United_States Omaha,_Nebraska                                   \n",
       "466 United_States Philadelphia,_Pennsylvania                        \n",
       "467 United_States Phoenix,_Arizona                                  \n",
       "468 United_States Pittsburgh,_Pennsylvania                          \n",
       "469 United_States Portland,_Oregon                                  \n",
       "470 United_States Portland,_Oregon                                  \n",
       "471 United_States Salt_Lake_City, Utah                              \n",
       "472 United_States San_Antonio,_Texas                                \n",
       "473 United_States San_Diego                                         \n",
       "474 United_States San_Francisco_Bay Area                            \n",
       "475 United_States San_Francisco_Bay Area                            \n",
       "476 United_States Santa_Monica,_California                          \n",
       "477 United_States Savannah,_Georgia                                 \n",
       "478 United_States Seattle,_Washington                               \n",
       "479 United_States Spartanburg,_South_Carolina                       \n",
       "480 United_States St._Paul                                          \n",
       "    SYSTEM                              BICYCLES\n",
       "1   NA                                   200    \n",
       "2   NA                                    40    \n",
       "3   Biciudad                              80    \n",
       "4   Serttel_Brasil                      4000    \n",
       "5   NA                                   480    \n",
       "6   PBSC_&_8D                            676    \n",
       "7   3_Gen._Cyclocity                    2000    \n",
       "8   4_Gen._oBike                        1250    \n",
       "9   4_Gen._oBike                        1250    \n",
       "10  4_Gen._Ofo                           600    \n",
       "11  Reddy_Go                            2000    \n",
       "12  3_Gen._Cyclocity                    1500    \n",
       "13  3_Gen._nextbike                       NA    \n",
       "14  3_Gen._nextbike                     1300    \n",
       "15  3_Gen._nextbike                       NA    \n",
       "16  2_Gen.                              1500    \n",
       "17  3_Gen._nextbike                       70    \n",
       "18  JoBike                               300    \n",
       "19  3_Gen._Cyclocity                     200    \n",
       "20  3_Gen._Clear CC                     3600    \n",
       "21  3_Gen._Cyclocity                    4115    \n",
       "22  tembici                               NA    \n",
       "23  Mobilicidade                         400    \n",
       "24  Mobilicidade                         800    \n",
       "25  Mobilicidade                          20    \n",
       "26  Toopedalando                          60    \n",
       "27  tembici                              300    \n",
       "28  tembici                              600    \n",
       "29  tembici                              120    \n",
       "30  Mobilicidade                         120    \n",
       "... ...                                 ...     \n",
       "451 Bike_Nation                           75    \n",
       "452 3_Gen._nextbike                      250    \n",
       "453 3_Gen._B-Cycle                       400    \n",
       "454 8D                                   500    \n",
       "455 3_Gen._B-Cycle                        12    \n",
       "456 3_Gen._B-Cycle                       300    \n",
       "457 PBSC                                  30    \n",
       "458 A2B_Bikeshare                         20    \n",
       "459 3_Gen._B-Cycle                       100    \n",
       "460 3_Gen._B-Cycle                      1000    \n",
       "461 3_Gen._B-Cycle                       350    \n",
       "462 3_Gen._B-Cycle                       400    \n",
       "463 PBSC_&_8D                           1833    \n",
       "464 Spokies                              100    \n",
       "465 3_Gen._B-Cycle                        35    \n",
       "466 3_Gen._B-Cycle                      1000    \n",
       "467 3_Gen._CycleHop and Social Bicycles  500    \n",
       "468 3_Gen._nextbike                      500    \n",
       "469 NA                                  1000    \n",
       "470 1_Gen._WhiteBikes                   1000    \n",
       "471 3_Gen._B-Cycle                       100    \n",
       "472 3_Gen._B-Cycle                       600    \n",
       "473 DecoBike                            1800    \n",
       "474 NA                                    NA    \n",
       "475 8D                                  7000    \n",
       "476 3_Gen._CycleHop and Social Bicycles  500    \n",
       "477 3_Gen._B-Cycle                        16    \n",
       "478 8D                                   500    \n",
       "479 3_Gen._B-Cycle                        40    \n",
       "480 1_Gen._w/ BikeCard                    NA    "
      ]
     },
     "metadata": {},
     "output_type": "display_data"
    }
   ],
   "source": [
    "# Write dataset to `bike_sharing_systems.csv`\n",
    "write.csv(result2,\"D:bike_sharing_systems.csv\",row.names=FALSE)\n",
    "read.csv(\"bike_sharing_systems.csv\")"
   ]
  },
  {
   "cell_type": "markdown",
   "metadata": {},
   "source": [
    "# References:\n"
   ]
  },
  {
   "cell_type": "markdown",
   "metadata": {},
   "source": [
    "If you need to refresh your memory about regular expressions, please refer to this good Regular Expression cheat sheet:\n",
    "\n",
    "<a href=\"https://www.rstudio.com/wp-content/uploads/2016/09/RegExCheatsheet.pdf?utm_medium=Exinfluencer&utm_source=Exinfluencer&utm_content=000026UJ&utm_term=10006555&utm_id=NA-SkillsNetwork-Channel-SkillsNetworkCoursesIBMDeveloperSkillsNetworkRP0321ENSkillsNetwork25371262-2022-01-01\" target=\"_blank\">Basic Regular Expressions in R</a>\n"
   ]
  },
  {
   "cell_type": "markdown",
   "metadata": {},
   "source": [
    "# Next Steps\n"
   ]
  },
  {
   "cell_type": "markdown",
   "metadata": {},
   "source": [
    "Great! Now you have cleaned up the bike-sharing system dataset using regular expressions. Next, you will use other `tidyverse` functions to perform data wrangling on the bike-sharing demand dataset.\n"
   ]
  },
  {
   "cell_type": "markdown",
   "metadata": {},
   "source": [
    "## Authors\n",
    "\n",
    "<a href=\"https://www.linkedin.com/in/yan-luo-96288783/?utm_medium=Exinfluencer&utm_source=Exinfluencer&utm_content=000026UJ&utm_term=10006555&utm_id=NA-SkillsNetwork-Channel-SkillsNetworkCoursesIBMDeveloperSkillsNetworkRP0321ENSkillsNetwork25371262-2022-01-01\" target=\"_blank\">Yan Luo</a>\n"
   ]
  },
  {
   "cell_type": "markdown",
   "metadata": {},
   "source": [
    "### Other Contributors\n",
    "\n",
    "Jeff Grossman\n"
   ]
  },
  {
   "cell_type": "markdown",
   "metadata": {},
   "source": [
    "## Change Log\n",
    "\n",
    "| Date (YYYY-MM-DD) | Version | Changed By | Change Description      |\n",
    "| ----------------- | ------- | ---------- | ----------------------- |\n",
    "| 2021-04-08        | 1.0     | Yan        | Initial version created |\n",
    "|                   |         |            |                         |\n",
    "|                   |         |            |                         |\n",
    "\n",
    "## <h3 align=\"center\"> © IBM Corporation 2021. All rights reserved. <h3/>\n"
   ]
  }
 ],
 "metadata": {
  "kernelspec": {
   "display_name": "R",
   "language": "R",
   "name": "ir"
  },
  "language_info": {
   "codemirror_mode": "r",
   "file_extension": ".r",
   "mimetype": "text/x-r-source",
   "name": "R",
   "pygments_lexer": "r",
   "version": "4.1.3"
  }
 },
 "nbformat": 4,
 "nbformat_minor": 4
}
