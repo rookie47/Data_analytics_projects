{
 "cells": [
  {
   "cell_type": "markdown",
   "metadata": {},
   "source": [
    "<center>\n",
    "    <img src=\"https://s3-api.us-geo.objectstorage.softlayer.net/cf-courses-data/CognitiveClass/Logos/organization_logo/organization_logo.png\" width=\"1000\" alt=\"cognitiveclass.ai logo\"  />\n",
    "</center>\n",
    "\n",
    "# Assignment: Exploratory Data Analysis with SQL\n",
    "\n",
    "Estimated time needed: 60 minutes\n",
    "\n",
    "# Introduction\n",
    "\n",
    "Using this R notebook you will perform exploratory data analysis tasks using SQL queries with the RODBC R package. You will not be graded here, but you will be asked to present some of these results in your final assignment, where you will be graded on the accuracy of your results as well as the content of your SQL queries.\n"
   ]
  },
  {
   "cell_type": "markdown",
   "metadata": {},
   "source": [
    "### Establish your Db2 connection\n",
    "\n",
    "Load the 'RODBC' library, and use the 'odbcConnect( )' function as you did in the previous lab to establish the connection to your Db2 assets.\\\n",
    "Provided you successfully loaded your data into the tables in that lab, you are now ready to start running SQL queries using the RODBC library as you did in Course 3.\n"
   ]
  },
  {
   "cell_type": "code",
   "execution_count": 1,
   "metadata": {},
   "outputs": [
    {
     "name": "stderr",
     "output_type": "stream",
     "text": [
      "Warning message in odbcDriverConnect(conn_path, believeNRows = FALSE):\n",
      "\"[RODBC] ERROR: state IM002, code 0, message [Microsoft][ODBC Driver Manager] Data source name not found and no default driver specified\"\n",
      "Warning message in odbcDriverConnect(conn_path, believeNRows = FALSE):\n",
      "\"ODBC connection failed\"\n"
     ]
    }
   ],
   "source": [
    "# provide your solution here\n",
    "library(RODBC)\n",
    "\n",
    "dsn_driver <- \"{IBM DB2 ODBC Driver}\"\n",
    "dsn_database <- \"bludb\"            \n",
    "dsn_hostname <- \"2f3279a5-73d1-4859-88f0-a6c3e6b4b907.c3n41cmd0nqnrk39u98g.databases.appdomain.cloud\" \n",
    "dsn_port <- \"30756\"                \n",
    "dsn_protocol <- \"TCPIP\"            \n",
    "dsn_uid <- \"rnj71797\"        \n",
    "dsn_pwd <- \"LLIyAugFgYYZcVYm\" \n",
    "dsn_security <- \"ssl\"\n",
    "\n",
    "conn_path <-paste(\"DRIVER=\",dsn_driver,\n",
    "               \";DATABASE=\",dsn_database,\n",
    "               \";HOSTNAME=\",dsn_hostname,\n",
    "               \";PORT=\",dsn_port,\n",
    "               \";PROTOCOL=\",dsn_protocol,\n",
    "               \";UID=\",dsn_uid,\n",
    "               \";PWD=\",dsn_pwd,\n",
    "               \";SECURITY=\",dsn_security,\n",
    "                sep= \"\")\n",
    "\n",
    "conn <- odbcDriverConnect(conn_path,believeNRows=FALSE )\n"
   ]
  },
  {
   "cell_type": "markdown",
   "metadata": {},
   "source": [
    "## Task 1 - Record Count\n",
    "\n",
    "#### Determine how many records are in the seoul_bike_sharing dataset.\n"
   ]
  },
  {
   "cell_type": "markdown",
   "metadata": {},
   "source": [
    "### Solution 1\n"
   ]
  },
  {
   "cell_type": "code",
   "execution_count": 2,
   "metadata": {
    "scrolled": true
   },
   "outputs": [
    {
     "data": {
      "text/html": [
       "<table>\n",
       "<caption>A data.frame: 1 × 1</caption>\n",
       "<thead>\n",
       "\t<tr><th></th><th scope=col>1</th></tr>\n",
       "\t<tr><th></th><th scope=col>&lt;int&gt;</th></tr>\n",
       "</thead>\n",
       "<tbody>\n",
       "\t<tr><th scope=row>1</th><td>8465</td></tr>\n",
       "</tbody>\n",
       "</table>\n"
      ],
      "text/latex": [
       "A data.frame: 1 × 1\n",
       "\\begin{tabular}{r|l}\n",
       "  & 1\\\\\n",
       "  & <int>\\\\\n",
       "\\hline\n",
       "\t1 & 8465\\\\\n",
       "\\end{tabular}\n"
      ],
      "text/markdown": [
       "\n",
       "A data.frame: 1 × 1\n",
       "\n",
       "| <!--/--> | 1 &lt;int&gt; |\n",
       "|---|---|\n",
       "| 1 | 8465 |\n",
       "\n"
      ],
      "text/plain": [
       "  1   \n",
       "1 8465"
      ]
     },
     "metadata": {},
     "output_type": "display_data"
    }
   ],
   "source": [
    "# provide your solution here\n",
    "count_records<-\"select count (*) from SEOUL_BIKE_SHARING\"\n",
    "sqlQuery(conn,count_records)"
   ]
  },
  {
   "cell_type": "markdown",
   "metadata": {},
   "source": [
    "## Task 2 - Operational Hours\n",
    "\n",
    "#### Determine how many hours had non-zero rented bike count.\n"
   ]
  },
  {
   "cell_type": "markdown",
   "metadata": {},
   "source": [
    "### Solution 2\n"
   ]
  },
  {
   "cell_type": "code",
   "execution_count": 3,
   "metadata": {
    "scrolled": true
   },
   "outputs": [
    {
     "data": {
      "text/html": [
       "<table>\n",
       "<caption>A data.frame: 1 × 1</caption>\n",
       "<thead>\n",
       "\t<tr><th></th><th scope=col>1</th></tr>\n",
       "\t<tr><th></th><th scope=col>&lt;int&gt;</th></tr>\n",
       "</thead>\n",
       "<tbody>\n",
       "\t<tr><th scope=row>1</th><td>5974681</td></tr>\n",
       "</tbody>\n",
       "</table>\n"
      ],
      "text/latex": [
       "A data.frame: 1 × 1\n",
       "\\begin{tabular}{r|l}\n",
       "  & 1\\\\\n",
       "  & <int>\\\\\n",
       "\\hline\n",
       "\t1 & 5974681\\\\\n",
       "\\end{tabular}\n"
      ],
      "text/markdown": [
       "\n",
       "A data.frame: 1 × 1\n",
       "\n",
       "| <!--/--> | 1 &lt;int&gt; |\n",
       "|---|---|\n",
       "| 1 | 5974681 |\n",
       "\n"
      ],
      "text/plain": [
       "  1      \n",
       "1 5974681"
      ]
     },
     "metadata": {},
     "output_type": "display_data"
    }
   ],
   "source": [
    "# provide your solution here\n",
    "non_zero<-\"select sum(RENTED_BIKE_COUNT) from SEOUL_BIKE_SHARING\n",
    "            where HOUR > 0\"\n",
    "sqlQuery(conn,non_zero)"
   ]
  },
  {
   "cell_type": "markdown",
   "metadata": {},
   "source": [
    "## Task 3 - Weather Outlook\n",
    "\n",
    "#### Query the the weather forecast for Seoul over the next 3 hours.\n",
    "\n",
    "Recall that the records in the CITIES_WEATHER_FORECAST dataset are 3 hours apart, so we just need the first record from the query.\n"
   ]
  },
  {
   "cell_type": "markdown",
   "metadata": {},
   "source": [
    "### Solution 3\n"
   ]
  },
  {
   "cell_type": "code",
   "execution_count": 4,
   "metadata": {},
   "outputs": [
    {
     "data": {
      "text/html": [
       "<table>\n",
       "<caption>A data.frame: 1 × 12</caption>\n",
       "<thead>\n",
       "\t<tr><th></th><th scope=col>CITY</th><th scope=col>WEATHER</th><th scope=col>VISIBILITY</th><th scope=col>TEMP</th><th scope=col>TEMP_MIN</th><th scope=col>TEMP_MAX</th><th scope=col>PRESSURE</th><th scope=col>HUMIDITY</th><th scope=col>WIND_SPEED</th><th scope=col>WIND_DEG</th><th scope=col>SEASON</th><th scope=col>FORECAST_DATETIME</th></tr>\n",
       "\t<tr><th></th><th scope=col>&lt;fct&gt;</th><th scope=col>&lt;fct&gt;</th><th scope=col>&lt;int&gt;</th><th scope=col>&lt;dbl&gt;</th><th scope=col>&lt;dbl&gt;</th><th scope=col>&lt;dbl&gt;</th><th scope=col>&lt;int&gt;</th><th scope=col>&lt;int&gt;</th><th scope=col>&lt;dbl&gt;</th><th scope=col>&lt;int&gt;</th><th scope=col>&lt;fct&gt;</th><th scope=col>&lt;dttm&gt;</th></tr>\n",
       "</thead>\n",
       "<tbody>\n",
       "\t<tr><th scope=row>1</th><td>Seoul</td><td>Clear</td><td>10000</td><td>12.32</td><td>10.91</td><td>12.32</td><td>1015</td><td>50</td><td>2.18</td><td>248</td><td>Spring</td><td>2021-04-16 12:00:00</td></tr>\n",
       "</tbody>\n",
       "</table>\n"
      ],
      "text/latex": [
       "A data.frame: 1 × 12\n",
       "\\begin{tabular}{r|llllllllllll}\n",
       "  & CITY & WEATHER & VISIBILITY & TEMP & TEMP\\_MIN & TEMP\\_MAX & PRESSURE & HUMIDITY & WIND\\_SPEED & WIND\\_DEG & SEASON & FORECAST\\_DATETIME\\\\\n",
       "  & <fct> & <fct> & <int> & <dbl> & <dbl> & <dbl> & <int> & <int> & <dbl> & <int> & <fct> & <dttm>\\\\\n",
       "\\hline\n",
       "\t1 & Seoul & Clear & 10000 & 12.32 & 10.91 & 12.32 & 1015 & 50 & 2.18 & 248 & Spring & 2021-04-16 12:00:00\\\\\n",
       "\\end{tabular}\n"
      ],
      "text/markdown": [
       "\n",
       "A data.frame: 1 × 12\n",
       "\n",
       "| <!--/--> | CITY &lt;fct&gt; | WEATHER &lt;fct&gt; | VISIBILITY &lt;int&gt; | TEMP &lt;dbl&gt; | TEMP_MIN &lt;dbl&gt; | TEMP_MAX &lt;dbl&gt; | PRESSURE &lt;int&gt; | HUMIDITY &lt;int&gt; | WIND_SPEED &lt;dbl&gt; | WIND_DEG &lt;int&gt; | SEASON &lt;fct&gt; | FORECAST_DATETIME &lt;dttm&gt; |\n",
       "|---|---|---|---|---|---|---|---|---|---|---|---|---|\n",
       "| 1 | Seoul | Clear | 10000 | 12.32 | 10.91 | 12.32 | 1015 | 50 | 2.18 | 248 | Spring | 2021-04-16 12:00:00 |\n",
       "\n"
      ],
      "text/plain": [
       "  CITY  WEATHER VISIBILITY TEMP  TEMP_MIN TEMP_MAX PRESSURE HUMIDITY WIND_SPEED\n",
       "1 Seoul Clear   10000      12.32 10.91    12.32    1015     50       2.18      \n",
       "  WIND_DEG SEASON FORECAST_DATETIME  \n",
       "1 248      Spring 2021-04-16 12:00:00"
      ]
     },
     "metadata": {},
     "output_type": "display_data"
    }
   ],
   "source": [
    "# provide your solution here\n",
    "weather_outlook<-\"select * from CITIES_WEATHER_FORECAST\n",
    "                    limit 1\"\n",
    "\n",
    "sqlQuery(conn,weather_outlook)"
   ]
  },
  {
   "cell_type": "markdown",
   "metadata": {},
   "source": [
    "## Task 4 - Seasons\n",
    "\n",
    "#### Find which seasons are included in the seoul bike sharing dataset.\n"
   ]
  },
  {
   "cell_type": "markdown",
   "metadata": {},
   "source": [
    "### Solution 4\n"
   ]
  },
  {
   "cell_type": "code",
   "execution_count": 45,
   "metadata": {},
   "outputs": [
    {
     "data": {
      "text/html": [
       "<table>\n",
       "<caption>A data.frame: 4 × 1</caption>\n",
       "<thead>\n",
       "\t<tr><th></th><th scope=col>SEASONS</th></tr>\n",
       "\t<tr><th></th><th scope=col>&lt;fct&gt;</th></tr>\n",
       "</thead>\n",
       "<tbody>\n",
       "\t<tr><th scope=row>1</th><td>Autumn</td></tr>\n",
       "\t<tr><th scope=row>2</th><td>Spring</td></tr>\n",
       "\t<tr><th scope=row>3</th><td>Summer</td></tr>\n",
       "\t<tr><th scope=row>4</th><td>Winter</td></tr>\n",
       "</tbody>\n",
       "</table>\n"
      ],
      "text/latex": [
       "A data.frame: 4 × 1\n",
       "\\begin{tabular}{r|l}\n",
       "  & SEASONS\\\\\n",
       "  & <fct>\\\\\n",
       "\\hline\n",
       "\t1 & Autumn\\\\\n",
       "\t2 & Spring\\\\\n",
       "\t3 & Summer\\\\\n",
       "\t4 & Winter\\\\\n",
       "\\end{tabular}\n"
      ],
      "text/markdown": [
       "\n",
       "A data.frame: 4 × 1\n",
       "\n",
       "| <!--/--> | SEASONS &lt;fct&gt; |\n",
       "|---|---|\n",
       "| 1 | Autumn |\n",
       "| 2 | Spring |\n",
       "| 3 | Summer |\n",
       "| 4 | Winter |\n",
       "\n"
      ],
      "text/plain": [
       "  SEASONS\n",
       "1 Autumn \n",
       "2 Spring \n",
       "3 Summer \n",
       "4 Winter "
      ]
     },
     "metadata": {},
     "output_type": "display_data"
    }
   ],
   "source": [
    "# provide your solution here\n",
    "seasons<-\"select distinct SEASONS FROM SEOUL_BIKE_SHARING\"\n",
    "\n",
    "sqlQuery(conn,seasons)"
   ]
  },
  {
   "cell_type": "markdown",
   "metadata": {},
   "source": [
    "## Task 5 - Date Range\n",
    "\n",
    "#### Find the first and last dates in the Seoul Bike Sharing dataset.\n"
   ]
  },
  {
   "cell_type": "markdown",
   "metadata": {},
   "source": [
    "### Solution 5\n"
   ]
  },
  {
   "cell_type": "code",
   "execution_count": 5,
   "metadata": {},
   "outputs": [
    {
     "data": {
      "text/html": [
       "<table>\n",
       "<caption>A data.frame: 2 × 1</caption>\n",
       "<thead>\n",
       "\t<tr><th></th><th scope=col>1</th></tr>\n",
       "\t<tr><th></th><th scope=col>&lt;fct&gt;</th></tr>\n",
       "</thead>\n",
       "<tbody>\n",
       "\t<tr><th scope=row>1</th><td>01/12/2017</td></tr>\n",
       "\t<tr><th scope=row>2</th><td>30/11/2018</td></tr>\n",
       "</tbody>\n",
       "</table>\n"
      ],
      "text/latex": [
       "A data.frame: 2 × 1\n",
       "\\begin{tabular}{r|l}\n",
       "  & 1\\\\\n",
       "  & <fct>\\\\\n",
       "\\hline\n",
       "\t1 & 01/12/2017\\\\\n",
       "\t2 & 30/11/2018\\\\\n",
       "\\end{tabular}\n"
      ],
      "text/markdown": [
       "\n",
       "A data.frame: 2 × 1\n",
       "\n",
       "| <!--/--> | 1 &lt;fct&gt; |\n",
       "|---|---|\n",
       "| 1 | 01/12/2017 |\n",
       "| 2 | 30/11/2018 |\n",
       "\n"
      ],
      "text/plain": [
       "  1         \n",
       "1 01/12/2017\n",
       "2 30/11/2018"
      ]
     },
     "metadata": {},
     "output_type": "display_data"
    }
   ],
   "source": [
    "# provide your solution here\n",
    "first_and_last<-\"select MIN (DATE) from SEOUL_BIKE_SHARING where DATE like '%2017' \n",
    "                UNION \n",
    "                select MAX(DATE)as last from SEOUL_BIKE_SHARING where DATE like '%/11/2018' \"\n",
    "\n",
    "sqlQuery(conn,first_and_last)"
   ]
  },
  {
   "cell_type": "markdown",
   "metadata": {},
   "source": [
    "## Task 6 - Subquery - 'all-time high'\n",
    "\n",
    "#### determine which date and hour had the most bike rentals.\n"
   ]
  },
  {
   "cell_type": "markdown",
   "metadata": {},
   "source": [
    "### Solution 6\n"
   ]
  },
  {
   "cell_type": "code",
   "execution_count": 6,
   "metadata": {},
   "outputs": [
    {
     "data": {
      "text/html": [
       "<table>\n",
       "<caption>A data.frame: 1 × 1</caption>\n",
       "<thead>\n",
       "\t<tr><th></th><th scope=col>DATE</th></tr>\n",
       "\t<tr><th></th><th scope=col>&lt;fct&gt;</th></tr>\n",
       "</thead>\n",
       "<tbody>\n",
       "\t<tr><th scope=row>1</th><td>19/06/2018</td></tr>\n",
       "</tbody>\n",
       "</table>\n"
      ],
      "text/latex": [
       "A data.frame: 1 × 1\n",
       "\\begin{tabular}{r|l}\n",
       "  & DATE\\\\\n",
       "  & <fct>\\\\\n",
       "\\hline\n",
       "\t1 & 19/06/2018\\\\\n",
       "\\end{tabular}\n"
      ],
      "text/markdown": [
       "\n",
       "A data.frame: 1 × 1\n",
       "\n",
       "| <!--/--> | DATE &lt;fct&gt; |\n",
       "|---|---|\n",
       "| 1 | 19/06/2018 |\n",
       "\n"
      ],
      "text/plain": [
       "  DATE      \n",
       "1 19/06/2018"
      ]
     },
     "metadata": {},
     "output_type": "display_data"
    }
   ],
   "source": [
    "# provide your solution here\n",
    "high_rental<-\"select DATE from SEOUL_BIKE_SHARING \n",
    "                order by RENTED_BIKE_COUNT desc\n",
    "                limit 1\"\n",
    "\n",
    "sqlQuery(conn,high_rental)"
   ]
  },
  {
   "cell_type": "markdown",
   "metadata": {},
   "source": [
    "## Task 7 - Hourly popularity and temperature by season\n",
    "\n",
    "#### Determine the average hourly temperature and the average number of bike rentals per hour over each season. List the top ten results by average bike count.\n"
   ]
  },
  {
   "cell_type": "markdown",
   "metadata": {},
   "source": [
    "### Solution 7\n"
   ]
  },
  {
   "cell_type": "code",
   "execution_count": 24,
   "metadata": {},
   "outputs": [
    {
     "data": {
      "text/html": [
       "<table>\n",
       "<caption>A data.frame: 10 × 4</caption>\n",
       "<thead>\n",
       "\t<tr><th></th><th scope=col>HOURLY_TEMPERATURE</th><th scope=col>HOUR</th><th scope=col>AVERAGE_BIKE_RENTALS</th><th scope=col>SEASONS</th></tr>\n",
       "\t<tr><th></th><th scope=col>&lt;dbl&gt;</th><th scope=col>&lt;int&gt;</th><th scope=col>&lt;int&gt;</th><th scope=col>&lt;fct&gt;</th></tr>\n",
       "</thead>\n",
       "<tbody>\n",
       "\t<tr><th scope=row>1</th><td>29.38696</td><td>18</td><td>2135</td><td>Summer</td></tr>\n",
       "\t<tr><th scope=row>2</th><td>16.03086</td><td>18</td><td>1983</td><td>Autumn</td></tr>\n",
       "\t<tr><th scope=row>3</th><td>28.27283</td><td>19</td><td>1889</td><td>Summer</td></tr>\n",
       "\t<tr><th scope=row>4</th><td>27.06630</td><td>20</td><td>1801</td><td>Summer</td></tr>\n",
       "\t<tr><th scope=row>5</th><td>26.27826</td><td>21</td><td>1754</td><td>Summer</td></tr>\n",
       "\t<tr><th scope=row>6</th><td>15.97222</td><td>18</td><td>1689</td><td>Spring</td></tr>\n",
       "\t<tr><th scope=row>7</th><td>25.69891</td><td>22</td><td>1567</td><td>Summer</td></tr>\n",
       "\t<tr><th scope=row>8</th><td>17.27778</td><td>17</td><td>1562</td><td>Autumn</td></tr>\n",
       "\t<tr><th scope=row>9</th><td>30.07500</td><td>17</td><td>1526</td><td>Summer</td></tr>\n",
       "\t<tr><th scope=row>10</th><td>15.06049</td><td>19</td><td>1515</td><td>Autumn</td></tr>\n",
       "</tbody>\n",
       "</table>\n"
      ],
      "text/latex": [
       "A data.frame: 10 × 4\n",
       "\\begin{tabular}{r|llll}\n",
       "  & HOURLY\\_TEMPERATURE & HOUR & AVERAGE\\_BIKE\\_RENTALS & SEASONS\\\\\n",
       "  & <dbl> & <int> & <int> & <fct>\\\\\n",
       "\\hline\n",
       "\t1 & 29.38696 & 18 & 2135 & Summer\\\\\n",
       "\t2 & 16.03086 & 18 & 1983 & Autumn\\\\\n",
       "\t3 & 28.27283 & 19 & 1889 & Summer\\\\\n",
       "\t4 & 27.06630 & 20 & 1801 & Summer\\\\\n",
       "\t5 & 26.27826 & 21 & 1754 & Summer\\\\\n",
       "\t6 & 15.97222 & 18 & 1689 & Spring\\\\\n",
       "\t7 & 25.69891 & 22 & 1567 & Summer\\\\\n",
       "\t8 & 17.27778 & 17 & 1562 & Autumn\\\\\n",
       "\t9 & 30.07500 & 17 & 1526 & Summer\\\\\n",
       "\t10 & 15.06049 & 19 & 1515 & Autumn\\\\\n",
       "\\end{tabular}\n"
      ],
      "text/markdown": [
       "\n",
       "A data.frame: 10 × 4\n",
       "\n",
       "| <!--/--> | HOURLY_TEMPERATURE &lt;dbl&gt; | HOUR &lt;int&gt; | AVERAGE_BIKE_RENTALS &lt;int&gt; | SEASONS &lt;fct&gt; |\n",
       "|---|---|---|---|---|\n",
       "| 1 | 29.38696 | 18 | 2135 | Summer |\n",
       "| 2 | 16.03086 | 18 | 1983 | Autumn |\n",
       "| 3 | 28.27283 | 19 | 1889 | Summer |\n",
       "| 4 | 27.06630 | 20 | 1801 | Summer |\n",
       "| 5 | 26.27826 | 21 | 1754 | Summer |\n",
       "| 6 | 15.97222 | 18 | 1689 | Spring |\n",
       "| 7 | 25.69891 | 22 | 1567 | Summer |\n",
       "| 8 | 17.27778 | 17 | 1562 | Autumn |\n",
       "| 9 | 30.07500 | 17 | 1526 | Summer |\n",
       "| 10 | 15.06049 | 19 | 1515 | Autumn |\n",
       "\n"
      ],
      "text/plain": [
       "   HOURLY_TEMPERATURE HOUR AVERAGE_BIKE_RENTALS SEASONS\n",
       "1  29.38696           18   2135                 Summer \n",
       "2  16.03086           18   1983                 Autumn \n",
       "3  28.27283           19   1889                 Summer \n",
       "4  27.06630           20   1801                 Summer \n",
       "5  26.27826           21   1754                 Summer \n",
       "6  15.97222           18   1689                 Spring \n",
       "7  25.69891           22   1567                 Summer \n",
       "8  17.27778           17   1562                 Autumn \n",
       "9  30.07500           17   1526                 Summer \n",
       "10 15.06049           19   1515                 Autumn "
      ]
     },
     "metadata": {},
     "output_type": "display_data"
    }
   ],
   "source": [
    "# provide your solution here\n",
    "popularity<-\"select avg(TEMPERATURE)as hourly_temperature ,HOUR,avg(RENTED_BIKE_COUNT)as average_bike_rentals,SEASONS from SEOUL_BIKE_SHARING \n",
    "            group by HOUR,SEASONS\n",
    "            order by average_bike_rentals desc\n",
    "            limit 10\"\n",
    "    \n",
    "sqlQuery(conn,popularity)"
   ]
  },
  {
   "cell_type": "markdown",
   "metadata": {},
   "source": [
    "## Task 8 - Rental Seasonality\n",
    "\n",
    "#### Find the average hourly bike count during each season.\n",
    "\n",
    "Also include the minimum, maximum, and standard deviation of the hourly bike count for each season.\n"
   ]
  },
  {
   "cell_type": "markdown",
   "metadata": {},
   "source": [
    "### Solution 8\n"
   ]
  },
  {
   "cell_type": "code",
   "execution_count": 3,
   "metadata": {},
   "outputs": [
    {
     "data": {
      "text/html": [
       "50"
      ],
      "text/latex": [
       "50"
      ],
      "text/markdown": [
       "50"
      ],
      "text/plain": [
       "[1] 50"
      ]
     },
     "metadata": {},
     "output_type": "display_data"
    },
    {
     "data": {
      "text/html": [
       "2135"
      ],
      "text/latex": [
       "2135"
      ],
      "text/markdown": [
       "2135"
      ],
      "text/plain": [
       "[1] 2135"
      ]
     },
     "metadata": {},
     "output_type": "display_data"
    },
    {
     "data": {
      "text/html": [
       "512.077378914177"
      ],
      "text/latex": [
       "512.077378914177"
      ],
      "text/markdown": [
       "512.077378914177"
      ],
      "text/plain": [
       "[1] 512.0774"
      ]
     },
     "metadata": {},
     "output_type": "display_data"
    },
    {
     "data": {
      "text/html": [
       "<table>\n",
       "<caption>A data.frame: 10 × 3</caption>\n",
       "<thead>\n",
       "\t<tr><th></th><th scope=col>SEASONS</th><th scope=col>HOURLY_BIKE</th><th scope=col>HOUR</th></tr>\n",
       "\t<tr><th></th><th scope=col>&lt;fct&gt;</th><th scope=col>&lt;int&gt;</th><th scope=col>&lt;int&gt;</th></tr>\n",
       "</thead>\n",
       "<tbody>\n",
       "\t<tr><th scope=row>1</th><td>Summer</td><td>2135</td><td>18</td></tr>\n",
       "\t<tr><th scope=row>2</th><td>Autumn</td><td>1983</td><td>18</td></tr>\n",
       "\t<tr><th scope=row>3</th><td>Summer</td><td>1889</td><td>19</td></tr>\n",
       "\t<tr><th scope=row>4</th><td>Summer</td><td>1801</td><td>20</td></tr>\n",
       "\t<tr><th scope=row>5</th><td>Summer</td><td>1754</td><td>21</td></tr>\n",
       "\t<tr><th scope=row>6</th><td>Spring</td><td>1689</td><td>18</td></tr>\n",
       "\t<tr><th scope=row>7</th><td>Summer</td><td>1567</td><td>22</td></tr>\n",
       "\t<tr><th scope=row>8</th><td>Autumn</td><td>1562</td><td>17</td></tr>\n",
       "\t<tr><th scope=row>9</th><td>Summer</td><td>1526</td><td>17</td></tr>\n",
       "\t<tr><th scope=row>10</th><td>Autumn</td><td>1515</td><td>19</td></tr>\n",
       "</tbody>\n",
       "</table>\n"
      ],
      "text/latex": [
       "A data.frame: 10 × 3\n",
       "\\begin{tabular}{r|lll}\n",
       "  & SEASONS & HOURLY\\_BIKE & HOUR\\\\\n",
       "  & <fct> & <int> & <int>\\\\\n",
       "\\hline\n",
       "\t1 & Summer & 2135 & 18\\\\\n",
       "\t2 & Autumn & 1983 & 18\\\\\n",
       "\t3 & Summer & 1889 & 19\\\\\n",
       "\t4 & Summer & 1801 & 20\\\\\n",
       "\t5 & Summer & 1754 & 21\\\\\n",
       "\t6 & Spring & 1689 & 18\\\\\n",
       "\t7 & Summer & 1567 & 22\\\\\n",
       "\t8 & Autumn & 1562 & 17\\\\\n",
       "\t9 & Summer & 1526 & 17\\\\\n",
       "\t10 & Autumn & 1515 & 19\\\\\n",
       "\\end{tabular}\n"
      ],
      "text/markdown": [
       "\n",
       "A data.frame: 10 × 3\n",
       "\n",
       "| <!--/--> | SEASONS &lt;fct&gt; | HOURLY_BIKE &lt;int&gt; | HOUR &lt;int&gt; |\n",
       "|---|---|---|---|\n",
       "| 1 | Summer | 2135 | 18 |\n",
       "| 2 | Autumn | 1983 | 18 |\n",
       "| 3 | Summer | 1889 | 19 |\n",
       "| 4 | Summer | 1801 | 20 |\n",
       "| 5 | Summer | 1754 | 21 |\n",
       "| 6 | Spring | 1689 | 18 |\n",
       "| 7 | Summer | 1567 | 22 |\n",
       "| 8 | Autumn | 1562 | 17 |\n",
       "| 9 | Summer | 1526 | 17 |\n",
       "| 10 | Autumn | 1515 | 19 |\n",
       "\n"
      ],
      "text/plain": [
       "   SEASONS HOURLY_BIKE HOUR\n",
       "1  Summer  2135        18  \n",
       "2  Autumn  1983        18  \n",
       "3  Summer  1889        19  \n",
       "4  Summer  1801        20  \n",
       "5  Summer  1754        21  \n",
       "6  Spring  1689        18  \n",
       "7  Summer  1567        22  \n",
       "8  Autumn  1562        17  \n",
       "9  Summer  1526        17  \n",
       "10 Autumn  1515        19  "
      ]
     },
     "metadata": {},
     "output_type": "display_data"
    }
   ],
   "source": [
    "# provide your solution here\n",
    "rental_season<-\" select SEASONS,avg(RENTED_BIKE_COUNT)as HOURLY_BIKE,\n",
    "                HOUR FROM SEOUL_BIKE_SHARING \n",
    "                group by HOUR,SEASONS \n",
    "                order by HOURLY_BIKE desc\"\n",
    "\n",
    "retrieve<-sqlQuery(conn,rental_season)\n",
    "\n",
    "min(retrieve$HOURLY_BIKE)\n",
    "max(retrieve$HOURLY_BIKE)\n",
    "sd(retrieve$HOURLY_BIKE)\n",
    "\n",
    "head(retrieve,10)"
   ]
  },
  {
   "cell_type": "markdown",
   "metadata": {},
   "source": [
    "Let's explore a bit and see what might be the most significant contributing factors in terms of the provided data.\n"
   ]
  },
  {
   "cell_type": "markdown",
   "metadata": {},
   "source": [
    "## Task 9 - Weather Seasonality\n",
    "\n",
    "#### Consider the weather over each season. On average, what were the TEMPERATURE, HUMIDITY, WIND_SPEED, VISIBILITY, DEW_POINT_TEMPERATURE, SOLAR_RADIATION, RAINFALL, and SNOWFALL per season?\n",
    "\n",
    "Include the average bike count as well , and rank the results by average bike count so you can see if it is correlated with the weather at all.\n"
   ]
  },
  {
   "cell_type": "markdown",
   "metadata": {},
   "source": [
    "### Solution 9\n"
   ]
  },
  {
   "cell_type": "code",
   "execution_count": 4,
   "metadata": {},
   "outputs": [
    {
     "data": {
      "text/html": [
       "<table>\n",
       "<caption>A data.frame: 4 × 10</caption>\n",
       "<thead>\n",
       "\t<tr><th></th><th scope=col>TEMP</th><th scope=col>HUMID</th><th scope=col>WIND</th><th scope=col>VISIBILITY</th><th scope=col>DEW_POINT</th><th scope=col>RADIATION</th><th scope=col>RAINFALL</th><th scope=col>SNOWFALL</th><th scope=col>RENTED_BIKE</th><th scope=col>SEASONS</th></tr>\n",
       "\t<tr><th></th><th scope=col>&lt;dbl&gt;</th><th scope=col>&lt;int&gt;</th><th scope=col>&lt;dbl&gt;</th><th scope=col>&lt;int&gt;</th><th scope=col>&lt;dbl&gt;</th><th scope=col>&lt;dbl&gt;</th><th scope=col>&lt;dbl&gt;</th><th scope=col>&lt;dbl&gt;</th><th scope=col>&lt;int&gt;</th><th scope=col>&lt;fct&gt;</th></tr>\n",
       "</thead>\n",
       "<tbody>\n",
       "\t<tr><th scope=row>1</th><td>26.587274</td><td>64</td><td>1.609420</td><td>1501</td><td> 18.750136</td><td>0.7612545</td><td>0.25348732</td><td>0.00000000</td><td>1034</td><td>Summer</td></tr>\n",
       "\t<tr><th scope=row>2</th><td>13.821167</td><td>59</td><td>1.492101</td><td>1558</td><td>  5.150594</td><td>0.5227827</td><td>0.11765617</td><td>0.06350026</td><td> 924</td><td>Autumn</td></tr>\n",
       "\t<tr><th scope=row>3</th><td>13.021389</td><td>58</td><td>1.857778</td><td>1240</td><td>  4.091389</td><td>0.6803009</td><td>0.18694444</td><td>0.00000000</td><td> 746</td><td>Spring</td></tr>\n",
       "\t<tr><th scope=row>4</th><td>-2.540463</td><td>49</td><td>1.922685</td><td>1445</td><td>-12.416667</td><td>0.2981806</td><td>0.03282407</td><td>0.24750000</td><td> 225</td><td>Winter</td></tr>\n",
       "</tbody>\n",
       "</table>\n"
      ],
      "text/latex": [
       "A data.frame: 4 × 10\n",
       "\\begin{tabular}{r|llllllllll}\n",
       "  & TEMP & HUMID & WIND & VISIBILITY & DEW\\_POINT & RADIATION & RAINFALL & SNOWFALL & RENTED\\_BIKE & SEASONS\\\\\n",
       "  & <dbl> & <int> & <dbl> & <int> & <dbl> & <dbl> & <dbl> & <dbl> & <int> & <fct>\\\\\n",
       "\\hline\n",
       "\t1 & 26.587274 & 64 & 1.609420 & 1501 &  18.750136 & 0.7612545 & 0.25348732 & 0.00000000 & 1034 & Summer\\\\\n",
       "\t2 & 13.821167 & 59 & 1.492101 & 1558 &   5.150594 & 0.5227827 & 0.11765617 & 0.06350026 &  924 & Autumn\\\\\n",
       "\t3 & 13.021389 & 58 & 1.857778 & 1240 &   4.091389 & 0.6803009 & 0.18694444 & 0.00000000 &  746 & Spring\\\\\n",
       "\t4 & -2.540463 & 49 & 1.922685 & 1445 & -12.416667 & 0.2981806 & 0.03282407 & 0.24750000 &  225 & Winter\\\\\n",
       "\\end{tabular}\n"
      ],
      "text/markdown": [
       "\n",
       "A data.frame: 4 × 10\n",
       "\n",
       "| <!--/--> | TEMP &lt;dbl&gt; | HUMID &lt;int&gt; | WIND &lt;dbl&gt; | VISIBILITY &lt;int&gt; | DEW_POINT &lt;dbl&gt; | RADIATION &lt;dbl&gt; | RAINFALL &lt;dbl&gt; | SNOWFALL &lt;dbl&gt; | RENTED_BIKE &lt;int&gt; | SEASONS &lt;fct&gt; |\n",
       "|---|---|---|---|---|---|---|---|---|---|---|\n",
       "| 1 | 26.587274 | 64 | 1.609420 | 1501 |  18.750136 | 0.7612545 | 0.25348732 | 0.00000000 | 1034 | Summer |\n",
       "| 2 | 13.821167 | 59 | 1.492101 | 1558 |   5.150594 | 0.5227827 | 0.11765617 | 0.06350026 |  924 | Autumn |\n",
       "| 3 | 13.021389 | 58 | 1.857778 | 1240 |   4.091389 | 0.6803009 | 0.18694444 | 0.00000000 |  746 | Spring |\n",
       "| 4 | -2.540463 | 49 | 1.922685 | 1445 | -12.416667 | 0.2981806 | 0.03282407 | 0.24750000 |  225 | Winter |\n",
       "\n"
      ],
      "text/plain": [
       "  TEMP      HUMID WIND     VISIBILITY DEW_POINT  RADIATION RAINFALL  \n",
       "1 26.587274 64    1.609420 1501        18.750136 0.7612545 0.25348732\n",
       "2 13.821167 59    1.492101 1558         5.150594 0.5227827 0.11765617\n",
       "3 13.021389 58    1.857778 1240         4.091389 0.6803009 0.18694444\n",
       "4 -2.540463 49    1.922685 1445       -12.416667 0.2981806 0.03282407\n",
       "  SNOWFALL   RENTED_BIKE SEASONS\n",
       "1 0.00000000 1034        Summer \n",
       "2 0.06350026  924        Autumn \n",
       "3 0.00000000  746        Spring \n",
       "4 0.24750000  225        Winter "
      ]
     },
     "metadata": {},
     "output_type": "display_data"
    }
   ],
   "source": [
    "query <- \"select avg(TEMPERATURE)as temp ,avg(HUMIDITY)as humid,\n",
    "            avg(WIND_SPEED)as wind,avg(VISIBILITY)as visibility,\n",
    "            avg(DEW_POINT_TEMPERATURE)as dew_point,avg(SOLAR_RADIATION)as radiation,\n",
    "            avg(RAINFALL)as rainfall ,avg(SNOWFALL)as snowfall,\n",
    "            avg(RENTED_BIKE_COUNT)as rented_bike,seasons from SEOUL_BIKE_SHARING\n",
    "            group by seasons order by rented_bike desc\"\n",
    "            \n",
    "\n",
    "sqlQuery(conn,query)\n",
    "# provide your solution here"
   ]
  },
  {
   "cell_type": "markdown",
   "metadata": {},
   "source": [
    "## Task 10 - Total Bike Count and City Info for Seoul\n",
    "\n",
    "#### Use an implicit join across the WORLD_CITIES and the BIKE_SHARING_SYSTEMS tables to determine the total number of bikes avaialble in Seoul, plus the following city information about Seoul: CITY, COUNTRY, LAT, LON, POPULATION, in a single view.\n",
    "\n",
    "Notice that in this case, the CITY column will work for the WORLD_CITIES table, but in general you would have to use the CITY_ASCII column.\n"
   ]
  },
  {
   "cell_type": "markdown",
   "metadata": {},
   "source": [
    "### Solution 10\n"
   ]
  },
  {
   "cell_type": "code",
   "execution_count": 68,
   "metadata": {},
   "outputs": [
    {
     "data": {
      "text/html": [
       "<table>\n",
       "<caption>A data.frame: 1 × 6</caption>\n",
       "<thead>\n",
       "\t<tr><th></th><th scope=col>COUNTRY</th><th scope=col>CITY</th><th scope=col>BICYCLES</th><th scope=col>LAT</th><th scope=col>LNG</th><th scope=col>POPULATION</th></tr>\n",
       "\t<tr><th></th><th scope=col>&lt;fct&gt;</th><th scope=col>&lt;fct&gt;</th><th scope=col>&lt;int&gt;</th><th scope=col>&lt;dbl&gt;</th><th scope=col>&lt;dbl&gt;</th><th scope=col>&lt;int&gt;</th></tr>\n",
       "</thead>\n",
       "<tbody>\n",
       "\t<tr><th scope=row>1</th><td>South Korea</td><td>Seoul</td><td>20000</td><td>37.58</td><td>127</td><td>21794000</td></tr>\n",
       "</tbody>\n",
       "</table>\n"
      ],
      "text/latex": [
       "A data.frame: 1 × 6\n",
       "\\begin{tabular}{r|llllll}\n",
       "  & COUNTRY & CITY & BICYCLES & LAT & LNG & POPULATION\\\\\n",
       "  & <fct> & <fct> & <int> & <dbl> & <dbl> & <int>\\\\\n",
       "\\hline\n",
       "\t1 & South Korea & Seoul & 20000 & 37.58 & 127 & 21794000\\\\\n",
       "\\end{tabular}\n"
      ],
      "text/markdown": [
       "\n",
       "A data.frame: 1 × 6\n",
       "\n",
       "| <!--/--> | COUNTRY &lt;fct&gt; | CITY &lt;fct&gt; | BICYCLES &lt;int&gt; | LAT &lt;dbl&gt; | LNG &lt;dbl&gt; | POPULATION &lt;int&gt; |\n",
       "|---|---|---|---|---|---|---|\n",
       "| 1 | South Korea | Seoul | 20000 | 37.58 | 127 | 21794000 |\n",
       "\n"
      ],
      "text/plain": [
       "  COUNTRY     CITY  BICYCLES LAT   LNG POPULATION\n",
       "1 South Korea Seoul 20000    37.58 127 21794000  "
      ]
     },
     "metadata": {},
     "output_type": "display_data"
    }
   ],
   "source": [
    "# provide your solution here\n",
    "query<-\"select b.country,b.city,b.bicycles,\n",
    "        w.lat,w.lng,w.population\n",
    "        from BIKE_SHARING_SYSTEMS b \n",
    "        inner JOIN WORLD_CITIES w\n",
    "        ON b.city = w.city\n",
    "        where b.city='Seoul'\"\n",
    "\n",
    "sqlQuery(conn,query)"
   ]
  },
  {
   "cell_type": "code",
   "execution_count": 28,
   "metadata": {},
   "outputs": [
    {
     "data": {
      "text/html": [
       "<table>\n",
       "<caption>A data.frame: 11 × 1</caption>\n",
       "<thead>\n",
       "\t<tr><th></th><th scope=col>BICYCLES</th></tr>\n",
       "\t<tr><th></th><th scope=col>&lt;int&gt;</th></tr>\n",
       "</thead>\n",
       "<tbody>\n",
       "\t<tr><th scope=row>1</th><td>16000</td></tr>\n",
       "\t<tr><th scope=row>2</th><td>20000</td></tr>\n",
       "\t<tr><th scope=row>3</th><td>15000</td></tr>\n",
       "\t<tr><th scope=row>4</th><td>19165</td></tr>\n",
       "\t<tr><th scope=row>5</th><td>22940</td></tr>\n",
       "\t<tr><th scope=row>6</th><td>20000</td></tr>\n",
       "\t<tr><th scope=row>7</th><td>20000</td></tr>\n",
       "\t<tr><th scope=row>8</th><td>18000</td></tr>\n",
       "\t<tr><th scope=row>9</th><td>20000</td></tr>\n",
       "\t<tr><th scope=row>10</th><td>21700</td></tr>\n",
       "\t<tr><th scope=row>11</th><td>20000</td></tr>\n",
       "</tbody>\n",
       "</table>\n"
      ],
      "text/latex": [
       "A data.frame: 11 × 1\n",
       "\\begin{tabular}{r|l}\n",
       "  & BICYCLES\\\\\n",
       "  & <int>\\\\\n",
       "\\hline\n",
       "\t1 & 16000\\\\\n",
       "\t2 & 20000\\\\\n",
       "\t3 & 15000\\\\\n",
       "\t4 & 19165\\\\\n",
       "\t5 & 22940\\\\\n",
       "\t6 & 20000\\\\\n",
       "\t7 & 20000\\\\\n",
       "\t8 & 18000\\\\\n",
       "\t9 & 20000\\\\\n",
       "\t10 & 21700\\\\\n",
       "\t11 & 20000\\\\\n",
       "\\end{tabular}\n"
      ],
      "text/markdown": [
       "\n",
       "A data.frame: 11 × 1\n",
       "\n",
       "| <!--/--> | BICYCLES &lt;int&gt; |\n",
       "|---|---|\n",
       "| 1 | 16000 |\n",
       "| 2 | 20000 |\n",
       "| 3 | 15000 |\n",
       "| 4 | 19165 |\n",
       "| 5 | 22940 |\n",
       "| 6 | 20000 |\n",
       "| 7 | 20000 |\n",
       "| 8 | 18000 |\n",
       "| 9 | 20000 |\n",
       "| 10 | 21700 |\n",
       "| 11 | 20000 |\n",
       "\n"
      ],
      "text/plain": [
       "   BICYCLES\n",
       "1  16000   \n",
       "2  20000   \n",
       "3  15000   \n",
       "4  19165   \n",
       "5  22940   \n",
       "6  20000   \n",
       "7  20000   \n",
       "8  18000   \n",
       "9  20000   \n",
       "10 21700   \n",
       "11 20000   "
      ]
     },
     "metadata": {},
     "output_type": "display_data"
    }
   ],
   "source": [
    "query<-\" select BICYCLES from BIKE_SHARING_SYSTEMS where BICYCLES > '14500' \"\n",
    "\n",
    "sqlQuery(conn,query)"
   ]
  },
  {
   "cell_type": "markdown",
   "metadata": {},
   "source": [
    "## Task 11 - Find all city names and coordinates with comparable bike scale to Seoul's bike sharing system\n",
    "\n",
    "#### Find all cities with total bike counts between 15000 and 20000. Return the city and country names, plus the coordinates (LAT, LNG), population, and number of bicycles for each city.\n",
    "\n",
    "Later we will ask you to visualize these similar cities on leaflet, with some weather data.\n"
   ]
  },
  {
   "cell_type": "markdown",
   "metadata": {},
   "source": [
    "### Solution 11\n"
   ]
  },
  {
   "cell_type": "code",
   "execution_count": 29,
   "metadata": {},
   "outputs": [
    {
     "data": {
      "text/html": [
       "<table>\n",
       "<caption>A data.frame: 6 × 6</caption>\n",
       "<thead>\n",
       "\t<tr><th></th><th scope=col>CITY</th><th scope=col>BICYCLES</th><th scope=col>COUNTRY</th><th scope=col>LAT</th><th scope=col>LNG</th><th scope=col>POPULATION</th></tr>\n",
       "\t<tr><th></th><th scope=col>&lt;fct&gt;</th><th scope=col>&lt;int&gt;</th><th scope=col>&lt;fct&gt;</th><th scope=col>&lt;dbl&gt;</th><th scope=col>&lt;dbl&gt;</th><th scope=col>&lt;int&gt;</th></tr>\n",
       "</thead>\n",
       "<tbody>\n",
       "\t<tr><th scope=row>1</th><td>Shanghai</td><td>19165</td><td>China       </td><td>31.16</td><td>121.46</td><td>22120000</td></tr>\n",
       "\t<tr><th scope=row>2</th><td>Seoul   </td><td>20000</td><td>Korea, South</td><td>37.58</td><td>127.00</td><td>21794000</td></tr>\n",
       "\t<tr><th scope=row>3</th><td>Beijing </td><td>16000</td><td>China       </td><td>39.90</td><td>116.39</td><td>19433000</td></tr>\n",
       "\t<tr><th scope=row>4</th><td>Weifang </td><td>20000</td><td>China       </td><td>36.71</td><td>119.10</td><td> 9373000</td></tr>\n",
       "\t<tr><th scope=row>5</th><td>Ningbo  </td><td>15000</td><td>China       </td><td>29.87</td><td>121.54</td><td> 7639000</td></tr>\n",
       "\t<tr><th scope=row>6</th><td>Zhuzhou </td><td>20000</td><td>China       </td><td>27.84</td><td>113.14</td><td> 3855609</td></tr>\n",
       "</tbody>\n",
       "</table>\n"
      ],
      "text/latex": [
       "A data.frame: 6 × 6\n",
       "\\begin{tabular}{r|llllll}\n",
       "  & CITY & BICYCLES & COUNTRY & LAT & LNG & POPULATION\\\\\n",
       "  & <fct> & <int> & <fct> & <dbl> & <dbl> & <int>\\\\\n",
       "\\hline\n",
       "\t1 & Shanghai & 19165 & China        & 31.16 & 121.46 & 22120000\\\\\n",
       "\t2 & Seoul    & 20000 & Korea, South & 37.58 & 127.00 & 21794000\\\\\n",
       "\t3 & Beijing  & 16000 & China        & 39.90 & 116.39 & 19433000\\\\\n",
       "\t4 & Weifang  & 20000 & China        & 36.71 & 119.10 &  9373000\\\\\n",
       "\t5 & Ningbo   & 15000 & China        & 29.87 & 121.54 &  7639000\\\\\n",
       "\t6 & Zhuzhou  & 20000 & China        & 27.84 & 113.14 &  3855609\\\\\n",
       "\\end{tabular}\n"
      ],
      "text/markdown": [
       "\n",
       "A data.frame: 6 × 6\n",
       "\n",
       "| <!--/--> | CITY &lt;fct&gt; | BICYCLES &lt;int&gt; | COUNTRY &lt;fct&gt; | LAT &lt;dbl&gt; | LNG &lt;dbl&gt; | POPULATION &lt;int&gt; |\n",
       "|---|---|---|---|---|---|---|\n",
       "| 1 | Shanghai | 19165 | China        | 31.16 | 121.46 | 22120000 |\n",
       "| 2 | Seoul    | 20000 | Korea, South | 37.58 | 127.00 | 21794000 |\n",
       "| 3 | Beijing  | 16000 | China        | 39.90 | 116.39 | 19433000 |\n",
       "| 4 | Weifang  | 20000 | China        | 36.71 | 119.10 |  9373000 |\n",
       "| 5 | Ningbo   | 15000 | China        | 29.87 | 121.54 |  7639000 |\n",
       "| 6 | Zhuzhou  | 20000 | China        | 27.84 | 113.14 |  3855609 |\n",
       "\n"
      ],
      "text/plain": [
       "  CITY     BICYCLES COUNTRY      LAT   LNG    POPULATION\n",
       "1 Shanghai 19165    China        31.16 121.46 22120000  \n",
       "2 Seoul    20000    Korea, South 37.58 127.00 21794000  \n",
       "3 Beijing  16000    China        39.90 116.39 19433000  \n",
       "4 Weifang  20000    China        36.71 119.10  9373000  \n",
       "5 Ningbo   15000    China        29.87 121.54  7639000  \n",
       "6 Zhuzhou  20000    China        27.84 113.14  3855609  "
      ]
     },
     "metadata": {},
     "output_type": "display_data"
    }
   ],
   "source": [
    "# provide your solution here\n",
    "query<- \"select b.city,b.bicycles,\n",
    "        w.country,w.lat,w.lng,w.population\n",
    "        from BIKE_SHARING_SYSTEMS b \n",
    "        inner join WORLD_CITIES w\n",
    "        on b.city= w.city\n",
    "        where b.bicycles BETWEEN '15000' AND '20000' \"\n",
    "\n",
    "sqlQuery(conn,query)"
   ]
  },
  {
   "cell_type": "code",
   "execution_count": 24,
   "metadata": {},
   "outputs": [],
   "source": [
    "close(conn)"
   ]
  },
  {
   "cell_type": "markdown",
   "metadata": {},
   "source": [
    "## Author(s)\n",
    "\n",
    "<h4> Jeff Grossman </h4>\n",
    "\n",
    "## Contributor(s)\n",
    "\n",
    "<h4> Yan Luo, Rav Ahuja </h4>\n",
    "\n",
    "## Change log\n",
    "\n",
    "| Date       | Version | Changed by    | Change Description                  |\n",
    "| ---------- | ------- | ------------- | ----------------------------------- |\n",
    "| 2021-05-04 | 0.2     | Jeff Grossman | Finalize                            |\n",
    "| 2021-04-22 | 0.2     | Jeff Grossman | Update as per peer review           |\n",
    "| 2021-04-10 | 0.2     | Jeff Grossman | Add data sources and implicit joins |\n",
    "| 2021-04-05 | 0.1     | Jeff Grossman | Start content creation              |\n",
    "\n",
    "## <h3 align=\"center\"> © IBM Corporation 2021. All rights reserved. <h3/>\n"
   ]
  }
 ],
 "metadata": {
  "kernelspec": {
   "display_name": "R",
   "language": "R",
   "name": "ir"
  },
  "language_info": {
   "codemirror_mode": "r",
   "file_extension": ".r",
   "mimetype": "text/x-r-source",
   "name": "R",
   "pygments_lexer": "r",
   "version": "4.1.3"
  },
  "widgets": {
   "state": {},
   "version": "1.1.2"
  }
 },
 "nbformat": 4,
 "nbformat_minor": 4
}
