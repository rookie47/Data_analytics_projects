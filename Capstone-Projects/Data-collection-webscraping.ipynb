{
 "cells": [
  {
   "cell_type": "markdown",
   "metadata": {},
   "source": [
    "<a href=\"https://cognitiveclass.ai/?utm_medium=Exinfluencer&utm_source=Exinfluencer&utm_content=000026UJ&utm_term=10006555&utm_id=NA-SkillsNetwork-Channel-SkillsNetworkCoursesIBMDeveloperSkillsNetworkRP0321ENSkillsNetwork25371262-2022-01-01\">\n",
    "    <img src=\"https://cf-courses-data.s3.us.cloud-object-storage.appdomain.cloud/IBMDeveloperSkillsNetwork-RP0101EN-Coursera/v2/M1_R_Basics/images/IDSNlogo.png\" width=\"200\" align=\"center\">\n",
    "</a>\n"
   ]
  },
  {
   "cell_type": "markdown",
   "metadata": {},
   "source": [
    "<h1>Web scrape a Global Bike-Sharing Systems Wiki Page</h1>\n",
    "\n",
    "Estimated time needed: **20** minutes\n"
   ]
  },
  {
   "cell_type": "markdown",
   "metadata": {},
   "source": [
    "## Lab Overview:\n",
    "\n",
    "Before getting your hands dirty on the actual data analysis tasks, you first need to obtain some background and context information about well-known bike sharing systems worldwide, such as their location, launch date, rental bike size, and so on.\n",
    "\n",
    "You can get such information from this Wiki page:\n",
    "\n",
    "[https://en.wikipedia.org/wiki/List_of_bicycle-sharing_systems](https://en.wikipedia.org/wiki/List_of_bicycle-sharing_systems?utm_medium=Exinfluencer&utm_source=Exinfluencer&utm_content=000026UJ&utm_term=10006555&utm_id=NA-SkillsNetwork-Channel-SkillsNetworkCoursesIBMDeveloperSkillsNetworkRP0321ENSkillsNetwork25371262-2022-01-01)\n",
    "\n",
    "<a href=\"https://cognitiveclass.ai/?utm_medium=Exinfluencer&utm_source=Exinfluencer&utm_content=000026UJ&utm_term=10006555&utm_id=NA-SkillsNetwork-Channel-SkillsNetworkCoursesIBMDeveloperSkillsNetworkRP0321ENSkillsNetwork25371262-2022-01-01\">\n",
    "    <img src=\"https://cf-courses-data.s3.us.cloud-object-storage.appdomain.cloud/IBMDeveloperSkillsNetwork-RP0321EN-SkillsNetwork/labs/module_1/images/l2-list-bike-sharing-systems.png\" width=\"600\" align=\"center\">\n",
    "</a>\n"
   ]
  },
  {
   "cell_type": "markdown",
   "metadata": {},
   "source": [
    "First import necessary libraries for the webscraping task.\n"
   ]
  },
  {
   "cell_type": "markdown",
   "metadata": {},
   "source": [
    "In this lab, you need to use the `rvest` library to obtain the bike sharing systems table from the above web page, convert the table into a data frame, and write the data frame to a csv file for future data wrangling and analysis tasks.\n"
   ]
  },
  {
   "cell_type": "code",
   "execution_count": 11,
   "metadata": {},
   "outputs": [
    {
     "name": "stderr",
     "output_type": "stream",
     "text": [
      "Installing package into 'C:/Users/cobed/OneDrive/Documents/R/win-library/4.1'\n",
      "(as 'lib' is unspecified)\n",
      "\n"
     ]
    },
    {
     "name": "stdout",
     "output_type": "stream",
     "text": [
      "package 'reshape' successfully unpacked and MD5 sums checked\n",
      "\n",
      "The downloaded binary packages are in\n",
      "\tC:\\Users\\cobed\\AppData\\Local\\Temp\\RtmpMf5ANT\\downloaded_packages\n"
     ]
    }
   ],
   "source": [
    "# Check if need to install rvest` library\n",
    "require(\"rvest\")\n",
    "install.packages(\"reshape\")\n",
    "\n",
    "library(rvest)"
   ]
  },
  {
   "cell_type": "markdown",
   "metadata": {},
   "source": [
    "# TASK: Extract bike sharing systems HTML table from a Wiki page and convert it into a data frame\n"
   ]
  },
  {
   "cell_type": "markdown",
   "metadata": {},
   "source": [
    "*TODO:* Get the root HTML node\n"
   ]
  },
  {
   "cell_type": "code",
   "execution_count": 5,
   "metadata": {},
   "outputs": [],
   "source": [
    "url <- \"https://en.wikipedia.org/wiki/List_of_bicycle-sharing_systems\"\n",
    "# Get the root HTML node by calling the `read_html()` method with URL"
   ]
  },
  {
   "cell_type": "markdown",
   "metadata": {},
   "source": [
    "Note that this HTML page at least contains three child `<table>` nodes under the root HTML node. So, you will need to use `html_nodes(root_node, \"table\")` function to get all its child `<table>` nodes:\n",
    "\n",
    "```\n",
    "<html>\n",
    "  <table>(table1)</table>\n",
    "  <table>(table2)</table>\n",
    "  <table>(table3)</table>\n",
    "  ...\n",
    "</html>\n",
    "```\n"
   ]
  },
  {
   "cell_type": "markdown",
   "metadata": {},
   "source": [
    "table_nodes <- html_nodes(root_node, \"table\")\n"
   ]
  },
  {
   "cell_type": "markdown",
   "metadata": {},
   "source": [
    "You can use a `for` loop to print each table, and then you will see that the actual the bike sharing table is the second element `table_nodes[[2]]`.\n"
   ]
  },
  {
   "cell_type": "markdown",
   "metadata": {},
   "source": [
    "Next, you need to convert this HTML table into a data frame using the `html_table()` function. You may choose to include `fill = TRUE` argument to fill any empty table rows/columns.\n"
   ]
  },
  {
   "cell_type": "code",
   "execution_count": 21,
   "metadata": {},
   "outputs": [
    {
     "data": {
      "text/plain": [
       "{html_document}\n",
       "<html class=\"client-nojs\" lang=\"en\" dir=\"ltr\">\n",
       "[1] <head>\\n<meta http-equiv=\"Content-Type\" content=\"text/html; charset=UTF-8 ...\n",
       "[2] <body class=\"mediawiki ltr sitedir-ltr mw-hide-empty-elt ns-0 ns-subject  ..."
      ]
     },
     "metadata": {},
     "output_type": "display_data"
    },
    {
     "data": {
      "text/html": [
       "<ol>\n",
       "\t<li><table class=\"dataframe\">\n",
       "<caption>A tibble: 515 × 10</caption>\n",
       "<thead>\n",
       "\t<tr><th scope=col>Country</th><th scope=col>City</th><th scope=col>Name</th><th scope=col>System</th><th scope=col>Operator</th><th scope=col>Launched</th><th scope=col>Discontinued</th><th scope=col>Stations</th><th scope=col>Bicycles</th><th scope=col>Daily ridership</th></tr>\n",
       "\t<tr><th scope=col>&lt;chr&gt;</th><th scope=col>&lt;chr&gt;</th><th scope=col>&lt;chr&gt;</th><th scope=col>&lt;chr&gt;</th><th scope=col>&lt;chr&gt;</th><th scope=col>&lt;chr&gt;</th><th scope=col>&lt;chr&gt;</th><th scope=col>&lt;chr&gt;</th><th scope=col>&lt;chr&gt;</th><th scope=col>&lt;chr&gt;</th></tr>\n",
       "</thead>\n",
       "<tbody>\n",
       "\t<tr><td>Albania   </td><td>Tirana[5]              </td><td>Ecovolis            </td><td>                 </td><td>                                                    </td><td>March 2011                             </td><td>                    </td><td>8            </td><td>200            </td><td>        </td></tr>\n",
       "\t<tr><td>Argentina </td><td>Buenos Aires[6][7]     </td><td>Ecobici             </td><td>Serttel Brasil[8]</td><td>Bike In Baires Consortium.[9]                       </td><td>2010                                   </td><td>                    </td><td>400          </td><td>4000           </td><td>21917   </td></tr>\n",
       "\t<tr><td>Argentina </td><td>Mendoza[10]            </td><td>Metrobici           </td><td>                 </td><td>                                                    </td><td>2014                                   </td><td>                    </td><td>2            </td><td>40             </td><td>        </td></tr>\n",
       "\t<tr><td>Argentina </td><td>Rosario                </td><td>Mi Bici Tu Bici[11] </td><td>                 </td><td>                                                    </td><td>2 December 2015                        </td><td>                    </td><td>47           </td><td>480            </td><td>        </td></tr>\n",
       "\t<tr><td>Argentina </td><td>San Lorenzo, Santa Fe  </td><td>Biciudad            </td><td>Biciudad         </td><td>                                                    </td><td>27 November 2016                       </td><td>                    </td><td>8            </td><td>80             </td><td>        </td></tr>\n",
       "\t<tr><td>Australia </td><td><span style=white-space:pre-wrap>Melbourne[12]          </span></td><td>Melbourne Bike Share</td><td><span style=white-space:pre-wrap>PBSC &amp; 8D        </span></td><td><span style=white-space:pre-wrap>Motivate                                            </span></td><td><span style=white-space:pre-wrap>June 2010                              </span></td><td>30 November 2019[13]</td><td><span style=white-space:pre-wrap>53           </span></td><td><span style=white-space:pre-wrap>676            </span></td><td><span style=white-space:pre-wrap>        </span></td></tr>\n",
       "\t<tr><td>Australia </td><td>Melbourne[12]          </td><td>oBike               </td><td>4 Gen. oBike     </td><td>                                                    </td><td>July 2017                              </td><td>July 2018           </td><td>dockless     </td><td>1250           </td><td>        </td></tr>\n",
       "\t<tr><td>Australia </td><td>Brisbane[14][15]       </td><td>CityCycle           </td><td>3 Gen. Cyclocity </td><td>JCDecaux                                            </td><td>September 2010                         </td><td>                    </td><td>150          </td><td>2000           </td><td>        </td></tr>\n",
       "\t<tr><td>Australia </td><td>Sydney                 </td><td>oBike               </td><td>4 Gen. oBike     </td><td>                                                    </td><td>July 2017                              </td><td>July 2018           </td><td>dockless     </td><td>1250           </td><td>        </td></tr>\n",
       "\t<tr><td>Australia </td><td>Sydney                 </td><td>Ofo                 </td><td>4 Gen. Ofo       </td><td>                                                    </td><td>October 2017                           </td><td>                    </td><td>dockless     </td><td>600            </td><td>        </td></tr>\n",
       "\t<tr><td>Australia </td><td>Sydney                 </td><td>Reddy Go            </td><td>Reddy Go         </td><td>                                                    </td><td>July 2017                              </td><td>                    </td><td>             </td><td>2000           </td><td>        </td></tr>\n",
       "\t<tr><td>Austria   </td><td>Burgenland             </td><td>LEIHRADL nextbike   </td><td>3 Gen. nextbike  </td><td>                                                    </td><td>2009                                   </td><td>                    </td><td>40           </td><td>               </td><td>        </td></tr>\n",
       "\t<tr><td>Austria   </td><td>Lower Austria[16]      </td><td>LEIHRADL nextbike   </td><td>3 Gen. nextbike  </td><td>                                                    </td><td>2009                                   </td><td>                    </td><td>295          </td><td>1300           </td><td>        </td></tr>\n",
       "\t<tr><td>Austria   </td><td>Salzburg               </td><td>nextbike            </td><td>3 Gen. nextbike  </td><td>                                                    </td><td>2011                                   </td><td>                    </td><td>             </td><td>               </td><td>        </td></tr>\n",
       "\t<tr><td>Austria   </td><td>Vienna                 </td><td>Citybike Wien[17]   </td><td>3 Gen. Cyclocity </td><td>JCDecaux Gewista                                    </td><td>June 2003                              </td><td>                    </td><td>121          </td><td>1500           </td><td>2800[18]</td></tr>\n",
       "\t<tr><td>Austria   </td><td>Vienna                 </td><td>Viennabike          </td><td>2 Gen.           </td><td>Association and city council                        </td><td>April 2002                             </td><td>November 2002       </td><td>200          </td><td>1500           </td><td>        </td></tr>\n",
       "\t<tr><td>Austria   </td><td>Vorarlberg             </td><td>                    </td><td>3 Gen. nextbike  </td><td>                                                    </td><td>2009                                   </td><td>                    </td><td>14           </td><td>70             </td><td>        </td></tr>\n",
       "\t<tr><td>Bangladesh</td><td>Dhaka                  </td><td>JoBike              </td><td>JoBike           </td><td>                                                    </td><td>2018                                   </td><td>                    </td><td>05           </td><td>300            </td><td>        </td></tr>\n",
       "\t<tr><td>Belgium   </td><td>Different locations[19]</td><td>dBlue-bike          </td><td>Blue-bike        </td><td>Blue-Mobility                                       </td><td>1 May 2011                             </td><td>                    </td><td>70 (2021)[20]</td><td>1790 (2019)[21]</td><td>        </td></tr>\n",
       "\t<tr><td>Belgium   </td><td>Antwerp                </td><td>Velo Antwerp[22]    </td><td>3 Gen. Clear CC  </td><td>Service2Cities (subsidiary of Clear Channel Belgium)</td><td>9 June 2011                            </td><td>                    </td><td>305 (2021)   </td><td>4200 (2021)    </td><td>7010[23]</td></tr>\n",
       "\t<tr><td>Belgium   </td><td>Brussels[24]           </td><td>Villo!              </td><td>3 Gen. Cyclocity </td><td>JCDecaux                                            </td><td>19 May 2009 (earlier system since 2006)</td><td>                    </td><td>346          </td><td>4115[25]       </td><td>        </td></tr>\n",
       "\t<tr><td>Belgium   </td><td>Namur[26]              </td><td>Libiavelo           </td><td>3 Gen. Cyclocity </td><td>JCDecaux                                            </td><td>21 April 2012                          </td><td>                    </td><td>24           </td><td>200            </td><td>        </td></tr>\n",
       "\t<tr><td>Brazil    </td><td>Belo Horizonte[27]     </td><td>Bikebh              </td><td>Mobilicidade     </td><td>                                                    </td><td>2014                                   </td><td>                    </td><td>40           </td><td>400            </td><td>        </td></tr>\n",
       "\t<tr><td>Brazil    </td><td>Fortaleza              </td><td>Bicicletar          </td><td>Mobilicidade     </td><td>                                                    </td><td>15 December 2014                       </td><td>                    </td><td>80           </td><td>800            </td><td>        </td></tr>\n",
       "\t<tr><td>Brazil    </td><td>João Pessoa[28]        </td><td>SAMBA               </td><td>Mobilicidade     </td><td>                                                    </td><td>                                       </td><td>                    </td><td>3            </td><td>20             </td><td>        </td></tr>\n",
       "\t<tr><td>Brazil    </td><td>(Pedro de) Toledo[29]  </td><td>Toopedalando        </td><td>Toopedalando     </td><td>                                                    </td><td>2011                                   </td><td>                    </td><td>6            </td><td>60             </td><td>        </td></tr>\n",
       "\t<tr><td>Brazil    </td><td>Rio de Janeiro[30]     </td><td>Bike Rio            </td><td>tembici          </td><td>                                                    </td><td>2011                                   </td><td>                    </td><td>60           </td><td>300            </td><td>        </td></tr>\n",
       "\t<tr><td>Brazil    </td><td>Salvador[31]           </td><td>Bike Salvador       </td><td>tembici          </td><td>                                                    </td><td>2013                                   </td><td>                    </td><td>23           </td><td>               </td><td>        </td></tr>\n",
       "\t<tr><td>Brazil    </td><td>São Paulo[32]          </td><td>Bikesampa           </td><td>tembici          </td><td>                                                    </td><td>2012                                   </td><td>                    </td><td>241          </td><td>600            </td><td>        </td></tr>\n",
       "\t<tr><td>Brazil    </td><td>Sorocaba[33]           </td><td>Integrabike         </td><td>tembici          </td><td>                                                    </td><td>2012                                   </td><td>                    </td><td>15           </td><td>120            </td><td>        </td></tr>\n",
       "\t<tr><td>...</td><td>...</td><td>...</td><td>...</td><td>...</td><td>...</td><td>...</td><td>...</td><td>...</td><td>...</td></tr>\n",
       "\t<tr><td>United States</td><td>Kansas City, Missouri[302]            </td><td>Kansas City B-cycle        </td><td>3 Gen. B-Cycle                     </td><td>                           </td><td>2012            </td><td>             </td><td>30 </td><td>300  </td><td>           </td></tr>\n",
       "\t<tr><td>United States</td><td>Kona District, Hawaii                 </td><td>                           </td><td>PBSC                               </td><td>                           </td><td>2016            </td><td>             </td><td>3  </td><td>30   </td><td>           </td></tr>\n",
       "\t<tr><td>United States</td><td>Lansing, Michigan                     </td><td>Capital Community Bikeshare</td><td>A2B Bikeshare                      </td><td>                           </td><td>2014            </td><td>             </td><td>8  </td><td>20   </td><td>Closed[303]</td></tr>\n",
       "\t<tr><td>United States</td><td>Lincoln, Nebraska[304]                </td><td>BikeLNK                    </td><td>3 Gen. B-Cycle                     </td><td>                           </td><td>2018            </td><td>             </td><td>19 </td><td>100  </td><td>           </td></tr>\n",
       "\t<tr><td>United States</td><td>Los Angeles                           </td><td>Metro Bike Share           </td><td>3 Gen. B-Cycle                     </td><td>                           </td><td>7 July 2016     </td><td>             </td><td>207</td><td>1700 </td><td>           </td></tr>\n",
       "\t<tr><td>United States</td><td>Madison, Wisconsin[305]               </td><td>Madison B-Cycle            </td><td>3 Gen. B-Cycle                     </td><td>                           </td><td>2011            </td><td>             </td><td>39 </td><td>350  </td><td>           </td></tr>\n",
       "\t<tr><td>United States</td><td>Meridian, Colorado                    </td><td>M-Bike                     </td><td>Zagster                            </td><td>                           </td><td>15 March 2010   </td><td>             </td><td>11 </td><td>     </td><td>           </td></tr>\n",
       "\t<tr><td>United States</td><td>Miami Beach, Florida[306]             </td><td>Decobike                   </td><td>SandVault                          </td><td>                           </td><td>2011            </td><td>             </td><td>100</td><td>1000 </td><td>           </td></tr>\n",
       "\t<tr><td>United States</td><td>Milwaukee[307][308]                   </td><td>Bublr Bikes                </td><td>3 Gen. B-Cycle                     </td><td>                           </td><td>2014            </td><td>             </td><td>87 </td><td>400+ </td><td>           </td></tr>\n",
       "\t<tr><td>United States</td><td><span style=white-space:pre-wrap>Minneapolis–Saint Paul[309][310]      </span></td><td><span style=white-space:pre-wrap>Nice Ride                  </span></td><td><span style=white-space:pre-wrap>PBSC &amp; 8D                          </span></td><td><span style=white-space:pre-wrap>                           </span></td><td><span style=white-space:pre-wrap>2010            </span></td><td><span style=white-space:pre-wrap>             </span></td><td>171</td><td>1833 </td><td><span style=white-space:pre-wrap>           </span></td></tr>\n",
       "\t<tr><td>United States</td><td>New York City[311][312][313][314][315]</td><td><span style=white-space:pre-wrap>Citi Bike                  </span></td><td><span style=white-space:pre-wrap>PBSC &amp; 8D                          </span></td><td><span style=white-space:pre-wrap>Motivate                   </span></td><td><span style=white-space:pre-wrap>27 May 2013     </span></td><td><span style=white-space:pre-wrap>             </span></td><td>739</td><td>20000</td><td><span style=white-space:pre-wrap>65000      </span></td></tr>\n",
       "\t<tr><td>United States</td><td>Oklahoma City[316]                    </td><td>Spokies                    </td><td>Spokies                            </td><td>                           </td><td>2012            </td><td>             </td><td>7  </td><td>100  </td><td>           </td></tr>\n",
       "\t<tr><td>United States</td><td>Omaha, Nebraska[317]                  </td><td>Omaha B-Cycle              </td><td>3 Gen. B-Cycle                     </td><td>                           </td><td>2011            </td><td>             </td><td>5  </td><td>35   </td><td>           </td></tr>\n",
       "\t<tr><td>United States</td><td>Philadelphia[318][319]                </td><td>Indego                     </td><td>3 Gen. B-Cycle (incl. some e-bikes </td><td>                           </td><td>23 April 2015   </td><td>             </td><td>125</td><td>1400 </td><td>           </td></tr>\n",
       "\t<tr><td>United States</td><td>Phoenix, Arizona                      </td><td>Grid Bike Share            </td><td>3 Gen. CycleHop and Social Bicycles</td><td>                           </td><td>25 November 2014</td><td>             </td><td>40 </td><td>500  </td><td>           </td></tr>\n",
       "\t<tr><td>United States</td><td>Pittsburgh                            </td><td>Healthy Ride PGH           </td><td>3 Gen. nextbike                    </td><td>                           </td><td>2015            </td><td>             </td><td>50 </td><td>500  </td><td>           </td></tr>\n",
       "\t<tr><td>United States</td><td>Portland, Oregon                      </td><td>Biketown                   </td><td>                                   </td><td>                           </td><td>19 July 2016    </td><td>             </td><td>100</td><td>1000 </td><td>           </td></tr>\n",
       "\t<tr><td>United States</td><td>Portland, Oregon                      </td><td>Yellow Bike Project        </td><td>1 Gen. WhiteBikes                  </td><td>Yellow Bike Project        </td><td>1994[320]       </td><td>1997[321]    </td><td>   </td><td>1000 </td><td>           </td></tr>\n",
       "\t<tr><td>United States</td><td>Salt Lake City[322]                   </td><td>SLC Bike Share             </td><td>3 Gen. B-Cycle                     </td><td>                           </td><td>2013            </td><td>             </td><td>12 </td><td>100  </td><td>           </td></tr>\n",
       "\t<tr><td>United States</td><td>San Antonio[323]                      </td><td>San Antonio B-Cycle        </td><td>3 Gen. B-Cycle                     </td><td>                           </td><td>2011            </td><td>             </td><td>68 </td><td>600  </td><td>           </td></tr>\n",
       "\t<tr><td>United States</td><td>San Diego[324]                        </td><td>DecoBike                   </td><td>DecoBike                           </td><td>JCDecaux                   </td><td>February 2015   </td><td>             </td><td>180</td><td>1800 </td><td>           </td></tr>\n",
       "\t<tr><td>United States</td><td>San Francisco Bay Area                </td><td>                           </td><td>                                   </td><td>                           </td><td>2013            </td><td>             </td><td>   </td><td>     </td><td>           </td></tr>\n",
       "\t<tr><td>United States</td><td>San Francisco Bay Area                </td><td>Baywheels                  </td><td>8D                                 </td><td>Motivate                   </td><td>June 2017       </td><td>             </td><td>550</td><td>7000 </td><td>           </td></tr>\n",
       "\t<tr><td>United States</td><td>Santa Monica, California[325]         </td><td>Breeze Bike Share          </td><td>3 Gen. CycleHop and Social Bicycles</td><td>                           </td><td>13 August 2015  </td><td>             </td><td>80 </td><td>500  </td><td>           </td></tr>\n",
       "\t<tr><td>United States</td><td>Savannah, Georgia[326]                </td><td>CAT Bike                   </td><td>3 Gen. B-Cycle                     </td><td>                           </td><td>24 January 2014 </td><td>             </td><td>2  </td><td>16   </td><td>           </td></tr>\n",
       "\t<tr><td>United States</td><td>Seattle[327]                          </td><td>Pronto Cycle Share         </td><td>8D                                 </td><td>Motivate                   </td><td>13 October 2014 </td><td>31 March 2017</td><td>50 </td><td>500  </td><td>           </td></tr>\n",
       "\t<tr><td>United States</td><td>Spartanburg, South Carolina[328]      </td><td>Spartanburg B-Cycle        </td><td>3 Gen. B-Cycle                     </td><td>                           </td><td>2011            </td><td>             </td><td>5  </td><td>40   </td><td>           </td></tr>\n",
       "\t<tr><td>United States</td><td>St. Paul                              </td><td>Yellow Bike Project        </td><td>1 Gen. w/ BikeCard                 </td><td>volunteers and city council</td><td>1997            </td><td>             </td><td>   </td><td>     </td><td>           </td></tr>\n",
       "\t<tr><td>United States</td><td>Tampa, Florida[329]                   </td><td>Coast Bike Share           </td><td>3 Gen. CycleHop and Social Bicycles</td><td>                           </td><td>7 December 2014 </td><td>             </td><td>30 </td><td>300  </td><td>           </td></tr>\n",
       "\t<tr><td>United States</td><td><span style=white-space:pre-wrap>Washington metropolitan area[330]     </span></td><td><span style=white-space:pre-wrap>Capital Bikeshare          </span></td><td><span style=white-space:pre-wrap>PBSC &amp; 8D                          </span></td><td><span style=white-space:pre-wrap>Motivate                   </span></td><td><span style=white-space:pre-wrap>2010            </span></td><td><span style=white-space:pre-wrap>             </span></td><td>658</td><td>5,400</td><td><span style=white-space:pre-wrap>           </span></td></tr>\n",
       "</tbody>\n",
       "</table>\n",
       "</li>\n",
       "</ol>\n"
      ],
      "text/latex": [
       "\\begin{enumerate}\n",
       "\\item A tibble: 515 × 10\n",
       "\\begin{tabular}{llllllllll}\n",
       " Country & City & Name & System & Operator & Launched & Discontinued & Stations & Bicycles & Daily ridership\\\\\n",
       " <chr> & <chr> & <chr> & <chr> & <chr> & <chr> & <chr> & <chr> & <chr> & <chr>\\\\\n",
       "\\hline\n",
       "\t Albania    & Tirana{[}5{]}               & Ecovolis             &                   &                                                      & March 2011                              &                      & 8             & 200             &         \\\\\n",
       "\t Argentina  & Buenos Aires{[}6{]}{[}7{]}      & Ecobici              & Serttel Brasil{[}8{]} & Bike In Baires Consortium.{[}9{]}                        & 2010                                    &                      & 400           & 4000            & 21917   \\\\\n",
       "\t Argentina  & Mendoza{[}10{]}             & Metrobici            &                   &                                                      & 2014                                    &                      & 2             & 40              &         \\\\\n",
       "\t Argentina  & Rosario                 & Mi Bici Tu Bici{[}11{]}  &                   &                                                      & 2 December 2015                         &                      & 47            & 480             &         \\\\\n",
       "\t Argentina  & San Lorenzo, Santa Fe   & Biciudad             & Biciudad          &                                                      & 27 November 2016                        &                      & 8             & 80              &         \\\\\n",
       "\t Australia  & Melbourne{[}12{]}           & Melbourne Bike Share & PBSC \\& 8D         & Motivate                                             & June 2010                               & 30 November 2019{[}13{]} & 53            & 676             &         \\\\\n",
       "\t Australia  & Melbourne{[}12{]}           & oBike                & 4 Gen. oBike      &                                                      & July 2017                               & July 2018            & dockless      & 1250            &         \\\\\n",
       "\t Australia  & Brisbane{[}14{]}{[}15{]}        & CityCycle            & 3 Gen. Cyclocity  & JCDecaux                                             & September 2010                          &                      & 150           & 2000            &         \\\\\n",
       "\t Australia  & Sydney                  & oBike                & 4 Gen. oBike      &                                                      & July 2017                               & July 2018            & dockless      & 1250            &         \\\\\n",
       "\t Australia  & Sydney                  & Ofo                  & 4 Gen. Ofo        &                                                      & October 2017                            &                      & dockless      & 600             &         \\\\\n",
       "\t Australia  & Sydney                  & Reddy Go             & Reddy Go          &                                                      & July 2017                               &                      &               & 2000            &         \\\\\n",
       "\t Austria    & Burgenland              & LEIHRADL nextbike    & 3 Gen. nextbike   &                                                      & 2009                                    &                      & 40            &                 &         \\\\\n",
       "\t Austria    & Lower Austria{[}16{]}       & LEIHRADL nextbike    & 3 Gen. nextbike   &                                                      & 2009                                    &                      & 295           & 1300            &         \\\\\n",
       "\t Austria    & Salzburg                & nextbike             & 3 Gen. nextbike   &                                                      & 2011                                    &                      &               &                 &         \\\\\n",
       "\t Austria    & Vienna                  & Citybike Wien{[}17{]}    & 3 Gen. Cyclocity  & JCDecaux Gewista                                     & June 2003                               &                      & 121           & 1500            & 2800{[}18{]}\\\\\n",
       "\t Austria    & Vienna                  & Viennabike           & 2 Gen.            & Association and city council                         & April 2002                              & November 2002        & 200           & 1500            &         \\\\\n",
       "\t Austria    & Vorarlberg              &                      & 3 Gen. nextbike   &                                                      & 2009                                    &                      & 14            & 70              &         \\\\\n",
       "\t Bangladesh & Dhaka                   & JoBike               & JoBike            &                                                      & 2018                                    &                      & 05            & 300             &         \\\\\n",
       "\t Belgium    & Different locations{[}19{]} & dBlue-bike           & Blue-bike         & Blue-Mobility                                        & 1 May 2011                              &                      & 70 (2021){[}20{]} & 1790 (2019){[}21{]} &         \\\\\n",
       "\t Belgium    & Antwerp                 & Velo Antwerp{[}22{]}     & 3 Gen. Clear CC   & Service2Cities (subsidiary of Clear Channel Belgium) & 9 June 2011                             &                      & 305 (2021)    & 4200 (2021)     & 7010{[}23{]}\\\\\n",
       "\t Belgium    & Brussels{[}24{]}            & Villo!               & 3 Gen. Cyclocity  & JCDecaux                                             & 19 May 2009 (earlier system since 2006) &                      & 346           & 4115{[}25{]}        &         \\\\\n",
       "\t Belgium    & Namur{[}26{]}               & Libiavelo            & 3 Gen. Cyclocity  & JCDecaux                                             & 21 April 2012                           &                      & 24            & 200             &         \\\\\n",
       "\t Brazil     & Belo Horizonte{[}27{]}      & Bikebh               & Mobilicidade      &                                                      & 2014                                    &                      & 40            & 400             &         \\\\\n",
       "\t Brazil     & Fortaleza               & Bicicletar           & Mobilicidade      &                                                      & 15 December 2014                        &                      & 80            & 800             &         \\\\\n",
       "\t Brazil     & João Pessoa{[}28{]}         & SAMBA                & Mobilicidade      &                                                      &                                         &                      & 3             & 20              &         \\\\\n",
       "\t Brazil     & (Pedro de) Toledo{[}29{]}   & Toopedalando         & Toopedalando      &                                                      & 2011                                    &                      & 6             & 60              &         \\\\\n",
       "\t Brazil     & Rio de Janeiro{[}30{]}      & Bike Rio             & tembici           &                                                      & 2011                                    &                      & 60            & 300             &         \\\\\n",
       "\t Brazil     & Salvador{[}31{]}            & Bike Salvador        & tembici           &                                                      & 2013                                    &                      & 23            &                 &         \\\\\n",
       "\t Brazil     & São Paulo{[}32{]}           & Bikesampa            & tembici           &                                                      & 2012                                    &                      & 241           & 600             &         \\\\\n",
       "\t Brazil     & Sorocaba{[}33{]}            & Integrabike          & tembici           &                                                      & 2012                                    &                      & 15            & 120             &         \\\\\n",
       "\t ... & ... & ... & ... & ... & ... & ... & ... & ... & ...\\\\\n",
       "\t United States & Kansas City, Missouri{[}302{]}             & Kansas City B-cycle         & 3 Gen. B-Cycle                      &                             & 2012             &               & 30  & 300   &            \\\\\n",
       "\t United States & Kona District, Hawaii                  &                             & PBSC                                &                             & 2016             &               & 3   & 30    &            \\\\\n",
       "\t United States & Lansing, Michigan                      & Capital Community Bikeshare & A2B Bikeshare                       &                             & 2014             &               & 8   & 20    & Closed{[}303{]}\\\\\n",
       "\t United States & Lincoln, Nebraska{[}304{]}                 & BikeLNK                     & 3 Gen. B-Cycle                      &                             & 2018             &               & 19  & 100   &            \\\\\n",
       "\t United States & Los Angeles                            & Metro Bike Share            & 3 Gen. B-Cycle                      &                             & 7 July 2016      &               & 207 & 1700  &            \\\\\n",
       "\t United States & Madison, Wisconsin{[}305{]}                & Madison B-Cycle             & 3 Gen. B-Cycle                      &                             & 2011             &               & 39  & 350   &            \\\\\n",
       "\t United States & Meridian, Colorado                     & M-Bike                      & Zagster                             &                             & 15 March 2010    &               & 11  &       &            \\\\\n",
       "\t United States & Miami Beach, Florida{[}306{]}              & Decobike                    & SandVault                           &                             & 2011             &               & 100 & 1000  &            \\\\\n",
       "\t United States & Milwaukee{[}307{]}{[}308{]}                    & Bublr Bikes                 & 3 Gen. B-Cycle                      &                             & 2014             &               & 87  & 400+  &            \\\\\n",
       "\t United States & Minneapolis–Saint Paul{[}309{]}{[}310{]}       & Nice Ride                   & PBSC \\& 8D                           &                             & 2010             &               & 171 & 1833  &            \\\\\n",
       "\t United States & New York City{[}311{]}{[}312{]}{[}313{]}{[}314{]}{[}315{]} & Citi Bike                   & PBSC \\& 8D                           & Motivate                    & 27 May 2013      &               & 739 & 20000 & 65000      \\\\\n",
       "\t United States & Oklahoma City{[}316{]}                     & Spokies                     & Spokies                             &                             & 2012             &               & 7   & 100   &            \\\\\n",
       "\t United States & Omaha, Nebraska{[}317{]}                   & Omaha B-Cycle               & 3 Gen. B-Cycle                      &                             & 2011             &               & 5   & 35    &            \\\\\n",
       "\t United States & Philadelphia{[}318{]}{[}319{]}                 & Indego                      & 3 Gen. B-Cycle (incl. some e-bikes  &                             & 23 April 2015    &               & 125 & 1400  &            \\\\\n",
       "\t United States & Phoenix, Arizona                       & Grid Bike Share             & 3 Gen. CycleHop and Social Bicycles &                             & 25 November 2014 &               & 40  & 500   &            \\\\\n",
       "\t United States & Pittsburgh                             & Healthy Ride PGH            & 3 Gen. nextbike                     &                             & 2015             &               & 50  & 500   &            \\\\\n",
       "\t United States & Portland, Oregon                       & Biketown                    &                                     &                             & 19 July 2016     &               & 100 & 1000  &            \\\\\n",
       "\t United States & Portland, Oregon                       & Yellow Bike Project         & 1 Gen. WhiteBikes                   & Yellow Bike Project         & 1994{[}320{]}        & 1997{[}321{]}     &     & 1000  &            \\\\\n",
       "\t United States & Salt Lake City{[}322{]}                    & SLC Bike Share              & 3 Gen. B-Cycle                      &                             & 2013             &               & 12  & 100   &            \\\\\n",
       "\t United States & San Antonio{[}323{]}                       & San Antonio B-Cycle         & 3 Gen. B-Cycle                      &                             & 2011             &               & 68  & 600   &            \\\\\n",
       "\t United States & San Diego{[}324{]}                         & DecoBike                    & DecoBike                            & JCDecaux                    & February 2015    &               & 180 & 1800  &            \\\\\n",
       "\t United States & San Francisco Bay Area                 &                             &                                     &                             & 2013             &               &     &       &            \\\\\n",
       "\t United States & San Francisco Bay Area                 & Baywheels                   & 8D                                  & Motivate                    & June 2017        &               & 550 & 7000  &            \\\\\n",
       "\t United States & Santa Monica, California{[}325{]}          & Breeze Bike Share           & 3 Gen. CycleHop and Social Bicycles &                             & 13 August 2015   &               & 80  & 500   &            \\\\\n",
       "\t United States & Savannah, Georgia{[}326{]}                 & CAT Bike                    & 3 Gen. B-Cycle                      &                             & 24 January 2014  &               & 2   & 16    &            \\\\\n",
       "\t United States & Seattle{[}327{]}                           & Pronto Cycle Share          & 8D                                  & Motivate                    & 13 October 2014  & 31 March 2017 & 50  & 500   &            \\\\\n",
       "\t United States & Spartanburg, South Carolina{[}328{]}       & Spartanburg B-Cycle         & 3 Gen. B-Cycle                      &                             & 2011             &               & 5   & 40    &            \\\\\n",
       "\t United States & St. Paul                               & Yellow Bike Project         & 1 Gen. w/ BikeCard                  & volunteers and city council & 1997             &               &     &       &            \\\\\n",
       "\t United States & Tampa, Florida{[}329{]}                    & Coast Bike Share            & 3 Gen. CycleHop and Social Bicycles &                             & 7 December 2014  &               & 30  & 300   &            \\\\\n",
       "\t United States & Washington metropolitan area{[}330{]}      & Capital Bikeshare           & PBSC \\& 8D                           & Motivate                    & 2010             &               & 658 & 5,400 &            \\\\\n",
       "\\end{tabular}\n",
       "\n",
       "\\end{enumerate}\n"
      ],
      "text/markdown": [
       "1. \n",
       "A tibble: 515 × 10\n",
       "\n",
       "| Country &lt;chr&gt; | City &lt;chr&gt; | Name &lt;chr&gt; | System &lt;chr&gt; | Operator &lt;chr&gt; | Launched &lt;chr&gt; | Discontinued &lt;chr&gt; | Stations &lt;chr&gt; | Bicycles &lt;chr&gt; | Daily ridership &lt;chr&gt; |\n",
       "|---|---|---|---|---|---|---|---|---|---|\n",
       "| Albania    | Tirana[5]               | Ecovolis             | <!----> | <!----> | March 2011                              | <!----> | 8             | 200             | <!----> |\n",
       "| Argentina  | Buenos Aires[6][7]      | Ecobici              | Serttel Brasil[8] | Bike In Baires Consortium.[9]                        | 2010                                    | <!----> | 400           | 4000            | 21917    |\n",
       "| Argentina  | Mendoza[10]             | Metrobici            | <!----> | <!----> | 2014                                    | <!----> | 2             | 40              | <!----> |\n",
       "| Argentina  | Rosario                 | Mi Bici Tu Bici[11]  | <!----> | <!----> | 2 December 2015                         | <!----> | 47            | 480             | <!----> |\n",
       "| Argentina  | San Lorenzo, Santa Fe   | Biciudad             | Biciudad          | <!----> | 27 November 2016                        | <!----> | 8             | 80              | <!----> |\n",
       "| Australia  | Melbourne[12]           | Melbourne Bike Share | PBSC &amp; 8D         | Motivate                                             | June 2010                               | 30 November 2019[13] | 53            | 676             | <!----> |\n",
       "| Australia  | Melbourne[12]           | oBike                | 4 Gen. oBike      | <!----> | July 2017                               | July 2018            | dockless      | 1250            | <!----> |\n",
       "| Australia  | Brisbane[14][15]        | CityCycle            | 3 Gen. Cyclocity  | JCDecaux                                             | September 2010                          | <!----> | 150           | 2000            | <!----> |\n",
       "| Australia  | Sydney                  | oBike                | 4 Gen. oBike      | <!----> | July 2017                               | July 2018            | dockless      | 1250            | <!----> |\n",
       "| Australia  | Sydney                  | Ofo                  | 4 Gen. Ofo        | <!----> | October 2017                            | <!----> | dockless      | 600             | <!----> |\n",
       "| Australia  | Sydney                  | Reddy Go             | Reddy Go          | <!----> | July 2017                               | <!----> | <!----> | 2000            | <!----> |\n",
       "| Austria    | Burgenland              | LEIHRADL nextbike    | 3 Gen. nextbike   | <!----> | 2009                                    | <!----> | 40            | <!----> | <!----> |\n",
       "| Austria    | Lower Austria[16]       | LEIHRADL nextbike    | 3 Gen. nextbike   | <!----> | 2009                                    | <!----> | 295           | 1300            | <!----> |\n",
       "| Austria    | Salzburg                | nextbike             | 3 Gen. nextbike   | <!----> | 2011                                    | <!----> | <!----> | <!----> | <!----> |\n",
       "| Austria    | Vienna                  | Citybike Wien[17]    | 3 Gen. Cyclocity  | JCDecaux Gewista                                     | June 2003                               | <!----> | 121           | 1500            | 2800[18] |\n",
       "| Austria    | Vienna                  | Viennabike           | 2 Gen.            | Association and city council                         | April 2002                              | November 2002        | 200           | 1500            | <!----> |\n",
       "| Austria    | Vorarlberg              | <!----> | 3 Gen. nextbike   | <!----> | 2009                                    | <!----> | 14            | 70              | <!----> |\n",
       "| Bangladesh | Dhaka                   | JoBike               | JoBike            | <!----> | 2018                                    | <!----> | 05            | 300             | <!----> |\n",
       "| Belgium    | Different locations[19] | dBlue-bike           | Blue-bike         | Blue-Mobility                                        | 1 May 2011                              | <!----> | 70 (2021)[20] | 1790 (2019)[21] | <!----> |\n",
       "| Belgium    | Antwerp                 | Velo Antwerp[22]     | 3 Gen. Clear CC   | Service2Cities (subsidiary of Clear Channel Belgium) | 9 June 2011                             | <!----> | 305 (2021)    | 4200 (2021)     | 7010[23] |\n",
       "| Belgium    | Brussels[24]            | Villo!               | 3 Gen. Cyclocity  | JCDecaux                                             | 19 May 2009 (earlier system since 2006) | <!----> | 346           | 4115[25]        | <!----> |\n",
       "| Belgium    | Namur[26]               | Libiavelo            | 3 Gen. Cyclocity  | JCDecaux                                             | 21 April 2012                           | <!----> | 24            | 200             | <!----> |\n",
       "| Brazil     | Belo Horizonte[27]      | Bikebh               | Mobilicidade      | <!----> | 2014                                    | <!----> | 40            | 400             | <!----> |\n",
       "| Brazil     | Fortaleza               | Bicicletar           | Mobilicidade      | <!----> | 15 December 2014                        | <!----> | 80            | 800             | <!----> |\n",
       "| Brazil     | João Pessoa[28]         | SAMBA                | Mobilicidade      | <!----> | <!----> | <!----> | 3             | 20              | <!----> |\n",
       "| Brazil     | (Pedro de) Toledo[29]   | Toopedalando         | Toopedalando      | <!----> | 2011                                    | <!----> | 6             | 60              | <!----> |\n",
       "| Brazil     | Rio de Janeiro[30]      | Bike Rio             | tembici           | <!----> | 2011                                    | <!----> | 60            | 300             | <!----> |\n",
       "| Brazil     | Salvador[31]            | Bike Salvador        | tembici           | <!----> | 2013                                    | <!----> | 23            | <!----> | <!----> |\n",
       "| Brazil     | São Paulo[32]           | Bikesampa            | tembici           | <!----> | 2012                                    | <!----> | 241           | 600             | <!----> |\n",
       "| Brazil     | Sorocaba[33]            | Integrabike          | tembici           | <!----> | 2012                                    | <!----> | 15            | 120             | <!----> |\n",
       "| ... | ... | ... | ... | ... | ... | ... | ... | ... | ... |\n",
       "| United States | Kansas City, Missouri[302]             | Kansas City B-cycle         | 3 Gen. B-Cycle                      | <!----> | 2012             | <!----> | 30  | 300   | <!----> |\n",
       "| United States | Kona District, Hawaii                  | <!----> | PBSC                                | <!----> | 2016             | <!----> | 3   | 30    | <!----> |\n",
       "| United States | Lansing, Michigan                      | Capital Community Bikeshare | A2B Bikeshare                       | <!----> | 2014             | <!----> | 8   | 20    | Closed[303] |\n",
       "| United States | Lincoln, Nebraska[304]                 | BikeLNK                     | 3 Gen. B-Cycle                      | <!----> | 2018             | <!----> | 19  | 100   | <!----> |\n",
       "| United States | Los Angeles                            | Metro Bike Share            | 3 Gen. B-Cycle                      | <!----> | 7 July 2016      | <!----> | 207 | 1700  | <!----> |\n",
       "| United States | Madison, Wisconsin[305]                | Madison B-Cycle             | 3 Gen. B-Cycle                      | <!----> | 2011             | <!----> | 39  | 350   | <!----> |\n",
       "| United States | Meridian, Colorado                     | M-Bike                      | Zagster                             | <!----> | 15 March 2010    | <!----> | 11  | <!----> | <!----> |\n",
       "| United States | Miami Beach, Florida[306]              | Decobike                    | SandVault                           | <!----> | 2011             | <!----> | 100 | 1000  | <!----> |\n",
       "| United States | Milwaukee[307][308]                    | Bublr Bikes                 | 3 Gen. B-Cycle                      | <!----> | 2014             | <!----> | 87  | 400+  | <!----> |\n",
       "| United States | Minneapolis–Saint Paul[309][310]       | Nice Ride                   | PBSC &amp; 8D                           | <!----> | 2010             | <!----> | 171 | 1833  | <!----> |\n",
       "| United States | New York City[311][312][313][314][315] | Citi Bike                   | PBSC &amp; 8D                           | Motivate                    | 27 May 2013      | <!----> | 739 | 20000 | 65000       |\n",
       "| United States | Oklahoma City[316]                     | Spokies                     | Spokies                             | <!----> | 2012             | <!----> | 7   | 100   | <!----> |\n",
       "| United States | Omaha, Nebraska[317]                   | Omaha B-Cycle               | 3 Gen. B-Cycle                      | <!----> | 2011             | <!----> | 5   | 35    | <!----> |\n",
       "| United States | Philadelphia[318][319]                 | Indego                      | 3 Gen. B-Cycle (incl. some e-bikes  | <!----> | 23 April 2015    | <!----> | 125 | 1400  | <!----> |\n",
       "| United States | Phoenix, Arizona                       | Grid Bike Share             | 3 Gen. CycleHop and Social Bicycles | <!----> | 25 November 2014 | <!----> | 40  | 500   | <!----> |\n",
       "| United States | Pittsburgh                             | Healthy Ride PGH            | 3 Gen. nextbike                     | <!----> | 2015             | <!----> | 50  | 500   | <!----> |\n",
       "| United States | Portland, Oregon                       | Biketown                    | <!----> | <!----> | 19 July 2016     | <!----> | 100 | 1000  | <!----> |\n",
       "| United States | Portland, Oregon                       | Yellow Bike Project         | 1 Gen. WhiteBikes                   | Yellow Bike Project         | 1994[320]        | 1997[321]     | <!----> | 1000  | <!----> |\n",
       "| United States | Salt Lake City[322]                    | SLC Bike Share              | 3 Gen. B-Cycle                      | <!----> | 2013             | <!----> | 12  | 100   | <!----> |\n",
       "| United States | San Antonio[323]                       | San Antonio B-Cycle         | 3 Gen. B-Cycle                      | <!----> | 2011             | <!----> | 68  | 600   | <!----> |\n",
       "| United States | San Diego[324]                         | DecoBike                    | DecoBike                            | JCDecaux                    | February 2015    | <!----> | 180 | 1800  | <!----> |\n",
       "| United States | San Francisco Bay Area                 | <!----> | <!----> | <!----> | 2013             | <!----> | <!----> | <!----> | <!----> |\n",
       "| United States | San Francisco Bay Area                 | Baywheels                   | 8D                                  | Motivate                    | June 2017        | <!----> | 550 | 7000  | <!----> |\n",
       "| United States | Santa Monica, California[325]          | Breeze Bike Share           | 3 Gen. CycleHop and Social Bicycles | <!----> | 13 August 2015   | <!----> | 80  | 500   | <!----> |\n",
       "| United States | Savannah, Georgia[326]                 | CAT Bike                    | 3 Gen. B-Cycle                      | <!----> | 24 January 2014  | <!----> | 2   | 16    | <!----> |\n",
       "| United States | Seattle[327]                           | Pronto Cycle Share          | 8D                                  | Motivate                    | 13 October 2014  | 31 March 2017 | 50  | 500   | <!----> |\n",
       "| United States | Spartanburg, South Carolina[328]       | Spartanburg B-Cycle         | 3 Gen. B-Cycle                      | <!----> | 2011             | <!----> | 5   | 40    | <!----> |\n",
       "| United States | St. Paul                               | Yellow Bike Project         | 1 Gen. w/ BikeCard                  | volunteers and city council | 1997             | <!----> | <!----> | <!----> | <!----> |\n",
       "| United States | Tampa, Florida[329]                    | Coast Bike Share            | 3 Gen. CycleHop and Social Bicycles | <!----> | 7 December 2014  | <!----> | 30  | 300   | <!----> |\n",
       "| United States | Washington metropolitan area[330]      | Capital Bikeshare           | PBSC &amp; 8D                           | Motivate                    | 2010             | <!----> | 658 | 5,400 | <!----> |\n",
       "\n",
       "\n",
       "\n",
       "\n"
      ],
      "text/plain": [
       "[[1]]\n",
       "\u001b[90m# A tibble: 515 x 10\u001b[39m\n",
       "   Country   City  Name  System Operator Launched Discontinued Stations Bicycles\n",
       "   \u001b[3m\u001b[90m<chr>\u001b[39m\u001b[23m     \u001b[3m\u001b[90m<chr>\u001b[39m\u001b[23m \u001b[3m\u001b[90m<chr>\u001b[39m\u001b[23m \u001b[3m\u001b[90m<chr>\u001b[39m\u001b[23m  \u001b[3m\u001b[90m<chr>\u001b[39m\u001b[23m    \u001b[3m\u001b[90m<chr>\u001b[39m\u001b[23m    \u001b[3m\u001b[90m<chr>\u001b[39m\u001b[23m        \u001b[3m\u001b[90m<chr>\u001b[39m\u001b[23m    \u001b[3m\u001b[90m<chr>\u001b[39m\u001b[23m   \n",
       "\u001b[90m 1\u001b[39m Albania   Tira~ Ecov~ \u001b[90m\"\u001b[39m\u001b[90m\"\u001b[39m     \u001b[90m\"\u001b[39m\u001b[90m\"\u001b[39m       March 2~ \u001b[90m\"\u001b[39m\u001b[90m\"\u001b[39m           8        200     \n",
       "\u001b[90m 2\u001b[39m Argentina Buen~ Ecob~ \u001b[90m\"\u001b[39mSert~ \u001b[90m\"\u001b[39mBike I~ 2010     \u001b[90m\"\u001b[39m\u001b[90m\"\u001b[39m           400      4000    \n",
       "\u001b[90m 3\u001b[39m Argentina Mend~ Metr~ \u001b[90m\"\u001b[39m\u001b[90m\"\u001b[39m     \u001b[90m\"\u001b[39m\u001b[90m\"\u001b[39m       2014     \u001b[90m\"\u001b[39m\u001b[90m\"\u001b[39m           2        40      \n",
       "\u001b[90m 4\u001b[39m Argentina Rosa~ Mi B~ \u001b[90m\"\u001b[39m\u001b[90m\"\u001b[39m     \u001b[90m\"\u001b[39m\u001b[90m\"\u001b[39m       2 Decem~ \u001b[90m\"\u001b[39m\u001b[90m\"\u001b[39m           47       480     \n",
       "\u001b[90m 5\u001b[39m Argentina San ~ Bici~ \u001b[90m\"\u001b[39mBici~ \u001b[90m\"\u001b[39m\u001b[90m\"\u001b[39m       27 Nove~ \u001b[90m\"\u001b[39m\u001b[90m\"\u001b[39m           8        80      \n",
       "\u001b[90m 6\u001b[39m Australia Melb~ Melb~ \u001b[90m\"\u001b[39mPBSC~ \u001b[90m\"\u001b[39mMotiva~ June 20~ \u001b[90m\"\u001b[39m30 Novembe~ 53       676     \n",
       "\u001b[90m 7\u001b[39m Australia Melb~ oBike \u001b[90m\"\u001b[39m4 Ge~ \u001b[90m\"\u001b[39m\u001b[90m\"\u001b[39m       July 20~ \u001b[90m\"\u001b[39mJuly 2018\u001b[90m\"\u001b[39m  dockless 1250    \n",
       "\u001b[90m 8\u001b[39m Australia Bris~ City~ \u001b[90m\"\u001b[39m3 Ge~ \u001b[90m\"\u001b[39mJCDeca~ Septemb~ \u001b[90m\"\u001b[39m\u001b[90m\"\u001b[39m           150      2000    \n",
       "\u001b[90m 9\u001b[39m Australia Sydn~ oBike \u001b[90m\"\u001b[39m4 Ge~ \u001b[90m\"\u001b[39m\u001b[90m\"\u001b[39m       July 20~ \u001b[90m\"\u001b[39mJuly 2018\u001b[90m\"\u001b[39m  dockless 1250    \n",
       "\u001b[90m10\u001b[39m Australia Sydn~ Ofo   \u001b[90m\"\u001b[39m4 Ge~ \u001b[90m\"\u001b[39m\u001b[90m\"\u001b[39m       October~ \u001b[90m\"\u001b[39m\u001b[90m\"\u001b[39m           dockless 600     \n",
       "\u001b[90m# ... with 505 more rows, and 1 more variable: `Daily ridership` <chr>\u001b[39m\n"
      ]
     },
     "metadata": {},
     "output_type": "display_data"
    }
   ],
   "source": [
    "# Convert the bike-sharing system table into a dataframe\n",
    "root_node<- read_html(url)\n",
    "root_node\n",
    "child_node<- html_nodes(root_node,\"table\")\n",
    "\n",
    "tables <-html_table(child_node[2],header=TRUE)\n",
    "head(tables)"
   ]
  },
  {
   "cell_type": "markdown",
   "metadata": {},
   "source": [
    "Summarize the bike sharing system data frame\n"
   ]
  },
  {
   "cell_type": "code",
   "execution_count": 20,
   "metadata": {},
   "outputs": [
    {
     "data": {
      "text/plain": [
       "     Length Class  Mode\n",
       "[1,]  2     tbl_df list\n",
       "[2,] 10     tbl_df list\n",
       "[3,] 10     tbl_df list\n",
       "[4,]  2     tbl_df list\n",
       "[5,]  2     tbl_df list"
      ]
     },
     "metadata": {},
     "output_type": "display_data"
    }
   ],
   "source": [
    "# Summarize the dataframe\n",
    "summary(tables)\n",
    "tables"
   ]
  },
  {
   "cell_type": "markdown",
   "metadata": {},
   "source": [
    "Export the data frame as a csv file called `raw_bike_sharing_systems.csv`\n"
   ]
  },
  {
   "cell_type": "code",
   "execution_count": 22,
   "metadata": {},
   "outputs": [],
   "source": [
    "# Export the dataframe into a csv file\n",
    "bike_sharing<-write.csv(tables,file=\"D:\\\\raw_bike_sharing_system.csv\",row.names=FALSE)"
   ]
  },
  {
   "cell_type": "markdown",
   "metadata": {},
   "source": [
    "For more details about webscraping with `rvest`, please refer to the previous webscraping notebook here:\n",
    "\n",
    "[Webscraping in R](https://cf-courses-data.s3.us.cloud-object-storage.appdomain.cloud/IBMDeveloperSkillsNetwork-RP0101EN-Coursera/v2/M4\\_Working_With_Data/lab3\\_jupyter_webscraping.ipynb)\n"
   ]
  },
  {
   "cell_type": "markdown",
   "metadata": {},
   "source": [
    "## Authors\n",
    "\n",
    "<a href=\"https://www.linkedin.com/in/yan-luo-96288783/?utm_medium=Exinfluencer&utm_source=Exinfluencer&utm_content=000026UJ&utm_term=10006555&utm_id=NA-SkillsNetwork-Channel-SkillsNetworkCoursesIBMDeveloperSkillsNetworkRP0321ENSkillsNetwork25371262-2022-01-01\" target=\"_blank\">Yan Luo</a>\n"
   ]
  },
  {
   "cell_type": "markdown",
   "metadata": {},
   "source": [
    "### Other Contributors\n"
   ]
  },
  {
   "cell_type": "markdown",
   "metadata": {},
   "source": [
    "## Change Log\n",
    "\n",
    "| Date (YYYY-MM-DD) | Version | Changed By | Change Description      |\n",
    "| ----------------- | ------- | ---------- | ----------------------- |\n",
    "| 2021-04-05        | 0.1     | Yan        | Initial version created |\n",
    "|                   |         |            |                         |\n",
    "|                   |         |            |                         |\n",
    "\n",
    "## <h3 align=\"center\"> © IBM Corporation 2021. All rights reserved. <h3/>\n"
   ]
  }
 ],
 "metadata": {
  "kernelspec": {
   "display_name": "R",
   "language": "R",
   "name": "ir"
  },
  "language_info": {
   "codemirror_mode": "r",
   "file_extension": ".r",
   "mimetype": "text/x-r-source",
   "name": "R",
   "pygments_lexer": "r",
   "version": "4.1.3"
  }
 },
 "nbformat": 4,
 "nbformat_minor": 4
}
